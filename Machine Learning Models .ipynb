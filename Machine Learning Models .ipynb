{
  "cells": [
    {
      "cell_type": "markdown",
      "metadata": {
        "id": "GwkoiYM1tLVd"
      },
      "source": [
        "# **Project Passwaord strength analysis using classical models**"
      ]
    },
    {
      "cell_type": "markdown",
      "metadata": {
        "id": "_iqdan2BtqlG"
      },
      "source": [
        "# Import necessary libraries"
      ]
    },
    {
      "cell_type": "code",
      "execution_count": null,
      "metadata": {
        "id": "AnvHq972sGCW"
      },
      "outputs": [],
      "source": [
        "#load libraries\n",
        "import pandas as pd      #machine learning tools\n",
        "import numpy as np       #multi dimension and nemeric functions\n",
        "import seaborn as sns    #uses Matplotlib underneath to plot graphs."
      ]
    },
    {
      "cell_type": "markdown",
      "metadata": {
        "id": "WdblcGIot4oU"
      },
      "source": [
        "# Read and load dataset "
      ]
    },
    {
      "cell_type": "code",
      "execution_count": null,
      "metadata": {
        "id": "nIUi9Y0Stpz1",
        "colab": {
          "base_uri": "https://localhost:8080/"
        },
        "outputId": "2cab4886-4c2c-4b9d-b6ac-15368c3ac627"
      },
      "outputs": [
        {
          "output_type": "stream",
          "name": "stderr",
          "text": [
            "<ipython-input-2-1b206e2c6846>:1: FutureWarning: The error_bad_lines argument has been deprecated and will be removed in a future version. Use on_bad_lines in the future.\n",
            "\n",
            "\n",
            "  data=pd.read_csv(\"data.csv\",error_bad_lines=False)\n",
            "b'Skipping line 2810: expected 2 fields, saw 5\\nSkipping line 4641: expected 2 fields, saw 5\\nSkipping line 7171: expected 2 fields, saw 5\\nSkipping line 11220: expected 2 fields, saw 5\\nSkipping line 13809: expected 2 fields, saw 5\\nSkipping line 14132: expected 2 fields, saw 5\\nSkipping line 14293: expected 2 fields, saw 5\\nSkipping line 14865: expected 2 fields, saw 5\\nSkipping line 17419: expected 2 fields, saw 5\\nSkipping line 22801: expected 2 fields, saw 5\\nSkipping line 25001: expected 2 fields, saw 5\\nSkipping line 26603: expected 2 fields, saw 5\\nSkipping line 26742: expected 2 fields, saw 5\\nSkipping line 29702: expected 2 fields, saw 5\\nSkipping line 32767: expected 2 fields, saw 5\\nSkipping line 32878: expected 2 fields, saw 5\\nSkipping line 35643: expected 2 fields, saw 5\\nSkipping line 36550: expected 2 fields, saw 5\\nSkipping line 38732: expected 2 fields, saw 5\\nSkipping line 40567: expected 2 fields, saw 5\\nSkipping line 40576: expected 2 fields, saw 5\\nSkipping line 41864: expected 2 fields, saw 5\\nSkipping line 46861: expected 2 fields, saw 5\\nSkipping line 47939: expected 2 fields, saw 5\\nSkipping line 48628: expected 2 fields, saw 5\\nSkipping line 48908: expected 2 fields, saw 5\\nSkipping line 57582: expected 2 fields, saw 5\\nSkipping line 58782: expected 2 fields, saw 5\\nSkipping line 58984: expected 2 fields, saw 5\\nSkipping line 61518: expected 2 fields, saw 5\\nSkipping line 63451: expected 2 fields, saw 5\\nSkipping line 68141: expected 2 fields, saw 5\\nSkipping line 72083: expected 2 fields, saw 5\\nSkipping line 74027: expected 2 fields, saw 5\\nSkipping line 77811: expected 2 fields, saw 5\\nSkipping line 83958: expected 2 fields, saw 5\\nSkipping line 85295: expected 2 fields, saw 5\\nSkipping line 88665: expected 2 fields, saw 5\\nSkipping line 89198: expected 2 fields, saw 5\\nSkipping line 92499: expected 2 fields, saw 5\\nSkipping line 92751: expected 2 fields, saw 5\\nSkipping line 93689: expected 2 fields, saw 5\\nSkipping line 94776: expected 2 fields, saw 5\\nSkipping line 97334: expected 2 fields, saw 5\\nSkipping line 102316: expected 2 fields, saw 5\\nSkipping line 103421: expected 2 fields, saw 5\\nSkipping line 106872: expected 2 fields, saw 5\\nSkipping line 109363: expected 2 fields, saw 5\\nSkipping line 110117: expected 2 fields, saw 5\\nSkipping line 110465: expected 2 fields, saw 5\\nSkipping line 113843: expected 2 fields, saw 5\\nSkipping line 115634: expected 2 fields, saw 5\\nSkipping line 121518: expected 2 fields, saw 5\\nSkipping line 123692: expected 2 fields, saw 5\\nSkipping line 124708: expected 2 fields, saw 5\\nSkipping line 129608: expected 2 fields, saw 5\\nSkipping line 133176: expected 2 fields, saw 5\\nSkipping line 135532: expected 2 fields, saw 5\\nSkipping line 138042: expected 2 fields, saw 5\\nSkipping line 139485: expected 2 fields, saw 5\\nSkipping line 140401: expected 2 fields, saw 5\\nSkipping line 144093: expected 2 fields, saw 5\\nSkipping line 149850: expected 2 fields, saw 5\\nSkipping line 151831: expected 2 fields, saw 5\\nSkipping line 158014: expected 2 fields, saw 5\\nSkipping line 162047: expected 2 fields, saw 5\\nSkipping line 164515: expected 2 fields, saw 5\\nSkipping line 170313: expected 2 fields, saw 5\\nSkipping line 171325: expected 2 fields, saw 5\\nSkipping line 171424: expected 2 fields, saw 5\\nSkipping line 175920: expected 2 fields, saw 5\\nSkipping line 176210: expected 2 fields, saw 5\\nSkipping line 183603: expected 2 fields, saw 5\\nSkipping line 190264: expected 2 fields, saw 5\\nSkipping line 191683: expected 2 fields, saw 5\\nSkipping line 191988: expected 2 fields, saw 5\\nSkipping line 195450: expected 2 fields, saw 5\\nSkipping line 195754: expected 2 fields, saw 5\\nSkipping line 197124: expected 2 fields, saw 5\\nSkipping line 199263: expected 2 fields, saw 5\\nSkipping line 202603: expected 2 fields, saw 5\\nSkipping line 209960: expected 2 fields, saw 5\\nSkipping line 213218: expected 2 fields, saw 5\\nSkipping line 217060: expected 2 fields, saw 5\\nSkipping line 220121: expected 2 fields, saw 5\\nSkipping line 223518: expected 2 fields, saw 5\\nSkipping line 226293: expected 2 fields, saw 5\\nSkipping line 227035: expected 2 fields, saw 7\\nSkipping line 227341: expected 2 fields, saw 5\\nSkipping line 227808: expected 2 fields, saw 5\\nSkipping line 228516: expected 2 fields, saw 5\\nSkipping line 228733: expected 2 fields, saw 5\\nSkipping line 232043: expected 2 fields, saw 5\\nSkipping line 232426: expected 2 fields, saw 5\\nSkipping line 234490: expected 2 fields, saw 5\\nSkipping line 239626: expected 2 fields, saw 5\\nSkipping line 240461: expected 2 fields, saw 5\\nSkipping line 244518: expected 2 fields, saw 5\\nSkipping line 245395: expected 2 fields, saw 5\\nSkipping line 246168: expected 2 fields, saw 5\\nSkipping line 246655: expected 2 fields, saw 5\\nSkipping line 246752: expected 2 fields, saw 5\\nSkipping line 247189: expected 2 fields, saw 5\\nSkipping line 250276: expected 2 fields, saw 5\\nSkipping line 255327: expected 2 fields, saw 5\\nSkipping line 257094: expected 2 fields, saw 5\\n'\n",
            "b'Skipping line 264626: expected 2 fields, saw 5\\nSkipping line 265028: expected 2 fields, saw 5\\nSkipping line 269150: expected 2 fields, saw 5\\nSkipping line 271360: expected 2 fields, saw 5\\nSkipping line 273975: expected 2 fields, saw 5\\nSkipping line 274742: expected 2 fields, saw 5\\nSkipping line 276227: expected 2 fields, saw 5\\nSkipping line 279807: expected 2 fields, saw 5\\nSkipping line 283425: expected 2 fields, saw 5\\nSkipping line 287468: expected 2 fields, saw 5\\nSkipping line 292995: expected 2 fields, saw 5\\nSkipping line 293496: expected 2 fields, saw 5\\nSkipping line 293735: expected 2 fields, saw 5\\nSkipping line 295060: expected 2 fields, saw 5\\nSkipping line 296643: expected 2 fields, saw 5\\nSkipping line 296848: expected 2 fields, saw 5\\nSkipping line 308926: expected 2 fields, saw 5\\nSkipping line 310360: expected 2 fields, saw 5\\nSkipping line 317004: expected 2 fields, saw 5\\nSkipping line 318207: expected 2 fields, saw 5\\nSkipping line 331783: expected 2 fields, saw 5\\nSkipping line 333864: expected 2 fields, saw 5\\nSkipping line 335958: expected 2 fields, saw 5\\nSkipping line 336290: expected 2 fields, saw 5\\nSkipping line 343526: expected 2 fields, saw 5\\nSkipping line 343857: expected 2 fields, saw 5\\nSkipping line 344059: expected 2 fields, saw 5\\nSkipping line 348691: expected 2 fields, saw 5\\nSkipping line 353446: expected 2 fields, saw 5\\nSkipping line 357073: expected 2 fields, saw 5\\nSkipping line 359753: expected 2 fields, saw 5\\nSkipping line 359974: expected 2 fields, saw 5\\nSkipping line 366534: expected 2 fields, saw 5\\nSkipping line 369514: expected 2 fields, saw 5\\nSkipping line 377759: expected 2 fields, saw 5\\nSkipping line 379327: expected 2 fields, saw 5\\nSkipping line 380769: expected 2 fields, saw 5\\nSkipping line 381073: expected 2 fields, saw 5\\nSkipping line 381489: expected 2 fields, saw 5\\nSkipping line 386304: expected 2 fields, saw 5\\nSkipping line 387635: expected 2 fields, saw 5\\nSkipping line 389613: expected 2 fields, saw 5\\nSkipping line 392604: expected 2 fields, saw 5\\nSkipping line 393184: expected 2 fields, saw 5\\nSkipping line 395530: expected 2 fields, saw 5\\nSkipping line 396939: expected 2 fields, saw 5\\nSkipping line 397385: expected 2 fields, saw 5\\nSkipping line 397509: expected 2 fields, saw 5\\nSkipping line 402902: expected 2 fields, saw 5\\nSkipping line 405187: expected 2 fields, saw 5\\nSkipping line 408412: expected 2 fields, saw 5\\nSkipping line 419423: expected 2 fields, saw 5\\nSkipping line 420962: expected 2 fields, saw 5\\nSkipping line 425965: expected 2 fields, saw 5\\nSkipping line 427496: expected 2 fields, saw 5\\nSkipping line 438881: expected 2 fields, saw 5\\nSkipping line 439776: expected 2 fields, saw 5\\nSkipping line 440345: expected 2 fields, saw 5\\nSkipping line 445507: expected 2 fields, saw 5\\nSkipping line 445548: expected 2 fields, saw 5\\nSkipping line 447184: expected 2 fields, saw 5\\nSkipping line 448603: expected 2 fields, saw 5\\nSkipping line 451732: expected 2 fields, saw 5\\nSkipping line 458249: expected 2 fields, saw 5\\nSkipping line 460274: expected 2 fields, saw 5\\nSkipping line 467630: expected 2 fields, saw 5\\nSkipping line 473961: expected 2 fields, saw 5\\nSkipping line 476281: expected 2 fields, saw 5\\nSkipping line 478010: expected 2 fields, saw 5\\nSkipping line 478322: expected 2 fields, saw 5\\nSkipping line 479999: expected 2 fields, saw 5\\nSkipping line 480898: expected 2 fields, saw 5\\nSkipping line 481688: expected 2 fields, saw 5\\nSkipping line 485193: expected 2 fields, saw 5\\nSkipping line 485519: expected 2 fields, saw 5\\nSkipping line 486000: expected 2 fields, saw 5\\nSkipping line 489063: expected 2 fields, saw 5\\nSkipping line 494525: expected 2 fields, saw 5\\nSkipping line 495009: expected 2 fields, saw 5\\nSkipping line 501954: expected 2 fields, saw 5\\nSkipping line 508035: expected 2 fields, saw 5\\nSkipping line 508828: expected 2 fields, saw 5\\nSkipping line 509833: expected 2 fields, saw 5\\nSkipping line 510410: expected 2 fields, saw 5\\nSkipping line 518229: expected 2 fields, saw 5\\nSkipping line 520302: expected 2 fields, saw 5\\nSkipping line 520340: expected 2 fields, saw 5\\n'\n",
            "b'Skipping line 525174: expected 2 fields, saw 5\\nSkipping line 526251: expected 2 fields, saw 5\\nSkipping line 529611: expected 2 fields, saw 5\\nSkipping line 531398: expected 2 fields, saw 5\\nSkipping line 534146: expected 2 fields, saw 5\\nSkipping line 544954: expected 2 fields, saw 5\\nSkipping line 553002: expected 2 fields, saw 5\\nSkipping line 553883: expected 2 fields, saw 5\\nSkipping line 553887: expected 2 fields, saw 5\\nSkipping line 553915: expected 2 fields, saw 5\\nSkipping line 554172: expected 2 fields, saw 5\\nSkipping line 563534: expected 2 fields, saw 5\\nSkipping line 565191: expected 2 fields, saw 5\\nSkipping line 574108: expected 2 fields, saw 5\\nSkipping line 574412: expected 2 fields, saw 5\\nSkipping line 575985: expected 2 fields, saw 5\\nSkipping line 580091: expected 2 fields, saw 5\\nSkipping line 582682: expected 2 fields, saw 5\\nSkipping line 585885: expected 2 fields, saw 5\\nSkipping line 590171: expected 2 fields, saw 5\\nSkipping line 591924: expected 2 fields, saw 5\\nSkipping line 592515: expected 2 fields, saw 5\\nSkipping line 593888: expected 2 fields, saw 5\\nSkipping line 596245: expected 2 fields, saw 5\\nSkipping line 607344: expected 2 fields, saw 5\\nSkipping line 607633: expected 2 fields, saw 5\\nSkipping line 610939: expected 2 fields, saw 5\\nSkipping line 613638: expected 2 fields, saw 5\\nSkipping line 615643: expected 2 fields, saw 5\\nSkipping line 615901: expected 2 fields, saw 5\\nSkipping line 617389: expected 2 fields, saw 5\\nSkipping line 634641: expected 2 fields, saw 5\\nSkipping line 635755: expected 2 fields, saw 5\\nSkipping line 646243: expected 2 fields, saw 5\\nSkipping line 647165: expected 2 fields, saw 5\\nSkipping line 648610: expected 2 fields, saw 5\\nSkipping line 648772: expected 2 fields, saw 5\\nSkipping line 651833: expected 2 fields, saw 5\\nSkipping line 653663: expected 2 fields, saw 5\\nSkipping line 656233: expected 2 fields, saw 5\\nSkipping line 656694: expected 2 fields, saw 5\\nSkipping line 659783: expected 2 fields, saw 5\\nSkipping line 660478: expected 2 fields, saw 5\\nSkipping line 661133: expected 2 fields, saw 5\\nSkipping line 661736: expected 2 fields, saw 5\\nSkipping line 669827: expected 2 fields, saw 5\\n'\n"
          ]
        }
      ],
      "source": [
        "data=pd.read_csv(\"data.csv\",error_bad_lines=False)"
      ]
    },
    {
      "cell_type": "code",
      "execution_count": null,
      "metadata": {
        "id": "41Tso-LBuEOv",
        "colab": {
          "base_uri": "https://localhost:8080/"
        },
        "outputId": "b678eddd-b402-4637-d6aa-afe2eed2d821"
      },
      "outputs": [
        {
          "output_type": "execute_result",
          "data": {
            "text/plain": [
              "            password  strength\n",
              "0           kzde5577         1\n",
              "1           kino3434         1\n",
              "2          visi7k1yr         1\n",
              "3           megzy123         1\n",
              "4        lamborghin1         1\n",
              "...              ...       ...\n",
              "669635    10redtux10         1\n",
              "669636     infrared1         1\n",
              "669637  184520socram         1\n",
              "669638     marken22a         1\n",
              "669639      fxx4pw4g         1\n",
              "\n",
              "[669640 rows x 2 columns]"
            ],
            "text/html": [
              "\n",
              "  <div id=\"df-f7e0a5a2-c06d-4e30-9237-cb9c8faf20fb\">\n",
              "    <div class=\"colab-df-container\">\n",
              "      <div>\n",
              "<style scoped>\n",
              "    .dataframe tbody tr th:only-of-type {\n",
              "        vertical-align: middle;\n",
              "    }\n",
              "\n",
              "    .dataframe tbody tr th {\n",
              "        vertical-align: top;\n",
              "    }\n",
              "\n",
              "    .dataframe thead th {\n",
              "        text-align: right;\n",
              "    }\n",
              "</style>\n",
              "<table border=\"1\" class=\"dataframe\">\n",
              "  <thead>\n",
              "    <tr style=\"text-align: right;\">\n",
              "      <th></th>\n",
              "      <th>password</th>\n",
              "      <th>strength</th>\n",
              "    </tr>\n",
              "  </thead>\n",
              "  <tbody>\n",
              "    <tr>\n",
              "      <th>0</th>\n",
              "      <td>kzde5577</td>\n",
              "      <td>1</td>\n",
              "    </tr>\n",
              "    <tr>\n",
              "      <th>1</th>\n",
              "      <td>kino3434</td>\n",
              "      <td>1</td>\n",
              "    </tr>\n",
              "    <tr>\n",
              "      <th>2</th>\n",
              "      <td>visi7k1yr</td>\n",
              "      <td>1</td>\n",
              "    </tr>\n",
              "    <tr>\n",
              "      <th>3</th>\n",
              "      <td>megzy123</td>\n",
              "      <td>1</td>\n",
              "    </tr>\n",
              "    <tr>\n",
              "      <th>4</th>\n",
              "      <td>lamborghin1</td>\n",
              "      <td>1</td>\n",
              "    </tr>\n",
              "    <tr>\n",
              "      <th>...</th>\n",
              "      <td>...</td>\n",
              "      <td>...</td>\n",
              "    </tr>\n",
              "    <tr>\n",
              "      <th>669635</th>\n",
              "      <td>10redtux10</td>\n",
              "      <td>1</td>\n",
              "    </tr>\n",
              "    <tr>\n",
              "      <th>669636</th>\n",
              "      <td>infrared1</td>\n",
              "      <td>1</td>\n",
              "    </tr>\n",
              "    <tr>\n",
              "      <th>669637</th>\n",
              "      <td>184520socram</td>\n",
              "      <td>1</td>\n",
              "    </tr>\n",
              "    <tr>\n",
              "      <th>669638</th>\n",
              "      <td>marken22a</td>\n",
              "      <td>1</td>\n",
              "    </tr>\n",
              "    <tr>\n",
              "      <th>669639</th>\n",
              "      <td>fxx4pw4g</td>\n",
              "      <td>1</td>\n",
              "    </tr>\n",
              "  </tbody>\n",
              "</table>\n",
              "<p>669640 rows × 2 columns</p>\n",
              "</div>\n",
              "      <button class=\"colab-df-convert\" onclick=\"convertToInteractive('df-f7e0a5a2-c06d-4e30-9237-cb9c8faf20fb')\"\n",
              "              title=\"Convert this dataframe to an interactive table.\"\n",
              "              style=\"display:none;\">\n",
              "        \n",
              "  <svg xmlns=\"http://www.w3.org/2000/svg\" height=\"24px\"viewBox=\"0 0 24 24\"\n",
              "       width=\"24px\">\n",
              "    <path d=\"M0 0h24v24H0V0z\" fill=\"none\"/>\n",
              "    <path d=\"M18.56 5.44l.94 2.06.94-2.06 2.06-.94-2.06-.94-.94-2.06-.94 2.06-2.06.94zm-11 1L8.5 8.5l.94-2.06 2.06-.94-2.06-.94L8.5 2.5l-.94 2.06-2.06.94zm10 10l.94 2.06.94-2.06 2.06-.94-2.06-.94-.94-2.06-.94 2.06-2.06.94z\"/><path d=\"M17.41 7.96l-1.37-1.37c-.4-.4-.92-.59-1.43-.59-.52 0-1.04.2-1.43.59L10.3 9.45l-7.72 7.72c-.78.78-.78 2.05 0 2.83L4 21.41c.39.39.9.59 1.41.59.51 0 1.02-.2 1.41-.59l7.78-7.78 2.81-2.81c.8-.78.8-2.07 0-2.86zM5.41 20L4 18.59l7.72-7.72 1.47 1.35L5.41 20z\"/>\n",
              "  </svg>\n",
              "      </button>\n",
              "      \n",
              "  <style>\n",
              "    .colab-df-container {\n",
              "      display:flex;\n",
              "      flex-wrap:wrap;\n",
              "      gap: 12px;\n",
              "    }\n",
              "\n",
              "    .colab-df-convert {\n",
              "      background-color: #E8F0FE;\n",
              "      border: none;\n",
              "      border-radius: 50%;\n",
              "      cursor: pointer;\n",
              "      display: none;\n",
              "      fill: #1967D2;\n",
              "      height: 32px;\n",
              "      padding: 0 0 0 0;\n",
              "      width: 32px;\n",
              "    }\n",
              "\n",
              "    .colab-df-convert:hover {\n",
              "      background-color: #E2EBFA;\n",
              "      box-shadow: 0px 1px 2px rgba(60, 64, 67, 0.3), 0px 1px 3px 1px rgba(60, 64, 67, 0.15);\n",
              "      fill: #174EA6;\n",
              "    }\n",
              "\n",
              "    [theme=dark] .colab-df-convert {\n",
              "      background-color: #3B4455;\n",
              "      fill: #D2E3FC;\n",
              "    }\n",
              "\n",
              "    [theme=dark] .colab-df-convert:hover {\n",
              "      background-color: #434B5C;\n",
              "      box-shadow: 0px 1px 3px 1px rgba(0, 0, 0, 0.15);\n",
              "      filter: drop-shadow(0px 1px 2px rgba(0, 0, 0, 0.3));\n",
              "      fill: #FFFFFF;\n",
              "    }\n",
              "  </style>\n",
              "\n",
              "      <script>\n",
              "        const buttonEl =\n",
              "          document.querySelector('#df-f7e0a5a2-c06d-4e30-9237-cb9c8faf20fb button.colab-df-convert');\n",
              "        buttonEl.style.display =\n",
              "          google.colab.kernel.accessAllowed ? 'block' : 'none';\n",
              "\n",
              "        async function convertToInteractive(key) {\n",
              "          const element = document.querySelector('#df-f7e0a5a2-c06d-4e30-9237-cb9c8faf20fb');\n",
              "          const dataTable =\n",
              "            await google.colab.kernel.invokeFunction('convertToInteractive',\n",
              "                                                     [key], {});\n",
              "          if (!dataTable) return;\n",
              "\n",
              "          const docLinkHtml = 'Like what you see? Visit the ' +\n",
              "            '<a target=\"_blank\" href=https://colab.research.google.com/notebooks/data_table.ipynb>data table notebook</a>'\n",
              "            + ' to learn more about interactive tables.';\n",
              "          element.innerHTML = '';\n",
              "          dataTable['output_type'] = 'display_data';\n",
              "          await google.colab.output.renderOutput(dataTable, element);\n",
              "          const docLink = document.createElement('div');\n",
              "          docLink.innerHTML = docLinkHtml;\n",
              "          element.appendChild(docLink);\n",
              "        }\n",
              "      </script>\n",
              "    </div>\n",
              "  </div>\n",
              "  "
            ]
          },
          "metadata": {},
          "execution_count": 3
        }
      ],
      "source": [
        "data"
      ]
    },
    {
      "cell_type": "markdown",
      "metadata": {
        "id": "oV9TUKpluHAk"
      },
      "source": [
        "# Selecting 50000 rows of data "
      ]
    },
    {
      "cell_type": "markdown",
      "metadata": {
        "id": "m_pU6QvbxSZR"
      },
      "source": [
        "using pandas drop function with range of index and than drop the rows so, we remove lasts rmaining rows"
      ]
    },
    {
      "cell_type": "code",
      "execution_count": null,
      "metadata": {
        "id": "rSw7SjJhuM8M"
      },
      "outputs": [],
      "source": [
        "data.drop(data.index[50000:669640], inplace=True)\n",
        "\n"
      ]
    },
    {
      "cell_type": "code",
      "execution_count": null,
      "metadata": {
        "id": "sK1AHP4Hxg0c",
        "colab": {
          "base_uri": "https://localhost:8080/",
          "height": 206
        },
        "outputId": "58d65ddc-8ead-461d-e457-b9a79a2716a8"
      },
      "outputs": [
        {
          "output_type": "execute_result",
          "data": {
            "text/plain": [
              "      password  strength\n",
              "0     kzde5577         1\n",
              "1     kino3434         1\n",
              "2    visi7k1yr         1\n",
              "3     megzy123         1\n",
              "4  lamborghin1         1"
            ],
            "text/html": [
              "\n",
              "  <div id=\"df-5ccce7b6-86f2-43ce-a0db-c81990730b38\">\n",
              "    <div class=\"colab-df-container\">\n",
              "      <div>\n",
              "<style scoped>\n",
              "    .dataframe tbody tr th:only-of-type {\n",
              "        vertical-align: middle;\n",
              "    }\n",
              "\n",
              "    .dataframe tbody tr th {\n",
              "        vertical-align: top;\n",
              "    }\n",
              "\n",
              "    .dataframe thead th {\n",
              "        text-align: right;\n",
              "    }\n",
              "</style>\n",
              "<table border=\"1\" class=\"dataframe\">\n",
              "  <thead>\n",
              "    <tr style=\"text-align: right;\">\n",
              "      <th></th>\n",
              "      <th>password</th>\n",
              "      <th>strength</th>\n",
              "    </tr>\n",
              "  </thead>\n",
              "  <tbody>\n",
              "    <tr>\n",
              "      <th>0</th>\n",
              "      <td>kzde5577</td>\n",
              "      <td>1</td>\n",
              "    </tr>\n",
              "    <tr>\n",
              "      <th>1</th>\n",
              "      <td>kino3434</td>\n",
              "      <td>1</td>\n",
              "    </tr>\n",
              "    <tr>\n",
              "      <th>2</th>\n",
              "      <td>visi7k1yr</td>\n",
              "      <td>1</td>\n",
              "    </tr>\n",
              "    <tr>\n",
              "      <th>3</th>\n",
              "      <td>megzy123</td>\n",
              "      <td>1</td>\n",
              "    </tr>\n",
              "    <tr>\n",
              "      <th>4</th>\n",
              "      <td>lamborghin1</td>\n",
              "      <td>1</td>\n",
              "    </tr>\n",
              "  </tbody>\n",
              "</table>\n",
              "</div>\n",
              "      <button class=\"colab-df-convert\" onclick=\"convertToInteractive('df-5ccce7b6-86f2-43ce-a0db-c81990730b38')\"\n",
              "              title=\"Convert this dataframe to an interactive table.\"\n",
              "              style=\"display:none;\">\n",
              "        \n",
              "  <svg xmlns=\"http://www.w3.org/2000/svg\" height=\"24px\"viewBox=\"0 0 24 24\"\n",
              "       width=\"24px\">\n",
              "    <path d=\"M0 0h24v24H0V0z\" fill=\"none\"/>\n",
              "    <path d=\"M18.56 5.44l.94 2.06.94-2.06 2.06-.94-2.06-.94-.94-2.06-.94 2.06-2.06.94zm-11 1L8.5 8.5l.94-2.06 2.06-.94-2.06-.94L8.5 2.5l-.94 2.06-2.06.94zm10 10l.94 2.06.94-2.06 2.06-.94-2.06-.94-.94-2.06-.94 2.06-2.06.94z\"/><path d=\"M17.41 7.96l-1.37-1.37c-.4-.4-.92-.59-1.43-.59-.52 0-1.04.2-1.43.59L10.3 9.45l-7.72 7.72c-.78.78-.78 2.05 0 2.83L4 21.41c.39.39.9.59 1.41.59.51 0 1.02-.2 1.41-.59l7.78-7.78 2.81-2.81c.8-.78.8-2.07 0-2.86zM5.41 20L4 18.59l7.72-7.72 1.47 1.35L5.41 20z\"/>\n",
              "  </svg>\n",
              "      </button>\n",
              "      \n",
              "  <style>\n",
              "    .colab-df-container {\n",
              "      display:flex;\n",
              "      flex-wrap:wrap;\n",
              "      gap: 12px;\n",
              "    }\n",
              "\n",
              "    .colab-df-convert {\n",
              "      background-color: #E8F0FE;\n",
              "      border: none;\n",
              "      border-radius: 50%;\n",
              "      cursor: pointer;\n",
              "      display: none;\n",
              "      fill: #1967D2;\n",
              "      height: 32px;\n",
              "      padding: 0 0 0 0;\n",
              "      width: 32px;\n",
              "    }\n",
              "\n",
              "    .colab-df-convert:hover {\n",
              "      background-color: #E2EBFA;\n",
              "      box-shadow: 0px 1px 2px rgba(60, 64, 67, 0.3), 0px 1px 3px 1px rgba(60, 64, 67, 0.15);\n",
              "      fill: #174EA6;\n",
              "    }\n",
              "\n",
              "    [theme=dark] .colab-df-convert {\n",
              "      background-color: #3B4455;\n",
              "      fill: #D2E3FC;\n",
              "    }\n",
              "\n",
              "    [theme=dark] .colab-df-convert:hover {\n",
              "      background-color: #434B5C;\n",
              "      box-shadow: 0px 1px 3px 1px rgba(0, 0, 0, 0.15);\n",
              "      filter: drop-shadow(0px 1px 2px rgba(0, 0, 0, 0.3));\n",
              "      fill: #FFFFFF;\n",
              "    }\n",
              "  </style>\n",
              "\n",
              "      <script>\n",
              "        const buttonEl =\n",
              "          document.querySelector('#df-5ccce7b6-86f2-43ce-a0db-c81990730b38 button.colab-df-convert');\n",
              "        buttonEl.style.display =\n",
              "          google.colab.kernel.accessAllowed ? 'block' : 'none';\n",
              "\n",
              "        async function convertToInteractive(key) {\n",
              "          const element = document.querySelector('#df-5ccce7b6-86f2-43ce-a0db-c81990730b38');\n",
              "          const dataTable =\n",
              "            await google.colab.kernel.invokeFunction('convertToInteractive',\n",
              "                                                     [key], {});\n",
              "          if (!dataTable) return;\n",
              "\n",
              "          const docLinkHtml = 'Like what you see? Visit the ' +\n",
              "            '<a target=\"_blank\" href=https://colab.research.google.com/notebooks/data_table.ipynb>data table notebook</a>'\n",
              "            + ' to learn more about interactive tables.';\n",
              "          element.innerHTML = '';\n",
              "          dataTable['output_type'] = 'display_data';\n",
              "          await google.colab.output.renderOutput(dataTable, element);\n",
              "          const docLink = document.createElement('div');\n",
              "          docLink.innerHTML = docLinkHtml;\n",
              "          element.appendChild(docLink);\n",
              "        }\n",
              "      </script>\n",
              "    </div>\n",
              "  </div>\n",
              "  "
            ]
          },
          "metadata": {},
          "execution_count": 5
        }
      ],
      "source": [
        "data.head()"
      ]
    },
    {
      "cell_type": "code",
      "execution_count": null,
      "metadata": {
        "id": "LpFhbFlxx8ZI",
        "colab": {
          "base_uri": "https://localhost:8080/"
        },
        "outputId": "751872d4-f8d6-4593-8cb0-e21413208aab"
      },
      "outputs": [
        {
          "output_type": "execute_result",
          "data": {
            "text/plain": [
              "(50000, 2)"
            ]
          },
          "metadata": {},
          "execution_count": 6
        }
      ],
      "source": [
        "data.shape"
      ]
    },
    {
      "cell_type": "code",
      "execution_count": null,
      "metadata": {
        "id": "8F9ZhPNHx9f_",
        "colab": {
          "base_uri": "https://localhost:8080/"
        },
        "outputId": "5cf3b7a9-bedb-4c4a-c864-f542b73da99e"
      },
      "outputs": [
        {
          "output_type": "execute_result",
          "data": {
            "text/plain": [
              "array([1, 2, 0])"
            ]
          },
          "metadata": {},
          "execution_count": 7
        }
      ],
      "source": [
        "data.strength.unique()"
      ]
    },
    {
      "cell_type": "markdown",
      "metadata": {
        "id": "BnVJQmJBbihe"
      },
      "source": [
        "there are only 3 classes in Strength\n",
        "\n",
        "\n",
        "*   0-> weak password\n",
        "\n",
        "*   1->normal password\n",
        "\n",
        "*   2->strong password \n",
        "\n",
        "\n",
        "\n",
        "\n"
      ]
    },
    {
      "cell_type": "code",
      "execution_count": null,
      "metadata": {
        "id": "v9HJ2WnYyLF0",
        "colab": {
          "base_uri": "https://localhost:8080/"
        },
        "outputId": "9e0ad097-878c-4e22-a692-278ce406b58c"
      },
      "outputs": [
        {
          "output_type": "execute_result",
          "data": {
            "text/plain": [
              "array([1, 2, 0])"
            ]
          },
          "metadata": {},
          "execution_count": 8
        }
      ],
      "source": [
        "data.strength.unique()"
      ]
    },
    {
      "cell_type": "code",
      "execution_count": null,
      "metadata": {
        "id": "HzfXxJg8yWoE",
        "colab": {
          "base_uri": "https://localhost:8080/",
          "height": 466
        },
        "outputId": "1187806d-3bf1-48f4-88ee-0c87dbba4367"
      },
      "outputs": [
        {
          "output_type": "execute_result",
          "data": {
            "text/plain": [
              "<Axes: xlabel='strength', ylabel='count'>"
            ]
          },
          "metadata": {},
          "execution_count": 9
        },
        {
          "output_type": "display_data",
          "data": {
            "text/plain": [
              "<Figure size 640x480 with 1 Axes>"
            ],
            "image/png": "[encoded data removed]"
          },
          "metadata": {}
        }
      ],
      "source": [
        "# plot the distrebution of classes in the datasets\n",
        "import seaborn as sns\n",
        "import pandas as pd\n",
        "\n",
        "graph = pd.DataFrame({'strength': data['strength']})\n",
        "sns.countplot(x='strength', data=graph)\n"
      ]
    },
    {
      "cell_type": "markdown",
      "metadata": {
        "id": "Kbc41daHcXGq"
      },
      "source": [
        "as we can see count of class 1 is high colpared to class 0 and class 2"
      ]
    },
    {
      "cell_type": "code",
      "execution_count": null,
      "metadata": {
        "id": "EfnAFzZ4zFMt"
      },
      "outputs": [],
      "source": [
        "# change the data from svc file to array \n",
        "pass_tup=np.array(data)"
      ]
    },
    {
      "cell_type": "code",
      "execution_count": null,
      "metadata": {
        "id": "agcLQHZlzIFc",
        "colab": {
          "base_uri": "https://localhost:8080/"
        },
        "outputId": "d2b08ac5-c9e1-4e32-b387-fc22bdc737ad"
      },
      "outputs": [
        {
          "output_type": "execute_result",
          "data": {
            "text/plain": [
              "array([['kzde5577', 1],\n",
              "       ['kino3434', 1],\n",
              "       ['visi7k1yr', 1],\n",
              "       ...,\n",
              "       ['oqr9rw849O49r0', 2],\n",
              "       ['une67lhn', 1],\n",
              "       ['ahevomu852', 1]], dtype=object)"
            ]
          },
          "metadata": {},
          "execution_count": 11
        }
      ],
      "source": [
        "pass_tup"
      ]
    },
    {
      "cell_type": "code",
      "execution_count": null,
      "metadata": {
        "id": "A2NXLZW6crwQ",
        "colab": {
          "base_uri": "https://localhost:8080/"
        },
        "outputId": "876e65a4-100b-4473-e400-ef03115761d2"
      },
      "outputs": [
        {
          "output_type": "execute_result",
          "data": {
            "text/plain": [
              "numpy.ndarray"
            ]
          },
          "metadata": {},
          "execution_count": 12
        }
      ],
      "source": [
        "type(pass_tup)"
      ]
    },
    {
      "cell_type": "code",
      "execution_count": null,
      "metadata": {
        "id": "rrgh1nP_c4S5",
        "colab": {
          "base_uri": "https://localhost:8080/"
        },
        "outputId": "d33dd46f-1903-41f6-cbee-f7d8749a1770"
      },
      "outputs": [
        {
          "output_type": "execute_result",
          "data": {
            "text/plain": [
              "array(['kzde5577', 1], dtype=object)"
            ]
          },
          "metadata": {},
          "execution_count": 13
        }
      ],
      "source": [
        "pass_tup[0]"
      ]
    },
    {
      "cell_type": "code",
      "execution_count": null,
      "metadata": {
        "id": "lBGY8W22zKhE",
        "colab": {
          "base_uri": "https://localhost:8080/"
        },
        "outputId": "18b483c2-30a8-47fa-af97-1e34fbd02d88"
      },
      "outputs": [
        {
          "output_type": "execute_result",
          "data": {
            "text/plain": [
              "array([['kzde5577', 1],\n",
              "       ['kzde5577', 1],\n",
              "       ['visi7k1yr', 1],\n",
              "       ...,\n",
              "       ['wafa_ay', 0],\n",
              "       ['fiwew951', 1],\n",
              "       ['maszek1982', 1]], dtype=object)"
            ]
          },
          "metadata": {},
          "execution_count": 14
        }
      ],
      "source": [
        "#mix the data in the array \n",
        "import random\n",
        "random.shuffle(pass_tup)\n",
        "pass_tup\n"
      ]
    },
    {
      "cell_type": "code",
      "execution_count": null,
      "metadata": {
        "id": "s9GY3UiuzOUM"
      },
      "outputs": [],
      "source": [
        "#create independent features  -- separate the columns each in independant array\n",
        "x=[labels[0] for labels in pass_tup]\n",
        "y=[labels[1] for labels in pass_tup]"
      ]
    },
    {
      "cell_type": "code",
      "execution_count": null,
      "metadata": {
        "id": "-2nprGY0zQ1d",
        "colab": {
          "base_uri": "https://localhost:8080/"
        },
        "outputId": "831c77c8-6df3-4238-bae0-15b81b4c5423"
      },
      "outputs": [
        {
          "output_type": "execute_result",
          "data": {
            "text/plain": [
              "['kzde5577',\n",
              " 'kzde5577',\n",
              " 'visi7k1yr',\n",
              " 'megzy123',\n",
              " 'kzde5577',\n",
              " 'megzy123',\n",
              " 'megzy123',\n",
              " 'visi7k1yr',\n",
              " 'AVYq1lDE4MgAZfNt',\n",
              " 'AVYq1lDE4MgAZfNt',\n",
              " 'lamborghin1',\n",
              " 'lamborghin1',\n",
              " 'megzy123',\n",
              " 'u6c8vhow',\n",
              " 'v1118714',\n",
              " 'kino3434',\n",
              " 'visi7k1yr',\n",
              " 'kino3434',\n",
              " 'lamborghin1',\n",
              " 'kino3434',\n",
              " 'v1118714',\n",
              " '612035180tok',\n",
              " 'intel1',\n",
              " 'lamborghin1',\n",
              " 'jytifok873',\n",
              " 'WUt9IZzE0OQ7PkNE',\n",
              " 'visi7k1yr',\n",
              " 'schalke04',\n",
              " '612035180tok',\n",
              " '612035180tok',\n",
              " 'idofo673',\n",
              " 'kzde5577',\n",
              " 'faranumar91',\n",
              " 'universe2908',\n",
              " 'prisonbreak1',\n",
              " '612035180tok',\n",
              " 'visi7k1yr',\n",
              " 'intel1',\n",
              " 'lsdlsd1',\n",
              " 'lsdlsd1',\n",
              " 'cigicigi123',\n",
              " 'go7kew7a2po',\n",
              " '612035180tok',\n",
              " 'go7kew7a2po',\n",
              " 'juliel009',\n",
              " 'idofo673',\n",
              " 'lsdlsd1',\n",
              " 'megzy123',\n",
              " 'alimagik1',\n",
              " '0169395484a',\n",
              " 'gaymaids1',\n",
              " 'tamanagung6',\n",
              " 'visi7k1yr',\n",
              " 'prisonbreak1',\n",
              " 'fahad123',\n",
              " 'cigicigi123',\n",
              " 'ejeko677',\n",
              " 'kzde5577',\n",
              " 'faranumar91',\n",
              " '52558000aaa',\n",
              " 'klara-tershina3H',\n",
              " 'kzde5577',\n",
              " 'faranumar91',\n",
              " 'as326159',\n",
              " 'kjkjkj1',\n",
              " 'khmer100.03278&?><Mnb',\n",
              " 'd04m11',\n",
              " 'fahad123',\n",
              " 'yk530mg8',\n",
              " 'patri1973',\n",
              " 'AVYq1lDE4MgAZfNt',\n",
              " 'openup12',\n",
              " 'WUt9IZzE0OQ7PkNE',\n",
              " 'd04m11',\n",
              " 'b4NbTxDEyNgG141J',\n",
              " 'lsdlsd1',\n",
              " 'asgaliu11',\n",
              " 'b4NbTxDEyNgG141J',\n",
              " 'visi7k1yr',\n",
              " 'mickael12',\n",
              " 'jerusalem393',\n",
              " 'ejeko677',\n",
              " 'u6c8vhow',\n",
              " 'WUt9IZzE0OQ7PkNE',\n",
              " 'p2share',\n",
              " 'obstacle25',\n",
              " 'sbl571017',\n",
              " 'patri1973',\n",
              " 'hayhayq2',\n",
              " 'a2531106',\n",
              " 'jerusalem393',\n",
              " 'AVYq1lDE4MgAZfNt',\n",
              " '2021848709.',\n",
              " 'go7kew7a2po',\n",
              " 'kjkjkj1',\n",
              " 'Iamthelegend1!',\n",
              " 'poseidon2011',\n",
              " 'jonothepoop1',\n",
              " 'hodygid757',\n",
              " 'khmer100.03278&?><Mnb',\n",
              " 'TyWM72UNEex8Q8Y',\n",
              " '6975038lp',\n",
              " 'kino3434',\n",
              " 'faranumar91',\n",
              " 'visi7k1yr',\n",
              " '0169395484a',\n",
              " 'hodygid757',\n",
              " 'Iamthelegend1!',\n",
              " 'p2share',\n",
              " 'juliel009',\n",
              " 'j09000',\n",
              " 'il0vey0u',\n",
              " 'sbl571017',\n",
              " 'calcifer32',\n",
              " '746xitEGiqObog',\n",
              " 'znbl5tj1',\n",
              " 'prisonbreak1',\n",
              " 'snolyuj04',\n",
              " 'b4NbTxDEyNgG141J',\n",
              " 'k1k2k3k4k5k6',\n",
              " 'yllime123',\n",
              " 'c3h8bkzr',\n",
              " 'yllime123',\n",
              " 'prisonbreak1',\n",
              " 'prisonbreak1',\n",
              " 'juliel009',\n",
              " 'jytifok873',\n",
              " 'xiau5ff',\n",
              " 'khmer100.03278&?><Mnb',\n",
              " 'gill02',\n",
              " 'woon12',\n",
              " 'klara-tershina3H',\n",
              " 'matiofox08',\n",
              " 'v1118714',\n",
              " 'schalke04',\n",
              " 'gill02',\n",
              " 'intel1',\n",
              " 'jUV4dSDQwNwPpA36',\n",
              " 'www32223222',\n",
              " 'intel1',\n",
              " 'b4NbTxDEyNgG141J',\n",
              " 'kVczcljg4OA25Aeb',\n",
              " 'kinga22',\n",
              " 'moken7',\n",
              " 'RqsuUsDYxNgr8T40',\n",
              " '26522876p',\n",
              " 'il0vey0u',\n",
              " 'www32223222',\n",
              " 'pato221182',\n",
              " 's9830950044',\n",
              " 'sknq7m0',\n",
              " 'g3rappa',\n",
              " 'yk530mg8',\n",
              " '612035180tok',\n",
              " 'yllime123',\n",
              " 'kVczcljg4OA25Aeb',\n",
              " 'jalingo1',\n",
              " 'cesarmaio1',\n",
              " 'rntprns7',\n",
              " '1972vishara',\n",
              " 'poseidon2011',\n",
              " '123maxbala',\n",
              " '0169395484a',\n",
              " 'juliana19',\n",
              " 'jalal123456',\n",
              " 'p2share',\n",
              " 'ga98SIzk0NwhiZaE',\n",
              " '0870330135a',\n",
              " 'jerusalem393',\n",
              " 'kswa2mrv',\n",
              " 'ok>bdk',\n",
              " 'p2share',\n",
              " 'kzde5577',\n",
              " '1972vishara',\n",
              " 'tin030201',\n",
              " 'meopvywk628',\n",
              " 'a2531106',\n",
              " '3y6iwef2g6',\n",
              " 'go7kew7a2po',\n",
              " 'jalingo1',\n",
              " 'ns2b0727',\n",
              " 'RqsuUsDYxNgr8T40',\n",
              " 's9830950044',\n",
              " 'tia150979',\n",
              " 'mohantra1',\n",
              " 'wisal1234',\n",
              " 'finisterra1',\n",
              " 'denise18',\n",
              " '26522876p',\n",
              " 's4m2dx9e6',\n",
              " 'sarahi1628',\n",
              " 'ass359',\n",
              " 'z7zbgIDkzMQeHUd9',\n",
              " 'w9209640',\n",
              " 'z3ro1sm',\n",
              " '929865yt',\n",
              " 'hpqkoxsn5',\n",
              " 'jonothepoop1',\n",
              " 'pikey231',\n",
              " 'ass359',\n",
              " 'j09000',\n",
              " 'woon12',\n",
              " 'calcifer32',\n",
              " 'c3h8bkzr',\n",
              " 'z7zbgIDkzMQeHUd9',\n",
              " 'ginger972',\n",
              " 'u6c8vhow',\n",
              " 'kjkjkj1',\n",
              " 'nicolas05',\n",
              " '3y6iwef2g6',\n",
              " 'gozv3e5',\n",
              " 'calcifer32',\n",
              " 'barra23',\n",
              " 'faranumar91',\n",
              " 'kVczcljg4OA25Aeb',\n",
              " 'qn5xpg3k00',\n",
              " 'portales1',\n",
              " 'x8512514',\n",
              " 'demon10',\n",
              " 'robot425',\n",
              " 'g3rappa',\n",
              " '26522876p',\n",
              " 'sasuke4',\n",
              " 'jerusalem393',\n",
              " 'p@sslng2diword',\n",
              " 'puegwajy416',\n",
              " 'elyass15@ajilent-ci',\n",
              " 'yllime123',\n",
              " 'mike09',\n",
              " 'demon10',\n",
              " '838188linh',\n",
              " 'yqugu927',\n",
              " 'mickael12',\n",
              " 'gdfn76',\n",
              " 'khmer100.03278&?><Mnb',\n",
              " 'j09000',\n",
              " 'jalal123456',\n",
              " 'caramelo9',\n",
              " 'fk9qi21m',\n",
              " 'pikey231',\n",
              " 'k9b8cz6aj2',\n",
              " 'mike09',\n",
              " 'gandhi8513',\n",
              " 'gandhi8513',\n",
              " 'peluchin4',\n",
              " 'ass359',\n",
              " 'moken7',\n",
              " 'icap12',\n",
              " 'XqMB7vDMzOQocAFV',\n",
              " 'WUt9IZzE0OQ7PkNE',\n",
              " 'memjan123',\n",
              " '1972vishara',\n",
              " 'lrhxmevb620',\n",
              " 'cesarmaio1',\n",
              " 'jerusalem393',\n",
              " 'ubojig109',\n",
              " 'znbl5tj1',\n",
              " 'warriors08',\n",
              " 'exitos2009',\n",
              " 'AVYq1lDE4MgAZfNt',\n",
              " 'meriton23',\n",
              " 'q0pv0fk',\n",
              " 'obstacle25',\n",
              " 'ok>bdk',\n",
              " 'u6c8vhow',\n",
              " 'gkrqjs6',\n",
              " 'mike09',\n",
              " 'afs34214',\n",
              " 'lamborghin1',\n",
              " 'gandhi8513',\n",
              " 'warriors08',\n",
              " '64959rodro',\n",
              " 'sasuke4',\n",
              " 'tahseen75',\n",
              " 'a0972986650',\n",
              " '20Dgw7TQ0OQVdly7',\n",
              " 'owote852',\n",
              " 'vehat387',\n",
              " 'kinga22',\n",
              " '0870330135a',\n",
              " 'cesarmaio1',\n",
              " '123maxbala',\n",
              " 'ok>bdk',\n",
              " 'holamundo1',\n",
              " 'farrukhcse12',\n",
              " 'jonothepoop1',\n",
              " 'marita1',\n",
              " 'mickael12',\n",
              " 'TyWM72UNEex8Q8Y',\n",
              " 'sasuke4',\n",
              " 'universe2908',\n",
              " '2yz4ewwg',\n",
              " 'tia150979',\n",
              " 'openup12',\n",
              " 'kswa2mrv',\n",
              " 'oekojWyH120063',\n",
              " 'p@sslng2diword',\n",
              " 'edcmki90',\n",
              " 'www32223222',\n",
              " 'p@sslng2diword',\n",
              " '12345yolanda',\n",
              " '123maxbala',\n",
              " 'WUt9IZzE0OQ7PkNE',\n",
              " 'xiau5ff',\n",
              " 'hpqkoxsn5',\n",
              " 'sbaUsoTA1OAzuevI',\n",
              " 'matiofox08',\n",
              " 'gtlek',\n",
              " 'nicolas05',\n",
              " 'juliel009',\n",
              " 'x8512514',\n",
              " '0169395484a',\n",
              " 'koabcswzt3',\n",
              " '6975038lp',\n",
              " 'denise18',\n",
              " 'xyws951753',\n",
              " 'ass359',\n",
              " 'nK0yKXTU0NQHZE2e',\n",
              " 'sanki1',\n",
              " '1597535youssi',\n",
              " 'a110804032',\n",
              " '1234159hero',\n",
              " 'clave08',\n",
              " 'hpqkoxsn5',\n",
              " 'moimoimoi9',\n",
              " '6975038lp',\n",
              " 'atigi839',\n",
              " 'asv5o9yu',\n",
              " 'cockw0mble',\n",
              " 'teemteem97',\n",
              " 'ts34a3fodh3i',\n",
              " 'mohantra1',\n",
              " 'QWERTY0011',\n",
              " 'gozv3e5',\n",
              " 'xanyrum650',\n",
              " 'z7zbgIDkzMQeHUd9',\n",
              " 'c3h8bkzr',\n",
              " 'trabajonet9',\n",
              " '215466kenyi',\n",
              " 'pato221182',\n",
              " 'lzhzad1989',\n",
              " 'kP82iqDMxNgBMxBP',\n",
              " 'robot425',\n",
              " 'jUV4dSDQwNwPpA36',\n",
              " 'tomas7896',\n",
              " 'saule123',\n",
              " 'denise18',\n",
              " 'yqugu927',\n",
              " 'balamuc123',\n",
              " 'planes123',\n",
              " 'y0unus',\n",
              " 'mmm23mm',\n",
              " 'fk9qi21m',\n",
              " 'aosmaxd0',\n",
              " 'jytifok873',\n",
              " 'bgrvl80',\n",
              " 'ldteugao6',\n",
              " 'robot425',\n",
              " 'aquhih220',\n",
              " '4osxw4r',\n",
              " 'webstudio8',\n",
              " 'znbl5tj1',\n",
              " 'oekojWyH120063',\n",
              " 'sbaUsoTA1OAzuevI',\n",
              " '0112358mayin0',\n",
              " 'samael666',\n",
              " '215466kenyi',\n",
              " 'teste10',\n",
              " 'tia150979',\n",
              " 'sanjaime1',\n",
              " 'cdann123',\n",
              " 'mmm23mm',\n",
              " 'aosmaxd0',\n",
              " 'kayal123',\n",
              " 'x0004534',\n",
              " 'www32223222',\n",
              " 'klara-tershina3H',\n",
              " 'YADHJIGSAWS11',\n",
              " 'DTUQG5jU5MwmR1L9',\n",
              " 'wisal1234',\n",
              " '5gzj5uf',\n",
              " 'marita1',\n",
              " 'kitty555',\n",
              " 'v10rica',\n",
              " 'abizar08',\n",
              " '746xitEGiqObog',\n",
              " 'demon10',\n",
              " 'zoobike04',\n",
              " 'p2share',\n",
              " 'lzhzad1989',\n",
              " 'damyvo114',\n",
              " 'prisonbreak1',\n",
              " 'sofietou74',\n",
              " 'Iamthelegend1!',\n",
              " 'jbtcnd6',\n",
              " 'kdl9cl53',\n",
              " 'potatobus150',\n",
              " 'virush1n1',\n",
              " 'koabcswzt3',\n",
              " '1qa2ws3ed4r',\n",
              " 'edcmki90',\n",
              " 'lymuvop730',\n",
              " 'nK0yKXTU0NQHZE2e',\n",
              " 'a03242241431a',\n",
              " 'ts34a3fodh3i',\n",
              " '1katertje',\n",
              " 'pugceya468',\n",
              " 'seng987321',\n",
              " 'ryjypes139',\n",
              " 'zidadoh258',\n",
              " 'xyws951753',\n",
              " '6975038lp',\n",
              " 'yzxwvgbdu503',\n",
              " 'clyioqzgw42',\n",
              " 'il0vey0u',\n",
              " 'juliana19',\n",
              " 'mario489800',\n",
              " 'abizar08',\n",
              " 'afs34214',\n",
              " 'elabadmin1386',\n",
              " 'may112001',\n",
              " 'z3ro1sm',\n",
              " 'potatobus150',\n",
              " 'k9b8cz6aj2',\n",
              " 'AS0130066',\n",
              " 'wo9aiwangyan',\n",
              " 'zgmfnwuq25',\n",
              " 'xanyrum650',\n",
              " 'gtlek',\n",
              " 'sydney213',\n",
              " 'meriton23',\n",
              " 'sanjaime1',\n",
              " 'kunyukbabi69',\n",
              " 'yu4cmn',\n",
              " 'sono11',\n",
              " '3y6iwef2g6',\n",
              " 'fahad123',\n",
              " '1972vishara',\n",
              " 'rntprns7',\n",
              " 'ass359',\n",
              " 'clave2013',\n",
              " 'tukaxo486',\n",
              " 'asgaliu11',\n",
              " 'wibi182d',\n",
              " 'password0880',\n",
              " 'colorado27',\n",
              " 'sbl571017',\n",
              " 'ebacuro434',\n",
              " 'colorado27',\n",
              " 'yut0838828185',\n",
              " 'barboza221294',\n",
              " 'sbl571017',\n",
              " 'ninja420',\n",
              " 'xtswdypgh936',\n",
              " 'a03242241431a',\n",
              " 'AS0130066',\n",
              " 'amandine666',\n",
              " 'wuzyci421',\n",
              " '0112358mayin0',\n",
              " 'prisonbreak1',\n",
              " '0169395484a',\n",
              " 'barboza221294',\n",
              " 'juliel009',\n",
              " 'xf6385494',\n",
              " 'wo9aiwangyan',\n",
              " 'ejeko677',\n",
              " 'aslpls2009',\n",
              " 'kenyu001',\n",
              " 'JEQuloqOFUd102',\n",
              " 'jonothepoop1',\n",
              " 'a0972986650',\n",
              " 'yhwbzci130',\n",
              " 'bencike7',\n",
              " 'VMjz4eTkxNAbOyUU',\n",
              " 'rqmswof2llb0',\n",
              " 'matiz4533',\n",
              " 'cerner09',\n",
              " 'elonex24',\n",
              " 'p2share',\n",
              " '3y6iwef2g6',\n",
              " 'finisterra1',\n",
              " 'gkrqjs6',\n",
              " '52558000aaa',\n",
              " 'just1n0k',\n",
              " 'autan88',\n",
              " 'buqodym199',\n",
              " 'killer5',\n",
              " 'kdl9cl53',\n",
              " 'qopybuxi2',\n",
              " 'bc5e4vca',\n",
              " 'zgmfnwuq25',\n",
              " 'DTUQG5jU5MwmR1L9',\n",
              " 'j09000',\n",
              " 'yhwbzci130',\n",
              " 'khaled12',\n",
              " 'klara-tershina3H',\n",
              " 'meriton23',\n",
              " 'ebogel225',\n",
              " 'bang6k',\n",
              " 'krishna2',\n",
              " 'potatobus150',\n",
              " 'olmaz.',\n",
              " 'e667794c1d',\n",
              " 'rogyh820',\n",
              " 'Staterkom20081993',\n",
              " 'bugatti01',\n",
              " 'ahibyg892',\n",
              " 'cockw0mble',\n",
              " 'lzhzad1989',\n",
              " 'Staterkom20081993',\n",
              " 'zedika521',\n",
              " 'trabajonet9',\n",
              " 'n501iomf',\n",
              " 'openup12',\n",
              " 'vietnga92',\n",
              " 'ppnyadam09',\n",
              " 'gtlek',\n",
              " '4lgYVfzk1MwuzHcn',\n",
              " '123net123',\n",
              " 'walterivl13',\n",
              " 'walterivl13',\n",
              " 'hisnipes1',\n",
              " 'ekufite742',\n",
              " 'GGmm26120904..',\n",
              " 'gerardway1',\n",
              " 'ayles2266',\n",
              " 'peluchin4',\n",
              " 'may112001',\n",
              " 'visi7k1yr',\n",
              " 'p2share',\n",
              " '3CgRg8DA1NQY1iEj',\n",
              " 'teemteem97',\n",
              " 'adminmao888',\n",
              " 'gvczfel801',\n",
              " 'fahad123',\n",
              " 'khaled12',\n",
              " 'shotiko18',\n",
              " 'caramelo9',\n",
              " 'as8594505',\n",
              " 'bozoxik602',\n",
              " 'IRZA98',\n",
              " 'kayal123',\n",
              " 'sasuke4',\n",
              " 'meopvywk628',\n",
              " 'ekufite742',\n",
              " 'YADHJIGSAWS11',\n",
              " 'sebax2013',\n",
              " 'qopybuxi2',\n",
              " 'ebogel225',\n",
              " 'megzy123',\n",
              " 'ppnyadam09',\n",
              " 'zidadoh258',\n",
              " 'yy4129',\n",
              " '929865yt',\n",
              " 'vietnga92',\n",
              " 'cockw0mble',\n",
              " '1ngaymuadong',\n",
              " 'faisal213',\n",
              " 'kP82iqDMxNgBMxBP',\n",
              " '3f5xd41l0ik7',\n",
              " 'jytifok873',\n",
              " 'nLIGyhTU1NQTAp6u',\n",
              " 'mark11',\n",
              " 'oatcake87',\n",
              " 'RqsuUsDYxNgr8T40',\n",
              " 'rakag279',\n",
              " 'fnmsdha476',\n",
              " 'juliel009',\n",
              " '20010509wang',\n",
              " 'qwekl12',\n",
              " 'qn5xpg3k00',\n",
              " 'z7zbgIDkzMQeHUd9',\n",
              " 'gozv3e5',\n",
              " 'lymuvop730',\n",
              " '4osxw4r',\n",
              " 'control9',\n",
              " '746xitEGiqObog',\n",
              " 'kitty555',\n",
              " 'b4NbTxDEyNgG141J',\n",
              " 'jannia5',\n",
              " 'wxS2ztDk4OATjBfI',\n",
              " 'DTUQG5jU5MwmR1L9',\n",
              " 'ginger972',\n",
              " 'zidadoh258',\n",
              " 'lrhxmevb620',\n",
              " 'QWERTY0011',\n",
              " 'fahad123',\n",
              " 'x8512514',\n",
              " 'ahibyg892',\n",
              " 'yitbos77',\n",
              " 'b98nwtpriyesh',\n",
              " '101010hadis',\n",
              " 'yu4cmn',\n",
              " 'qefoquf1uf',\n",
              " '3CgRg8DA1NQY1iEj',\n",
              " '1597535youssi',\n",
              " 'seng987321',\n",
              " 'eth36498',\n",
              " 'oekojWyH120063',\n",
              " 'bencike7',\n",
              " '3CgRg8DA1NQY1iEj',\n",
              " 'pazzini24',\n",
              " 'gandhi8513',\n",
              " 'aslpls2009',\n",
              " 'j2yj2yj2y',\n",
              " 'hlQ8gDTExMQWkeda',\n",
              " 'tukaxo486',\n",
              " 'junaid5',\n",
              " 'clave2013',\n",
              " 'UF1Z2WjE5Mg26R1K',\n",
              " 'urban1',\n",
              " '1234159hero',\n",
              " 'xyws951753',\n",
              " 'butisugo39',\n",
              " 'taurofive16',\n",
              " 'khmer100.03278&?><Mnb',\n",
              " 'ns2b0727',\n",
              " 'grazi0201',\n",
              " 'zu20081965',\n",
              " 'sofietou74',\n",
              " 'kayal123',\n",
              " 'arigato3',\n",
              " 'fudijep286',\n",
              " 'g067057895',\n",
              " '4165000yakub',\n",
              " 'poilkjmnb987',\n",
              " 'rsuvxz08b',\n",
              " 'colorado27',\n",
              " 'igejasy712',\n",
              " 'asakapa22',\n",
              " '4osxw4r',\n",
              " 'kyxvufl37',\n",
              " 'spl51190595',\n",
              " 's4m2dx9e6',\n",
              " 'il0vey0u',\n",
              " '123net123',\n",
              " 'ok>bdk',\n",
              " 'nicolas05',\n",
              " 'sanki1',\n",
              " 'faranumar91',\n",
              " 'matha81',\n",
              " '1ngaymuadong',\n",
              " 'tahseen75',\n",
              " 'iacool99',\n",
              " '0VKWoODkwOAc0pZK',\n",
              " 'patata91',\n",
              " '147963asd',\n",
              " 'xf6385494',\n",
              " 'sofietou74',\n",
              " 'XqMB7vDMzOQocAFV',\n",
              " 'clyioqzgw42',\n",
              " 'kinga22',\n",
              " 'damyvo114',\n",
              " 'junaid5',\n",
              " '4osxw4r',\n",
              " 'bellsuki1',\n",
              " 'p@sslng2diword',\n",
              " 'itengf12',\n",
              " 'RRaa--72783530081984',\n",
              " 'v10rica',\n",
              " 'Zdyf0kjMzNQycqPx',\n",
              " 'juliel009',\n",
              " 'topgan22',\n",
              " 'lzhzad1989',\n",
              " 'planes123',\n",
              " 'z7zbgIDkzMQeHUd9',\n",
              " 'Jovan13lovekenthjusvan4ever',\n",
              " 'paladinas1',\n",
              " 'hayhayq2',\n",
              " '4165000yakub',\n",
              " 'folashade1',\n",
              " 'xf6385494',\n",
              " '6975038lp',\n",
              " 'ninja420',\n",
              " 'shotiko18',\n",
              " '0VKWoODkwOAc0pZK',\n",
              " 'bencike7',\n",
              " 'asv5o9yu',\n",
              " 'hpqkoxsn5',\n",
              " 'vgnfs495vp',\n",
              " 'acetita478',\n",
              " 'taulant123',\n",
              " 'exitos2009',\n",
              " 'oscar2002',\n",
              " '3f5xd41l0ik7',\n",
              " 'barboza221294',\n",
              " '05bumd',\n",
              " '3f5xd41l0ik7',\n",
              " 'jonothepoop1',\n",
              " 'p@sslng2diword',\n",
              " 'p2share',\n",
              " 'mussuh4',\n",
              " 'oscar69',\n",
              " 'ldteugao6',\n",
              " '16731673ir',\n",
              " 'shotiko18',\n",
              " 'trabajonet9',\n",
              " 'itengf12',\n",
              " 'a110804032',\n",
              " 'azerty32',\n",
              " 'kinga22',\n",
              " 'kdl9cl53',\n",
              " 'change201',\n",
              " '1234159hero',\n",
              " 'clave08',\n",
              " 'llahetihw1',\n",
              " 'patata91',\n",
              " 'kdl9cl53',\n",
              " 'papasito1991',\n",
              " 'witek1709',\n",
              " 'mario489800',\n",
              " 'matiz4533',\n",
              " 'X34y2CzY5MACs6kp',\n",
              " 'cUFUSYKIPuGo024',\n",
              " 'XqMB7vDMzOQocAFV',\n",
              " 'kswa2mrv',\n",
              " 'rLLh4WDQ2OAWbDO5',\n",
              " 'speedracer10',\n",
              " 'RPFUOUDQwMwVW0AS',\n",
              " 'rntprns7',\n",
              " 'z7zbgIDkzMQeHUd9',\n",
              " '0112358mayin0',\n",
              " 'QWERTY0011',\n",
              " 'matiz4533',\n",
              " 'cifinew817',\n",
              " 'koabcswzt3',\n",
              " '2d0d7qfz',\n",
              " 'TyWM72UNEex8Q8Y',\n",
              " 'markama10',\n",
              " 'b4NbTxDEyNgG141J',\n",
              " 'rqmswof2llb0',\n",
              " 'RqsuUsDYxNgr8T40',\n",
              " 'yjuqseb416',\n",
              " 'change201',\n",
              " '3vszncp4',\n",
              " 'zcsntdmhe098',\n",
              " 'acetita478',\n",
              " 'pukiw102',\n",
              " 'coy29061994',\n",
              " 'mark11',\n",
              " 'mario489800',\n",
              " 'natalia12',\n",
              " 'bozoxik602',\n",
              " 'sono11',\n",
              " 'DRAGON25',\n",
              " 'wisal1234',\n",
              " 'padhila30',\n",
              " 'viri13',\n",
              " 'raykuaz32',\n",
              " '5874813o',\n",
              " 'aosmaxd0',\n",
              " 'zoobike04',\n",
              " 'aqyba894',\n",
              " 'ihana906',\n",
              " 'kXzWOozU2MQ1Jv1h',\n",
              " 'UF1Z2WjE5Mg26R1K',\n",
              " 'autan88',\n",
              " 'ejeko677',\n",
              " '030005qw',\n",
              " 'intel1',\n",
              " 'goony01',\n",
              " 'smart95',\n",
              " 'artom111478',\n",
              " 'cockw0mble',\n",
              " 'openup12',\n",
              " '0123one47',\n",
              " 'change201',\n",
              " 'JEQuloqOFUd102',\n",
              " '838188linh',\n",
              " 'ldteugao6',\n",
              " '000webhostcom',\n",
              " 'lsdlsd1',\n",
              " 'syjtdxlo81',\n",
              " 'c1brb3lt',\n",
              " 'sergius1964',\n",
              " '00J46LTAxMgME7C4',\n",
              " '612035180tok',\n",
              " 'jalal123456',\n",
              " 'uziwocy148',\n",
              " 'syjtdxlo81',\n",
              " 'rogama69',\n",
              " 'iacool99',\n",
              " 'up8444',\n",
              " 'sha122511',\n",
              " '1ug2UKzQyMQBsleD',\n",
              " '6yy6yy',\n",
              " 'tin030201',\n",
              " 'aosmaxd0',\n",
              " 'alchimie79',\n",
              " 'artom111478',\n",
              " 'autan88',\n",
              " '5874813o',\n",
              " '4fqa52vecr',\n",
              " 'pap0spep0s',\n",
              " 'rogama69',\n",
              " 'zb08110229',\n",
              " 'taurofive16',\n",
              " 'gpc151192',\n",
              " 'sebax2013',\n",
              " 'ci0n3exor',\n",
              " 'jbtcnd6',\n",
              " 'fudijep286',\n",
              " 'seeyouagain1',\n",
              " 'yu86640132',\n",
              " 'koulapic33',\n",
              " 'khurram_',\n",
              " '123456ts',\n",
              " 'kunyukbabi69',\n",
              " 'xanyrum650',\n",
              " 'p0lp0l',\n",
              " 'uqilyni846',\n",
              " 'aqyba894',\n",
              " 'Oshity07142014',\n",
              " 'topgan22',\n",
              " 'exitos2009',\n",
              " 'growerz543',\n",
              " 'tahseen75',\n",
              " 'mohantra1',\n",
              " 'juliana19',\n",
              " 'in595462',\n",
              " 'roxana1993',\n",
              " 'lqksuym982',\n",
              " '2652033abc',\n",
              " '147963asd',\n",
              " 'komorek11',\n",
              " 'prisonbreak1',\n",
              " 'tukaxo486',\n",
              " 'midgeman8505',\n",
              " 'a03242241431a',\n",
              " 'alchimie79',\n",
              " 'pacman23',\n",
              " 'gracimir87',\n",
              " 'rakag279',\n",
              " 'olyucskw52',\n",
              " 'pato221182',\n",
              " 'ufoduvo540',\n",
              " 'PEPITO00',\n",
              " '01161590m',\n",
              " 'pardalgg5',\n",
              " 'we34dar88',\n",
              " 'y0unus',\n",
              " 'juliana00',\n",
              " 'upomel180',\n",
              " 'autan88',\n",
              " 'h1h2h3h4h5',\n",
              " 'UF1Z2WjE5Mg26R1K',\n",
              " 'juliana19',\n",
              " 'avanakit72',\n",
              " 'xie635891',\n",
              " 'ilonu497',\n",
              " 'yut0838828185',\n",
              " 'qopybuxi2',\n",
              " 'kah4544875',\n",
              " '9h7v4z91',\n",
              " 'password0880',\n",
              " 'jsm159167',\n",
              " 'aan2900220',\n",
              " '68a2445667',\n",
              " 'aosmaxd0',\n",
              " 'IP1yaTDUzOQWAeI5',\n",
              " 'zjl0kx03',\n",
              " 'cigicigi123',\n",
              " 'hodaq103',\n",
              " 'gill02',\n",
              " 'oslicek00',\n",
              " 'yv3hpf',\n",
              " 'hqh2eYjQxOQPYIsA',\n",
              " 'kah4544875',\n",
              " 'e667794c1d',\n",
              " 'khmer100.03278&?><Mnb',\n",
              " '8521901bzk',\n",
              " 'killer5',\n",
              " 'clave08',\n",
              " 'juliana00',\n",
              " 'owary200',\n",
              " 'nicolas05',\n",
              " 'AVYq1lDE4MgAZfNt',\n",
              " 'w9209640',\n",
              " 'wxS2ztDk4OATjBfI',\n",
              " 'ras996633',\n",
              " 'zedika521',\n",
              " 'osimeytju12',\n",
              " 'mndzbqkv651',\n",
              " 'faranumar91',\n",
              " 'wo9aiwangyan',\n",
              " 'taulant123',\n",
              " '12345687vini',\n",
              " 'faisal213',\n",
              " 'gozv3e5',\n",
              " '123linux',\n",
              " 'X9WVojjE4MgVAIiR',\n",
              " 'lamborghin1',\n",
              " '2fakjv',\n",
              " '12345687vini',\n",
              " 'xzeyfbi495',\n",
              " 'nK0yKXTU0NQHZE2e',\n",
              " 'ga98SIzk0NwhiZaE',\n",
              " 'djda1203zj',\n",
              " 'ikanez886',\n",
              " 's0xwym7h',\n",
              " 'witek1709',\n",
              " '19840510kkk1',\n",
              " '2652033abc',\n",
              " 'avanakit72',\n",
              " 'LypOJUfuLYrO477',\n",
              " 'la3na4you',\n",
              " '27121995qw',\n",
              " 'nK0yKXTU0NQHZE2e',\n",
              " '9950twofour0',\n",
              " 'bozoxik602',\n",
              " 'gopal8420',\n",
              " 'yudhia30',\n",
              " 'hodygid757',\n",
              " 'Ju6BIMTU0MwYXtL4',\n",
              " 'igejasy712',\n",
              " 'meopvywk628',\n",
              " 'kVczcljg4OA25Aeb',\n",
              " 'r0cker',\n",
              " 'jl440033',\n",
              " 'rrilni1747',\n",
              " '68a2445667',\n",
              " 'carla99',\n",
              " 'hayhayq2',\n",
              " 'c3h8bkzr',\n",
              " 'juliana00',\n",
              " '4TXr5KDYxNQVTo4g',\n",
              " '0847440744z',\n",
              " 'ryjypes139',\n",
              " 'Ju6BIMTU0MwYXtL4',\n",
              " 'isqizkg1',\n",
              " '1ug2UKzQyMQBsleD',\n",
              " 'aziz098765',\n",
              " '1245386fj',\n",
              " 'cesarmaio1',\n",
              " 'faranumar91',\n",
              " 'marita1',\n",
              " '0123one47',\n",
              " 'pardalgg5',\n",
              " '7l1hu1xa',\n",
              " '1k9izx',\n",
              " 'taulant123',\n",
              " 'tot2531s',\n",
              " 'paola1995',\n",
              " 'juliana19',\n",
              " 'gerylyx688',\n",
              " 'jalal123456',\n",
              " 'mickael12',\n",
              " 'hola45',\n",
              " 'pacific52',\n",
              " '1jancok',\n",
              " 'djawl1228',\n",
              " 'cockw0mble',\n",
              " 'BB11227122',\n",
              " '159951josh',\n",
              " 'naseKoBUMIg295',\n",
              " 'nhfdff2512',\n",
              " 'wo9aiwangyan',\n",
              " 'ts02521712',\n",
              " 'fr8OClDY1MAdEhHa',\n",
              " 'wo9aiwangyan',\n",
              " 'nK0yKXTU0NQHZE2e',\n",
              " 'X9WVojjE4MgVAIiR',\n",
              " 'afavin964',\n",
              " 'cacat123',\n",
              " 'igejasy712',\n",
              " 'kjkjkj1',\n",
              " 'moimoimoi9',\n",
              " 'tim80327',\n",
              " 'jbiz04h4',\n",
              " 'asgaliu11',\n",
              " 'gohan2602',\n",
              " 'ci0n3exor',\n",
              " 'pedronha96',\n",
              " 'examy624',\n",
              " 'meena25',\n",
              " 'oscar69',\n",
              " '1597535youssi',\n",
              " 'faqih82',\n",
              " 'princ3sa',\n",
              " 'pr0f1s10',\n",
              " 'kdl9cl53',\n",
              " 'sanjaime1',\n",
              " 'vietnga92',\n",
              " '225arysorIgEKa',\n",
              " 'gaymaids1',\n",
              " 'p0lp0l',\n",
              " 'bijou2012',\n",
              " '1jancok',\n",
              " 'yllime123',\n",
              " 'webhost08',\n",
              " '0847440744z',\n",
              " 'ass359',\n",
              " 'w9209640',\n",
              " '1991vikash',\n",
              " 'hello2104',\n",
              " 'edcmki90',\n",
              " '2d0d7qfz',\n",
              " 'klister1',\n",
              " 'change201',\n",
              " 'kry1z9',\n",
              " ...]"
            ]
          },
          "metadata": {},
          "execution_count": 16
        }
      ],
      "source": [
        "# check pass words\n",
        "x"
      ]
    },
    {
      "cell_type": "code",
      "execution_count": null,
      "metadata": {
        "id": "alcpf0zedi9E",
        "colab": {
          "base_uri": "https://localhost:8080/"
        },
        "outputId": "886b65cd-d065-4789-d534-ee9fe5db89a5"
      },
      "outputs": [
        {
          "output_type": "execute_result",
          "data": {
            "text/plain": [
              "[1,\n",
              " 1,\n",
              " 1,\n",
              " 1,\n",
              " 1,\n",
              " 1,\n",
              " 1,\n",
              " 1,\n",
              " 2,\n",
              " 2,\n",
              " 1,\n",
              " 1,\n",
              " 1,\n",
              " 1,\n",
              " 1,\n",
              " 1,\n",
              " 1,\n",
              " 1,\n",
              " 1,\n",
              " 1,\n",
              " 1,\n",
              " 1,\n",
              " 0,\n",
              " 1,\n",
              " 1,\n",
              " 2,\n",
              " 1,\n",
              " 1,\n",
              " 1,\n",
              " 1,\n",
              " 1,\n",
              " 1,\n",
              " 1,\n",
              " 1,\n",
              " 1,\n",
              " 1,\n",
              " 1,\n",
              " 0,\n",
              " 0,\n",
              " 0,\n",
              " 1,\n",
              " 1,\n",
              " 1,\n",
              " 1,\n",
              " 1,\n",
              " 1,\n",
              " 0,\n",
              " 1,\n",
              " 1,\n",
              " 1,\n",
              " 1,\n",
              " 1,\n",
              " 1,\n",
              " 1,\n",
              " 1,\n",
              " 1,\n",
              " 1,\n",
              " 1,\n",
              " 1,\n",
              " 1,\n",
              " 2,\n",
              " 1,\n",
              " 1,\n",
              " 1,\n",
              " 0,\n",
              " 2,\n",
              " 0,\n",
              " 1,\n",
              " 1,\n",
              " 1,\n",
              " 2,\n",
              " 1,\n",
              " 2,\n",
              " 0,\n",
              " 2,\n",
              " 0,\n",
              " 1,\n",
              " 2,\n",
              " 1,\n",
              " 1,\n",
              " 1,\n",
              " 1,\n",
              " 1,\n",
              " 2,\n",
              " 0,\n",
              " 1,\n",
              " 1,\n",
              " 1,\n",
              " 1,\n",
              " 1,\n",
              " 1,\n",
              " 2,\n",
              " 1,\n",
              " 1,\n",
              " 0,\n",
              " 2,\n",
              " 1,\n",
              " 1,\n",
              " 1,\n",
              " 2,\n",
              " 2,\n",
              " 1,\n",
              " 1,\n",
              " 1,\n",
              " 1,\n",
              " 1,\n",
              " 1,\n",
              " 2,\n",
              " 0,\n",
              " 1,\n",
              " 0,\n",
              " 1,\n",
              " 1,\n",
              " 1,\n",
              " 2,\n",
              " 1,\n",
              " 1,\n",
              " 1,\n",
              " 2,\n",
              " 1,\n",
              " 1,\n",
              " 1,\n",
              " 1,\n",
              " 1,\n",
              " 1,\n",
              " 1,\n",
              " 1,\n",
              " 0,\n",
              " 2,\n",
              " 0,\n",
              " 0,\n",
              " 2,\n",
              " 1,\n",
              " 1,\n",
              " 1,\n",
              " 0,\n",
              " 0,\n",
              " 2,\n",
              " 1,\n",
              " 0,\n",
              " 2,\n",
              " 2,\n",
              " 0,\n",
              " 0,\n",
              " 2,\n",
              " 1,\n",
              " 1,\n",
              " 1,\n",
              " 1,\n",
              " 1,\n",
              " 0,\n",
              " 0,\n",
              " 1,\n",
              " 1,\n",
              " 1,\n",
              " 2,\n",
              " 1,\n",
              " 1,\n",
              " 1,\n",
              " 1,\n",
              " 1,\n",
              " 1,\n",
              " 1,\n",
              " 1,\n",
              " 1,\n",
              " 0,\n",
              " 2,\n",
              " 1,\n",
              " 1,\n",
              " 1,\n",
              " 0,\n",
              " 0,\n",
              " 1,\n",
              " 1,\n",
              " 1,\n",
              " 1,\n",
              " 1,\n",
              " 1,\n",
              " 1,\n",
              " 1,\n",
              " 1,\n",
              " 2,\n",
              " 1,\n",
              " 1,\n",
              " 1,\n",
              " 1,\n",
              " 1,\n",
              " 1,\n",
              " 1,\n",
              " 1,\n",
              " 1,\n",
              " 0,\n",
              " 2,\n",
              " 1,\n",
              " 0,\n",
              " 1,\n",
              " 1,\n",
              " 1,\n",
              " 1,\n",
              " 0,\n",
              " 0,\n",
              " 0,\n",
              " 1,\n",
              " 1,\n",
              " 2,\n",
              " 1,\n",
              " 1,\n",
              " 0,\n",
              " 1,\n",
              " 1,\n",
              " 0,\n",
              " 1,\n",
              " 0,\n",
              " 1,\n",
              " 2,\n",
              " 1,\n",
              " 1,\n",
              " 1,\n",
              " 0,\n",
              " 1,\n",
              " 0,\n",
              " 1,\n",
              " 0,\n",
              " 1,\n",
              " 2,\n",
              " 1,\n",
              " 2,\n",
              " 1,\n",
              " 0,\n",
              " 0,\n",
              " 1,\n",
              " 1,\n",
              " 1,\n",
              " 0,\n",
              " 2,\n",
              " 0,\n",
              " 1,\n",
              " 1,\n",
              " 1,\n",
              " 1,\n",
              " 1,\n",
              " 0,\n",
              " 1,\n",
              " 1,\n",
              " 1,\n",
              " 0,\n",
              " 0,\n",
              " 0,\n",
              " 2,\n",
              " 2,\n",
              " 1,\n",
              " 1,\n",
              " 1,\n",
              " 1,\n",
              " 1,\n",
              " 1,\n",
              " 1,\n",
              " 1,\n",
              " 1,\n",
              " 2,\n",
              " 1,\n",
              " 0,\n",
              " 1,\n",
              " 0,\n",
              " 1,\n",
              " 0,\n",
              " 0,\n",
              " 1,\n",
              " 1,\n",
              " 1,\n",
              " 1,\n",
              " 1,\n",
              " 0,\n",
              " 1,\n",
              " 1,\n",
              " 2,\n",
              " 1,\n",
              " 1,\n",
              " 0,\n",
              " 1,\n",
              " 1,\n",
              " 1,\n",
              " 0,\n",
              " 1,\n",
              " 1,\n",
              " 1,\n",
              " 0,\n",
              " 1,\n",
              " 2,\n",
              " 0,\n",
              " 1,\n",
              " 1,\n",
              " 1,\n",
              " 1,\n",
              " 1,\n",
              " 2,\n",
              " 2,\n",
              " 1,\n",
              " 1,\n",
              " 2,\n",
              " 1,\n",
              " 1,\n",
              " 2,\n",
              " 0,\n",
              " 1,\n",
              " 2,\n",
              " 1,\n",
              " 0,\n",
              " 1,\n",
              " 1,\n",
              " 1,\n",
              " 1,\n",
              " 1,\n",
              " 1,\n",
              " 1,\n",
              " 1,\n",
              " 0,\n",
              " 2,\n",
              " 0,\n",
              " 1,\n",
              " 1,\n",
              " 1,\n",
              " 0,\n",
              " 1,\n",
              " 1,\n",
              " 1,\n",
              " 1,\n",
              " 1,\n",
              " 1,\n",
              " 1,\n",
              " 1,\n",
              " 1,\n",
              " 1,\n",
              " 0,\n",
              " 1,\n",
              " 2,\n",
              " 1,\n",
              " 1,\n",
              " 1,\n",
              " 1,\n",
              " 1,\n",
              " 2,\n",
              " 1,\n",
              " 2,\n",
              " 1,\n",
              " 1,\n",
              " 1,\n",
              " 1,\n",
              " 1,\n",
              " 1,\n",
              " 0,\n",
              " 0,\n",
              " 1,\n",
              " 1,\n",
              " 1,\n",
              " 0,\n",
              " 1,\n",
              " 1,\n",
              " 1,\n",
              " 0,\n",
              " 1,\n",
              " 1,\n",
              " 2,\n",
              " 2,\n",
              " 1,\n",
              " 1,\n",
              " 1,\n",
              " 0,\n",
              " 1,\n",
              " 1,\n",
              " 1,\n",
              " 0,\n",
              " 1,\n",
              " 1,\n",
              " 1,\n",
              " 1,\n",
              " 2,\n",
              " 1,\n",
              " 2,\n",
              " 1,\n",
              " 0,\n",
              " 0,\n",
              " 1,\n",
              " 0,\n",
              " 1,\n",
              " 2,\n",
              " 0,\n",
              " 1,\n",
              " 0,\n",
              " 1,\n",
              " 1,\n",
              " 1,\n",
              " 1,\n",
              " 2,\n",
              " 0,\n",
              " 1,\n",
              " 1,\n",
              " 1,\n",
              " 1,\n",
              " 1,\n",
              " 1,\n",
              " 1,\n",
              " 2,\n",
              " 1,\n",
              " 1,\n",
              " 1,\n",
              " 1,\n",
              " 1,\n",
              " 1,\n",
              " 1,\n",
              " 1,\n",
              " 1,\n",
              " 1,\n",
              " 1,\n",
              " 1,\n",
              " 1,\n",
              " 1,\n",
              " 1,\n",
              " 1,\n",
              " 1,\n",
              " 1,\n",
              " 0,\n",
              " 1,\n",
              " 1,\n",
              " 1,\n",
              " 1,\n",
              " 1,\n",
              " 1,\n",
              " 0,\n",
              " 1,\n",
              " 1,\n",
              " 1,\n",
              " 1,\n",
              " 0,\n",
              " 0,\n",
              " 1,\n",
              " 1,\n",
              " 1,\n",
              " 1,\n",
              " 0,\n",
              " 1,\n",
              " 1,\n",
              " 1,\n",
              " 1,\n",
              " 1,\n",
              " 1,\n",
              " 1,\n",
              " 1,\n",
              " 1,\n",
              " 1,\n",
              " 1,\n",
              " 1,\n",
              " 1,\n",
              " 1,\n",
              " 1,\n",
              " 1,\n",
              " 1,\n",
              " 1,\n",
              " 1,\n",
              " 1,\n",
              " 1,\n",
              " 1,\n",
              " 1,\n",
              " 1,\n",
              " 1,\n",
              " 1,\n",
              " 1,\n",
              " 1,\n",
              " 2,\n",
              " 1,\n",
              " 1,\n",
              " 1,\n",
              " 1,\n",
              " 2,\n",
              " 1,\n",
              " 1,\n",
              " 1,\n",
              " 1,\n",
              " 0,\n",
              " 1,\n",
              " 1,\n",
              " 0,\n",
              " 1,\n",
              " 1,\n",
              " 0,\n",
              " 1,\n",
              " 0,\n",
              " 1,\n",
              " 1,\n",
              " 1,\n",
              " 1,\n",
              " 2,\n",
              " 0,\n",
              " 1,\n",
              " 1,\n",
              " 2,\n",
              " 1,\n",
              " 1,\n",
              " 0,\n",
              " 1,\n",
              " 1,\n",
              " 0,\n",
              " 1,\n",
              " 1,\n",
              " 2,\n",
              " 1,\n",
              " 1,\n",
              " 1,\n",
              " 1,\n",
              " 2,\n",
              " 1,\n",
              " 1,\n",
              " 1,\n",
              " 1,\n",
              " 1,\n",
              " 1,\n",
              " 0,\n",
              " 2,\n",
              " 1,\n",
              " 1,\n",
              " 1,\n",
              " 1,\n",
              " 1,\n",
              " 2,\n",
              " 1,\n",
              " 1,\n",
              " 1,\n",
              " 1,\n",
              " 1,\n",
              " 0,\n",
              " 2,\n",
              " 1,\n",
              " 1,\n",
              " 1,\n",
              " 1,\n",
              " 1,\n",
              " 1,\n",
              " 1,\n",
              " 1,\n",
              " 1,\n",
              " 0,\n",
              " 1,\n",
              " 0,\n",
              " 1,\n",
              " 1,\n",
              " 1,\n",
              " 1,\n",
              " 1,\n",
              " 1,\n",
              " 1,\n",
              " 1,\n",
              " 1,\n",
              " 0,\n",
              " 1,\n",
              " 1,\n",
              " 1,\n",
              " 1,\n",
              " 1,\n",
              " 2,\n",
              " 1,\n",
              " 1,\n",
              " 2,\n",
              " 0,\n",
              " 1,\n",
              " 2,\n",
              " 1,\n",
              " 1,\n",
              " 1,\n",
              " 1,\n",
              " 0,\n",
              " 1,\n",
              " 2,\n",
              " 0,\n",
              " 1,\n",
              " 0,\n",
              " 1,\n",
              " 2,\n",
              " 1,\n",
              " 2,\n",
              " 0,\n",
              " 2,\n",
              " 2,\n",
              " 1,\n",
              " 1,\n",
              " 1,\n",
              " 1,\n",
              " 1,\n",
              " 1,\n",
              " 1,\n",
              " 1,\n",
              " 1,\n",
              " 1,\n",
              " 0,\n",
              " 1,\n",
              " 2,\n",
              " 1,\n",
              " 1,\n",
              " 1,\n",
              " 2,\n",
              " 1,\n",
              " 2,\n",
              " 1,\n",
              " 1,\n",
              " 1,\n",
              " 1,\n",
              " 2,\n",
              " 1,\n",
              " 0,\n",
              " 1,\n",
              " 2,\n",
              " 0,\n",
              " 1,\n",
              " 1,\n",
              " 1,\n",
              " 1,\n",
              " 2,\n",
              " 1,\n",
              " 1,\n",
              " 1,\n",
              " 1,\n",
              " 1,\n",
              " 1,\n",
              " 1,\n",
              " 1,\n",
              " 1,\n",
              " 1,\n",
              " 1,\n",
              " 1,\n",
              " 1,\n",
              " 1,\n",
              " 0,\n",
              " 1,\n",
              " 1,\n",
              " 1,\n",
              " 1,\n",
              " 1,\n",
              " 0,\n",
              " 1,\n",
              " 0,\n",
              " 1,\n",
              " 0,\n",
              " 1,\n",
              " 1,\n",
              " 1,\n",
              " 2,\n",
              " 1,\n",
              " 1,\n",
              " 1,\n",
              " 1,\n",
              " 2,\n",
              " 1,\n",
              " 0,\n",
              " 1,\n",
              " 0,\n",
              " 0,\n",
              " 1,\n",
              " 2,\n",
              " 1,\n",
              " 2,\n",
              " 0,\n",
              " 2,\n",
              " 1,\n",
              " 1,\n",
              " 1,\n",
              " 1,\n",
              " 2,\n",
              " 2,\n",
              " 1,\n",
              " 1,\n",
              " 1,\n",
              " 1,\n",
              " 1,\n",
              " 1,\n",
              " 1,\n",
              " 1,\n",
              " 2,\n",
              " 1,\n",
              " 1,\n",
              " 1,\n",
              " 1,\n",
              " 1,\n",
              " 1,\n",
              " 1,\n",
              " 1,\n",
              " 1,\n",
              " 1,\n",
              " 0,\n",
              " 1,\n",
              " 1,\n",
              " 2,\n",
              " 0,\n",
              " 0,\n",
              " 0,\n",
              " 1,\n",
              " 1,\n",
              " 1,\n",
              " 1,\n",
              " 1,\n",
              " 1,\n",
              " 1,\n",
              " 0,\n",
              " 1,\n",
              " 1,\n",
              " 1,\n",
              " 0,\n",
              " 1,\n",
              " 1,\n",
              " 1,\n",
              " 1,\n",
              " 1,\n",
              " 1,\n",
              " 1,\n",
              " 2,\n",
              " 2,\n",
              " 2,\n",
              " 1,\n",
              " 2,\n",
              " 1,\n",
              " 2,\n",
              " 1,\n",
              " 2,\n",
              " 1,\n",
              " 1,\n",
              " 1,\n",
              " 1,\n",
              " 1,\n",
              " 1,\n",
              " 2,\n",
              " 1,\n",
              " 2,\n",
              " 1,\n",
              " 2,\n",
              " 1,\n",
              " 1,\n",
              " 1,\n",
              " 1,\n",
              " 1,\n",
              " 1,\n",
              " 1,\n",
              " 0,\n",
              " 1,\n",
              " 1,\n",
              " 1,\n",
              " 0,\n",
              " 1,\n",
              " 1,\n",
              " 1,\n",
              " 0,\n",
              " 1,\n",
              " 1,\n",
              " 1,\n",
              " 1,\n",
              " 1,\n",
              " 1,\n",
              " 2,\n",
              " 2,\n",
              " 0,\n",
              " 1,\n",
              " 1,\n",
              " 0,\n",
              " 0,\n",
              " 0,\n",
              " 1,\n",
              " 1,\n",
              " 1,\n",
              " 1,\n",
              " 1,\n",
              " 2,\n",
              " 1,\n",
              " 1,\n",
              " 1,\n",
              " 0,\n",
              " 1,\n",
              " 1,\n",
              " 1,\n",
              " 2,\n",
              " 1,\n",
              " 1,\n",
              " 1,\n",
              " 1,\n",
              " 1,\n",
              " 1,\n",
              " 0,\n",
              " 1,\n",
              " 2,\n",
              " 0,\n",
              " 1,\n",
              " 1,\n",
              " 1,\n",
              " 1,\n",
              " 0,\n",
              " 1,\n",
              " 1,\n",
              " 1,\n",
              " 1,\n",
              " 1,\n",
              " 1,\n",
              " 1,\n",
              " 1,\n",
              " 1,\n",
              " 0,\n",
              " 1,\n",
              " 1,\n",
              " 1,\n",
              " 1,\n",
              " 1,\n",
              " 1,\n",
              " 1,\n",
              " 1,\n",
              " 0,\n",
              " 1,\n",
              " 1,\n",
              " 2,\n",
              " 1,\n",
              " 1,\n",
              " 1,\n",
              " 1,\n",
              " 1,\n",
              " 1,\n",
              " 1,\n",
              " 1,\n",
              " 1,\n",
              " 1,\n",
              " 1,\n",
              " 1,\n",
              " 1,\n",
              " 1,\n",
              " 1,\n",
              " 1,\n",
              " 1,\n",
              " 1,\n",
              " 1,\n",
              " 1,\n",
              " 1,\n",
              " 1,\n",
              " 1,\n",
              " 1,\n",
              " 1,\n",
              " 1,\n",
              " 1,\n",
              " 0,\n",
              " 1,\n",
              " 1,\n",
              " 0,\n",
              " 1,\n",
              " 2,\n",
              " 1,\n",
              " 1,\n",
              " 1,\n",
              " 1,\n",
              " 1,\n",
              " 1,\n",
              " 1,\n",
              " 1,\n",
              " 1,\n",
              " 1,\n",
              " 1,\n",
              " 1,\n",
              " 1,\n",
              " 2,\n",
              " 1,\n",
              " 1,\n",
              " 1,\n",
              " 0,\n",
              " 1,\n",
              " 0,\n",
              " 2,\n",
              " 1,\n",
              " 1,\n",
              " 2,\n",
              " 1,\n",
              " 0,\n",
              " 0,\n",
              " 1,\n",
              " 1,\n",
              " 1,\n",
              " 2,\n",
              " 1,\n",
              " 2,\n",
              " 1,\n",
              " 1,\n",
              " 1,\n",
              " 1,\n",
              " 1,\n",
              " 1,\n",
              " 1,\n",
              " 1,\n",
              " 1,\n",
              " 0,\n",
              " 1,\n",
              " 2,\n",
              " 1,\n",
              " 0,\n",
              " 1,\n",
              " 1,\n",
              " 2,\n",
              " 2,\n",
              " 1,\n",
              " 1,\n",
              " 1,\n",
              " 1,\n",
              " 1,\n",
              " 1,\n",
              " 1,\n",
              " 2,\n",
              " 1,\n",
              " 1,\n",
              " 2,\n",
              " 1,\n",
              " 1,\n",
              " 1,\n",
              " 1,\n",
              " 1,\n",
              " 2,\n",
              " 1,\n",
              " 1,\n",
              " 2,\n",
              " 0,\n",
              " 1,\n",
              " 1,\n",
              " 1,\n",
              " 0,\n",
              " 1,\n",
              " 1,\n",
              " 1,\n",
              " 2,\n",
              " 1,\n",
              " 1,\n",
              " 2,\n",
              " 1,\n",
              " 2,\n",
              " 1,\n",
              " 1,\n",
              " 1,\n",
              " 1,\n",
              " 0,\n",
              " 1,\n",
              " 1,\n",
              " 1,\n",
              " 0,\n",
              " 1,\n",
              " 1,\n",
              " 1,\n",
              " 1,\n",
              " 1,\n",
              " 1,\n",
              " 1,\n",
              " 0,\n",
              " 1,\n",
              " 0,\n",
              " 1,\n",
              " 1,\n",
              " 1,\n",
              " 1,\n",
              " 2,\n",
              " 1,\n",
              " 1,\n",
              " 1,\n",
              " 2,\n",
              " 1,\n",
              " 2,\n",
              " 2,\n",
              " 1,\n",
              " 1,\n",
              " 1,\n",
              " 0,\n",
              " 1,\n",
              " 1,\n",
              " 1,\n",
              " 1,\n",
              " 1,\n",
              " 1,\n",
              " 1,\n",
              " 1,\n",
              " 0,\n",
              " 0,\n",
              " 1,\n",
              " 0,\n",
              " 1,\n",
              " 1,\n",
              " 1,\n",
              " 1,\n",
              " 1,\n",
              " 2,\n",
              " 1,\n",
              " 0,\n",
              " 1,\n",
              " 0,\n",
              " 1,\n",
              " 1,\n",
              " 1,\n",
              " 0,\n",
              " 1,\n",
              " 1,\n",
              " 1,\n",
              " 1,\n",
              " 1,\n",
              " 1,\n",
              " 1,\n",
              " 0,\n",
              " ...]"
            ]
          },
          "metadata": {},
          "execution_count": 17
        }
      ],
      "source": [
        "#check the classes \n",
        "y"
      ]
    },
    {
      "cell_type": "code",
      "execution_count": null,
      "metadata": {
        "id": "mU0-2fkWzZSc"
      },
      "outputs": [],
      "source": [
        "# define the function that convert words into charecters  (example hello = {h, e,l,l,o} )\n",
        "def word_divider(words):\n",
        "    char=[]\n",
        "    for i in words:\n",
        "        char.append(i)\n",
        "    return char"
      ]
    },
    {
      "cell_type": "code",
      "execution_count": null,
      "metadata": {
        "id": "IE5X3TV6zbd9",
        "colab": {
          "base_uri": "https://localhost:8080/"
        },
        "outputId": "eecebdd3-b4c7-424d-d67c-07631efea0f0"
      },
      "outputs": [
        {
          "output_type": "execute_result",
          "data": {
            "text/plain": [
              "['a', 's', 'd', 'f', '5', '7']"
            ]
          },
          "metadata": {},
          "execution_count": 19
        }
      ],
      "source": [
        "#test the function\n",
        "word_divider('asdf57')"
      ]
    },
    {
      "cell_type": "markdown",
      "metadata": {
        "id": "ARnZhGmNznhc"
      },
      "source": [
        "import TF-IDF vectorizer to convert String data into numerical data"
      ]
    },
    {
      "cell_type": "code",
      "execution_count": null,
      "metadata": {
        "id": "e6s8fCpqzeXF"
      },
      "outputs": [],
      "source": [
        "from sklearn.feature_extraction.text import TfidfVectorizer"
      ]
    },
    {
      "cell_type": "code",
      "execution_count": null,
      "metadata": {
        "id": "0u_k99RU-K7o"
      },
      "outputs": [],
      "source": [
        "from nltk.tokenize import word_tokenize\n",
        "\n",
        "def createTokens(text):\n",
        "    tokens = word_tokenize(text)\n",
        "    return tokens"
      ]
    },
    {
      "cell_type": "code",
      "execution_count": null,
      "metadata": {
        "id": "yUrrJBh-hZiG"
      },
      "outputs": [],
      "source": [
        "vectorizer = TfidfVectorizer(tokenizer=createTokens)"
      ]
    },
    {
      "cell_type": "code",
      "execution_count": null,
      "metadata": {
        "id": "qEbuoeR_-JnY"
      },
      "outputs": [],
      "source": []
    },
    {
      "cell_type": "code",
      "execution_count": null,
      "metadata": {
        "id": "uhJVsjxmMNQm"
      },
      "outputs": [],
      "source": []
    },
    {
      "cell_type": "code",
      "execution_count": null,
      "metadata": {
        "id": "sK9JiHQpMNk0"
      },
      "outputs": [],
      "source": [
        "from sklearn.feature_extraction.text import CountVectorizer\n",
        "from sklearn.feature_extraction.text import TfidfVectorizer"
      ]
    },
    {
      "cell_type": "code",
      "execution_count": null,
      "metadata": {
        "id": "yO5DS8Ou5sWP"
      },
      "outputs": [],
      "source": [
        "vectorizer = CountVectorizer()"
      ]
    },
    {
      "cell_type": "code",
      "execution_count": null,
      "metadata": {
        "id": "WrS4vybXzqIm"
      },
      "outputs": [],
      "source": [
        "vectorizer=TfidfVectorizer(tokenizer=word_divider)\n"
      ]
    },
    {
      "cell_type": "code",
      "execution_count": null,
      "metadata": {
        "id": "QvqRkNHAzt5n",
        "colab": {
          "base_uri": "https://localhost:8080/"
        },
        "outputId": "9238b418-5a0d-4431-98ad-7dff0342c8a1"
      },
      "outputs": [
        {
          "output_type": "stream",
          "name": "stderr",
          "text": [
            "/usr/local/lib/python3.9/dist-packages/sklearn/feature_extraction/text.py:528: UserWarning: The parameter 'token_pattern' will not be used since 'tokenizer' is not None'\n",
            "  warnings.warn(\n"
          ]
        }
      ],
      "source": [
        "X=vectorizer.fit_transform(x)"
      ]
    },
    {
      "cell_type": "code",
      "execution_count": null,
      "metadata": {
        "id": "321r_xz8zwFc",
        "colab": {
          "base_uri": "https://localhost:8080/"
        },
        "outputId": "4e6e5238-8fd8-4c5d-a431-621172fec719"
      },
      "outputs": [
        {
          "output_type": "execute_result",
          "data": {
            "text/plain": [
              "(50000, 81)"
            ]
          },
          "metadata": {},
          "execution_count": 27
        }
      ],
      "source": [
        "X.shape"
      ]
    },
    {
      "cell_type": "code",
      "execution_count": null,
      "metadata": {
        "id": "CwuLvuDy4EfN",
        "colab": {
          "base_uri": "https://localhost:8080/"
        },
        "outputId": "951ac240-341e-4001-98ab-512f0381a1aa"
      },
      "outputs": [
        {
          "output_type": "execute_result",
          "data": {
            "text/plain": [
              "{'k': 50,\n",
              " 'z': 65,\n",
              " 'd': 43,\n",
              " 'e': 44,\n",
              " '5': 23,\n",
              " '7': 25,\n",
              " 'v': 61,\n",
              " 'i': 48,\n",
              " 's': 58,\n",
              " '1': 19,\n",
              " 'y': 64,\n",
              " 'r': 57,\n",
              " 'm': 52,\n",
              " 'g': 46,\n",
              " '2': 20,\n",
              " '3': 21,\n",
              " 'a': 40,\n",
              " 'q': 56,\n",
              " 'l': 51,\n",
              " '4': 22,\n",
              " 'f': 45,\n",
              " 'n': 53,\n",
              " 't': 59,\n",
              " 'b': 41,\n",
              " 'o': 54,\n",
              " 'h': 47,\n",
              " 'u': 60,\n",
              " '6': 24,\n",
              " 'c': 42,\n",
              " '8': 26,\n",
              " 'w': 62,\n",
              " '0': 18,\n",
              " 'j': 49,\n",
              " '9': 27,\n",
              " 'p': 55,\n",
              " '-': 15,\n",
              " '.': 16,\n",
              " '&': 10,\n",
              " '?': 32,\n",
              " '>': 31,\n",
              " '<': 29,\n",
              " 'x': 63,\n",
              " '!': 5,\n",
              " '@': 33,\n",
              " '_': 38,\n",
              " ';': 28,\n",
              " '(': 11,\n",
              " ')': 12,\n",
              " '^': 37,\n",
              " '#': 7,\n",
              " '/': 17,\n",
              " ' ': 4,\n",
              " '$': 8,\n",
              " '%': 9,\n",
              " 'ú': 78,\n",
              " '*': 13,\n",
              " '`': 39,\n",
              " '+': 14,\n",
              " '±': 69,\n",
              " '=': 30,\n",
              " '[': 34,\n",
              " '{': 66,\n",
              " '\"': 6,\n",
              " '~': 68,\n",
              " 'þ': 79,\n",
              " 'ó': 76,\n",
              " 'ô': 77,\n",
              " '\\\\': 35,\n",
              " '\\x1c': 2,\n",
              " '\\x16': 0,\n",
              " 'ò': 75,\n",
              " '·': 71,\n",
              " '\\x1e': 3,\n",
              " ']': 36,\n",
              " '}': 67,\n",
              " '³': 70,\n",
              " '\\x19': 1,\n",
              " '¿': 72,\n",
              " 'å': 74,\n",
              " '‚': 80,\n",
              " 'ä': 73}"
            ]
          },
          "metadata": {},
          "execution_count": 28
        }
      ],
      "source": [
        "vectorizer.vocabulary_"
      ]
    },
    {
      "cell_type": "code",
      "execution_count": null,
      "metadata": {
        "id": "Qz7ce4uuWfys"
      },
      "outputs": [],
      "source": [
        "vectorizer.vocabulary_\n",
        "try:\n",
        "  vectorizer.vocabulary_\n",
        "except:\n",
        "  AttributeError\n"
      ]
    },
    {
      "cell_type": "code",
      "execution_count": null,
      "metadata": {
        "id": "MON4iFAfz5Fd",
        "colab": {
          "base_uri": "https://localhost:8080/"
        },
        "outputId": "b3b21113-6331-449d-b8de-67474d50aa34"
      },
      "outputs": [
        {
          "output_type": "execute_result",
          "data": {
            "text/plain": [
              "<1x81 sparse matrix of type '<class 'numpy.float64'>'\n",
              "\twith 6 stored elements in Compressed Sparse Row format>"
            ]
          },
          "metadata": {},
          "execution_count": 30
        }
      ],
      "source": [
        "first_document_vector=X[0]\n",
        "first_document_vector"
      ]
    },
    {
      "cell_type": "code",
      "execution_count": null,
      "metadata": {
        "id": "D0nijxJyz710",
        "colab": {
          "base_uri": "https://localhost:8080/"
        },
        "outputId": "a59e3bbc-55aa-4458-b5d2-919bf0c7211b"
      },
      "outputs": [
        {
          "output_type": "execute_result",
          "data": {
            "text/plain": [
              "matrix([[0.        ],\n",
              "        [0.        ],\n",
              "        [0.        ],\n",
              "        [0.        ],\n",
              "        [0.        ],\n",
              "        [0.        ],\n",
              "        [0.        ],\n",
              "        [0.        ],\n",
              "        [0.        ],\n",
              "        [0.        ],\n",
              "        [0.        ],\n",
              "        [0.        ],\n",
              "        [0.        ],\n",
              "        [0.        ],\n",
              "        [0.        ],\n",
              "        [0.        ],\n",
              "        [0.        ],\n",
              "        [0.        ],\n",
              "        [0.        ],\n",
              "        [0.        ],\n",
              "        [0.        ],\n",
              "        [0.        ],\n",
              "        [0.        ],\n",
              "        [0.56792001],\n",
              "        [0.        ],\n",
              "        [0.59152668],\n",
              "        [0.        ],\n",
              "        [0.        ],\n",
              "        [0.        ],\n",
              "        [0.        ],\n",
              "        [0.        ],\n",
              "        [0.        ],\n",
              "        [0.        ],\n",
              "        [0.        ],\n",
              "        [0.        ],\n",
              "        [0.        ],\n",
              "        [0.        ],\n",
              "        [0.        ],\n",
              "        [0.        ],\n",
              "        [0.        ],\n",
              "        [0.        ],\n",
              "        [0.        ],\n",
              "        [0.        ],\n",
              "        [0.2863618 ],\n",
              "        [0.21913273],\n",
              "        [0.        ],\n",
              "        [0.        ],\n",
              "        [0.        ],\n",
              "        [0.        ],\n",
              "        [0.        ],\n",
              "        [0.29240506],\n",
              "        [0.        ],\n",
              "        [0.        ],\n",
              "        [0.        ],\n",
              "        [0.        ],\n",
              "        [0.        ],\n",
              "        [0.        ],\n",
              "        [0.        ],\n",
              "        [0.        ],\n",
              "        [0.        ],\n",
              "        [0.        ],\n",
              "        [0.        ],\n",
              "        [0.        ],\n",
              "        [0.        ],\n",
              "        [0.        ],\n",
              "        [0.33472392],\n",
              "        [0.        ],\n",
              "        [0.        ],\n",
              "        [0.        ],\n",
              "        [0.        ],\n",
              "        [0.        ],\n",
              "        [0.        ],\n",
              "        [0.        ],\n",
              "        [0.        ],\n",
              "        [0.        ],\n",
              "        [0.        ],\n",
              "        [0.        ],\n",
              "        [0.        ],\n",
              "        [0.        ],\n",
              "        [0.        ],\n",
              "        [0.        ]])"
            ]
          },
          "metadata": {},
          "execution_count": 31
        }
      ],
      "source": [
        "first_document_vector.T.todense()"
      ]
    },
    {
      "cell_type": "code",
      "execution_count": null,
      "metadata": {
        "id": "oNOhdExnz_MU"
      },
      "outputs": [],
      "source": [
        "df=pd.DataFrame(first_document_vector.T.todense(),index=vectorizer.vocabulary_,columns=['TF-IDE'])"
      ]
    },
    {
      "cell_type": "code",
      "execution_count": null,
      "metadata": {
        "id": "MdxOAr-H0B2U",
        "colab": {
          "base_uri": "https://localhost:8080/",
          "height": 424
        },
        "outputId": "10343eea-83fa-441f-f07c-172b83ae1cf9"
      },
      "outputs": [
        {
          "output_type": "execute_result",
          "data": {
            "text/plain": [
              "      TF-IDE\n",
              "h   0.591527\n",
              "b   0.567920\n",
              "ó   0.334724\n",
              "/   0.292405\n",
              "@   0.286362\n",
              "..       ...\n",
              "6   0.000000\n",
              "u   0.000000\n",
              "o   0.000000\n",
              "t   0.000000\n",
              "ä   0.000000\n",
              "\n",
              "[81 rows x 1 columns]"
            ],
            "text/html": [
              "\n",
              "  <div id=\"df-56b23b88-c748-4cb3-a566-921d6008b4b2\">\n",
              "    <div class=\"colab-df-container\">\n",
              "      <div>\n",
              "<style scoped>\n",
              "    .dataframe tbody tr th:only-of-type {\n",
              "        vertical-align: middle;\n",
              "    }\n",
              "\n",
              "    .dataframe tbody tr th {\n",
              "        vertical-align: top;\n",
              "    }\n",
              "\n",
              "    .dataframe thead th {\n",
              "        text-align: right;\n",
              "    }\n",
              "</style>\n",
              "<table border=\"1\" class=\"dataframe\">\n",
              "  <thead>\n",
              "    <tr style=\"text-align: right;\">\n",
              "      <th></th>\n",
              "      <th>TF-IDE</th>\n",
              "    </tr>\n",
              "  </thead>\n",
              "  <tbody>\n",
              "    <tr>\n",
              "      <th>h</th>\n",
              "      <td>0.591527</td>\n",
              "    </tr>\n",
              "    <tr>\n",
              "      <th>b</th>\n",
              "      <td>0.567920</td>\n",
              "    </tr>\n",
              "    <tr>\n",
              "      <th>ó</th>\n",
              "      <td>0.334724</td>\n",
              "    </tr>\n",
              "    <tr>\n",
              "      <th>/</th>\n",
              "      <td>0.292405</td>\n",
              "    </tr>\n",
              "    <tr>\n",
              "      <th>@</th>\n",
              "      <td>0.286362</td>\n",
              "    </tr>\n",
              "    <tr>\n",
              "      <th>...</th>\n",
              "      <td>...</td>\n",
              "    </tr>\n",
              "    <tr>\n",
              "      <th>6</th>\n",
              "      <td>0.000000</td>\n",
              "    </tr>\n",
              "    <tr>\n",
              "      <th>u</th>\n",
              "      <td>0.000000</td>\n",
              "    </tr>\n",
              "    <tr>\n",
              "      <th>o</th>\n",
              "      <td>0.000000</td>\n",
              "    </tr>\n",
              "    <tr>\n",
              "      <th>t</th>\n",
              "      <td>0.000000</td>\n",
              "    </tr>\n",
              "    <tr>\n",
              "      <th>ä</th>\n",
              "      <td>0.000000</td>\n",
              "    </tr>\n",
              "  </tbody>\n",
              "</table>\n",
              "<p>81 rows × 1 columns</p>\n",
              "</div>\n",
              "      <button class=\"colab-df-convert\" onclick=\"convertToInteractive('df-56b23b88-c748-4cb3-a566-921d6008b4b2')\"\n",
              "              title=\"Convert this dataframe to an interactive table.\"\n",
              "              style=\"display:none;\">\n",
              "        \n",
              "  <svg xmlns=\"http://www.w3.org/2000/svg\" height=\"24px\"viewBox=\"0 0 24 24\"\n",
              "       width=\"24px\">\n",
              "    <path d=\"M0 0h24v24H0V0z\" fill=\"none\"/>\n",
              "    <path d=\"M18.56 5.44l.94 2.06.94-2.06 2.06-.94-2.06-.94-.94-2.06-.94 2.06-2.06.94zm-11 1L8.5 8.5l.94-2.06 2.06-.94-2.06-.94L8.5 2.5l-.94 2.06-2.06.94zm10 10l.94 2.06.94-2.06 2.06-.94-2.06-.94-.94-2.06-.94 2.06-2.06.94z\"/><path d=\"M17.41 7.96l-1.37-1.37c-.4-.4-.92-.59-1.43-.59-.52 0-1.04.2-1.43.59L10.3 9.45l-7.72 7.72c-.78.78-.78 2.05 0 2.83L4 21.41c.39.39.9.59 1.41.59.51 0 1.02-.2 1.41-.59l7.78-7.78 2.81-2.81c.8-.78.8-2.07 0-2.86zM5.41 20L4 18.59l7.72-7.72 1.47 1.35L5.41 20z\"/>\n",
              "  </svg>\n",
              "      </button>\n",
              "      \n",
              "  <style>\n",
              "    .colab-df-container {\n",
              "      display:flex;\n",
              "      flex-wrap:wrap;\n",
              "      gap: 12px;\n",
              "    }\n",
              "\n",
              "    .colab-df-convert {\n",
              "      background-color: #E8F0FE;\n",
              "      border: none;\n",
              "      border-radius: 50%;\n",
              "      cursor: pointer;\n",
              "      display: none;\n",
              "      fill: #1967D2;\n",
              "      height: 32px;\n",
              "      padding: 0 0 0 0;\n",
              "      width: 32px;\n",
              "    }\n",
              "\n",
              "    .colab-df-convert:hover {\n",
              "      background-color: #E2EBFA;\n",
              "      box-shadow: 0px 1px 2px rgba(60, 64, 67, 0.3), 0px 1px 3px 1px rgba(60, 64, 67, 0.15);\n",
              "      fill: #174EA6;\n",
              "    }\n",
              "\n",
              "    [theme=dark] .colab-df-convert {\n",
              "      background-color: #3B4455;\n",
              "      fill: #D2E3FC;\n",
              "    }\n",
              "\n",
              "    [theme=dark] .colab-df-convert:hover {\n",
              "      background-color: #434B5C;\n",
              "      box-shadow: 0px 1px 3px 1px rgba(0, 0, 0, 0.15);\n",
              "      filter: drop-shadow(0px 1px 2px rgba(0, 0, 0, 0.3));\n",
              "      fill: #FFFFFF;\n",
              "    }\n",
              "  </style>\n",
              "\n",
              "      <script>\n",
              "        const buttonEl =\n",
              "          document.querySelector('#df-56b23b88-c748-4cb3-a566-921d6008b4b2 button.colab-df-convert');\n",
              "        buttonEl.style.display =\n",
              "          google.colab.kernel.accessAllowed ? 'block' : 'none';\n",
              "\n",
              "        async function convertToInteractive(key) {\n",
              "          const element = document.querySelector('#df-56b23b88-c748-4cb3-a566-921d6008b4b2');\n",
              "          const dataTable =\n",
              "            await google.colab.kernel.invokeFunction('convertToInteractive',\n",
              "                                                     [key], {});\n",
              "          if (!dataTable) return;\n",
              "\n",
              "          const docLinkHtml = 'Like what you see? Visit the ' +\n",
              "            '<a target=\"_blank\" href=https://colab.research.google.com/notebooks/data_table.ipynb>data table notebook</a>'\n",
              "            + ' to learn more about interactive tables.';\n",
              "          element.innerHTML = '';\n",
              "          dataTable['output_type'] = 'display_data';\n",
              "          await google.colab.output.renderOutput(dataTable, element);\n",
              "          const docLink = document.createElement('div');\n",
              "          docLink.innerHTML = docLinkHtml;\n",
              "          element.appendChild(docLink);\n",
              "        }\n",
              "      </script>\n",
              "    </div>\n",
              "  </div>\n",
              "  "
            ]
          },
          "metadata": {},
          "execution_count": 33
        }
      ],
      "source": [
        "df.sort_values(by=['TF-IDE'],ascending=False)"
      ]
    },
    {
      "cell_type": "code",
      "execution_count": null,
      "metadata": {
        "id": "72AFaIwE0B5v"
      },
      "outputs": [],
      "source": [
        "# devide data into test and training data\n",
        "\n",
        "from sklearn.model_selection import train_test_split"
      ]
    },
    {
      "cell_type": "code",
      "execution_count": null,
      "metadata": {
        "id": "RAnOihGV0B8z"
      },
      "outputs": [],
      "source": [
        "#training data = 80%     --- test data = 20%\n",
        "X_train,X_test,y_train,y_test=train_test_split(X,y,test_size=0.2)"
      ]
    },
    {
      "cell_type": "code",
      "execution_count": null,
      "metadata": {
        "id": "HB7Rzhit0Ik8",
        "colab": {
          "base_uri": "https://localhost:8080/"
        },
        "outputId": "33e658d1-9302-430d-f387-964dd66b0f6c"
      },
      "outputs": [
        {
          "output_type": "execute_result",
          "data": {
            "text/plain": [
              "(40000, 81)"
            ]
          },
          "metadata": {},
          "execution_count": 36
        }
      ],
      "source": [
        "X_train.shape"
      ]
    },
    {
      "cell_type": "code",
      "execution_count": null,
      "metadata": {
        "id": "b36LkzEXxsdx",
        "colab": {
          "base_uri": "https://localhost:8080/"
        },
        "outputId": "2e177795-6fa7-444a-d116-2785ef1f2af4"
      },
      "outputs": [
        {
          "output_type": "execute_result",
          "data": {
            "text/plain": [
              "(10000, 81)"
            ]
          },
          "metadata": {},
          "execution_count": 37
        }
      ],
      "source": [
        "X_test.shape"
      ]
    },
    {
      "cell_type": "markdown",
      "metadata": {
        "id": "pTaboxAH0MPI"
      },
      "source": [
        "# **Machine learning models**"
      ]
    },
    {
      "cell_type": "markdown",
      "metadata": {
        "id": "a6jPyQl97z-D"
      },
      "source": [
        "# **1- Random Forest Classifier**"
      ]
    },
    {
      "cell_type": "code",
      "execution_count": null,
      "metadata": {
        "id": "7RK8UiOW0Lj1"
      },
      "outputs": [],
      "source": [
        "from sklearn.ensemble import RandomForestClassifier"
      ]
    },
    {
      "cell_type": "code",
      "execution_count": null,
      "metadata": {
        "id": "kqNiM9lu0Qf_"
      },
      "outputs": [],
      "source": [
        "# creat the first model (random forest model )\n",
        "rn=RandomForestClassifier(n_estimators=8,criterion='entropy')"
      ]
    },
    {
      "cell_type": "code",
      "execution_count": null,
      "metadata": {
        "colab": {
          "base_uri": "https://localhost:8080/",
          "height": 75
        },
        "id": "cX-rjj8d0V5W",
        "outputId": "b3cbba3e-fc7d-4771-e8ca-19a2dc110491"
      },
      "outputs": [
        {
          "output_type": "execute_result",
          "data": {
            "text/plain": [
              "RandomForestClassifier(criterion='entropy', n_estimators=8)"
            ],
            "text/html": [
              "<style>#sk-container-id-1 {color: black;background-color: white;}#sk-container-id-1 pre{padding: 0;}#sk-container-id-1 div.sk-toggleable {background-color: white;}#sk-container-id-1 label.sk-toggleable__label {cursor: pointer;display: block;width: 100%;margin-bottom: 0;padding: 0.3em;box-sizing: border-box;text-align: center;}#sk-container-id-1 label.sk-toggleable__label-arrow:before {content: \"▸\";float: left;margin-right: 0.25em;color: #696969;}#sk-container-id-1 label.sk-toggleable__label-arrow:hover:before {color: black;}#sk-container-id-1 div.sk-estimator:hover label.sk-toggleable__label-arrow:before {color: black;}#sk-container-id-1 div.sk-toggleable__content {max-height: 0;max-width: 0;overflow: hidden;text-align: left;background-color: #f0f8ff;}#sk-container-id-1 div.sk-toggleable__content pre {margin: 0.2em;color: black;border-radius: 0.25em;background-color: #f0f8ff;}#sk-container-id-1 input.sk-toggleable__control:checked~div.sk-toggleable__content {max-height: 200px;max-width: 100%;overflow: auto;}#sk-container-id-1 input.sk-toggleable__control:checked~label.sk-toggleable__label-arrow:before {content: \"▾\";}#sk-container-id-1 div.sk-estimator input.sk-toggleable__control:checked~label.sk-toggleable__label {background-color: #d4ebff;}#sk-container-id-1 div.sk-label input.sk-toggleable__control:checked~label.sk-toggleable__label {background-color: #d4ebff;}#sk-container-id-1 input.sk-hidden--visually {border: 0;clip: rect(1px 1px 1px 1px);clip: rect(1px, 1px, 1px, 1px);height: 1px;margin: -1px;overflow: hidden;padding: 0;position: absolute;width: 1px;}#sk-container-id-1 div.sk-estimator {font-family: monospace;background-color: #f0f8ff;border: 1px dotted black;border-radius: 0.25em;box-sizing: border-box;margin-bottom: 0.5em;}#sk-container-id-1 div.sk-estimator:hover {background-color: #d4ebff;}#sk-container-id-1 div.sk-parallel-item::after {content: \"\";width: 100%;border-bottom: 1px solid gray;flex-grow: 1;}#sk-container-id-1 div.sk-label:hover label.sk-toggleable__label {background-color: #d4ebff;}#sk-container-id-1 div.sk-serial::before {content: \"\";position: absolute;border-left: 1px solid gray;box-sizing: border-box;top: 0;bottom: 0;left: 50%;z-index: 0;}#sk-container-id-1 div.sk-serial {display: flex;flex-direction: column;align-items: center;background-color: white;padding-right: 0.2em;padding-left: 0.2em;position: relative;}#sk-container-id-1 div.sk-item {position: relative;z-index: 1;}#sk-container-id-1 div.sk-parallel {display: flex;align-items: stretch;justify-content: center;background-color: white;position: relative;}#sk-container-id-1 div.sk-item::before, #sk-container-id-1 div.sk-parallel-item::before {content: \"\";position: absolute;border-left: 1px solid gray;box-sizing: border-box;top: 0;bottom: 0;left: 50%;z-index: -1;}#sk-container-id-1 div.sk-parallel-item {display: flex;flex-direction: column;z-index: 1;position: relative;background-color: white;}#sk-container-id-1 div.sk-parallel-item:first-child::after {align-self: flex-end;width: 50%;}#sk-container-id-1 div.sk-parallel-item:last-child::after {align-self: flex-start;width: 50%;}#sk-container-id-1 div.sk-parallel-item:only-child::after {width: 0;}#sk-container-id-1 div.sk-dashed-wrapped {border: 1px dashed gray;margin: 0 0.4em 0.5em 0.4em;box-sizing: border-box;padding-bottom: 0.4em;background-color: white;}#sk-container-id-1 div.sk-label label {font-family: monospace;font-weight: bold;display: inline-block;line-height: 1.2em;}#sk-container-id-1 div.sk-label-container {text-align: center;}#sk-container-id-1 div.sk-container {/* jupyter's `normalize.less` sets `[hidden] { display: none; }` but bootstrap.min.css set `[hidden] { display: none !important; }` so we also need the `!important` here to be able to override the default hidden behavior on the sphinx rendered scikit-learn.org. See: https://github.com/scikit-learn/scikit-learn/issues/21755 */display: inline-block !important;position: relative;}#sk-container-id-1 div.sk-text-repr-fallback {display: none;}</style><div id=\"sk-container-id-1\" class=\"sk-top-container\"><div class=\"sk-text-repr-fallback\"><pre>RandomForestClassifier(criterion=&#x27;entropy&#x27;, n_estimators=8)</pre><b>In a Jupyter environment, please rerun this cell to show the HTML representation or trust the notebook. <br />On GitHub, the HTML representation is unable to render, please try loading this page with nbviewer.org.</b></div><div class=\"sk-container\" hidden><div class=\"sk-item\"><div class=\"sk-estimator sk-toggleable\"><input class=\"sk-toggleable__control sk-hidden--visually\" id=\"sk-estimator-id-1\" type=\"checkbox\" checked><label for=\"sk-estimator-id-1\" class=\"sk-toggleable__label sk-toggleable__label-arrow\">RandomForestClassifier</label><div class=\"sk-toggleable__content\"><pre>RandomForestClassifier(criterion=&#x27;entropy&#x27;, n_estimators=8)</pre></div></div></div></div></div>"
            ]
          },
          "metadata": {},
          "execution_count": 40
        }
      ],
      "source": [
        "#train the model 1\n",
        "rn.fit(X_train,y_train)"
      ]
    },
    {
      "cell_type": "code",
      "execution_count": null,
      "metadata": {
        "id": "F2LbYH6l0YKN"
      },
      "outputs": [],
      "source": [
        "# test the test data using the created model\n",
        "y_pred=rn.predict(X_test)"
      ]
    },
    {
      "cell_type": "code",
      "execution_count": null,
      "metadata": {
        "colab": {
          "base_uri": "https://localhost:8080/"
        },
        "id": "PxyQEpTq5Y84",
        "outputId": "ea615bc6-c8ae-4147-db1a-a5259a349ec7"
      },
      "outputs": [
        {
          "output_type": "stream",
          "name": "stdout",
          "text": [
            "[1]\n"
          ]
        }
      ],
      "source": [
        "# predict on new data\n",
        "dt = np.array(['@kagglE29'])\n",
        "pred = vectorizer.transform(dt)\n",
        "print(rn.predict(pred))\n"
      ]
    },
    {
      "cell_type": "code",
      "execution_count": null,
      "metadata": {
        "id": "OcY1zw5L5m1G"
      },
      "outputs": [],
      "source": [
        "def password_strength_RF(pw):\n",
        "    dt = np.array([pw])\n",
        "    pw = vectorizer.transform(dt)\n",
        "    strength = rn.predict(pw)\n",
        "    print(strength)\n"
      ]
    },
    {
      "cell_type": "code",
      "execution_count": null,
      "metadata": {
        "colab": {
          "base_uri": "https://localhost:8080/"
        },
        "id": "IOPou7l15xAC",
        "outputId": "424489a0-a1cc-450e-c2d3-7495bfc2d6d9"
      },
      "outputs": [
        {
          "output_type": "stream",
          "name": "stdout",
          "text": [
            "[1]\n"
          ]
        }
      ],
      "source": [
        "password_strength_RF('@kagglE29')"
      ]
    },
    {
      "cell_type": "code",
      "execution_count": null,
      "metadata": {
        "colab": {
          "base_uri": "https://localhost:8080/"
        },
        "id": "GRkntK0N0amK",
        "outputId": "ccd8679f-9d5f-4ac7-cce6-045b29cd334d"
      },
      "outputs": [
        {
          "output_type": "stream",
          "name": "stdout",
          "text": [
            "Looking in indexes: https://pypi.org/simple, https://us-python.pkg.dev/colab-wheels/public/simple/\n",
            "Requirement already satisfied: scikit-learn in /usr/local/lib/python3.9/dist-packages (1.2.2)\n",
            "Requirement already satisfied: threadpoolctl>=2.0.0 in /usr/local/lib/python3.9/dist-packages (from scikit-learn) (3.1.0)\n",
            "Requirement already satisfied: scipy>=1.3.2 in /usr/local/lib/python3.9/dist-packages (from scikit-learn) (1.10.1)\n",
            "Requirement already satisfied: numpy>=1.17.3 in /usr/local/lib/python3.9/dist-packages (from scikit-learn) (1.22.4)\n",
            "Requirement already satisfied: joblib>=1.1.1 in /usr/local/lib/python3.9/dist-packages (from scikit-learn) (1.1.1)\n"
          ]
        }
      ],
      "source": [
        "!pip install --upgrade scikit-learn\n",
        "from sklearn.metrics import accuracy_score,confusion_matrix,classification_report"
      ]
    },
    {
      "cell_type": "code",
      "execution_count": null,
      "metadata": {
        "colab": {
          "base_uri": "https://localhost:8080/",
          "height": 564
        },
        "id": "YSQCllfP2cai",
        "outputId": "797cf394-b8a4-4d8a-aaee-b574bae40839"
      },
      "outputs": [
        {
          "output_type": "display_data",
          "data": {
            "text/plain": [
              "<Figure size 800x600 with 2 Axes>"
            ],
            "image/png": "[encoded data removed]"
          },
          "metadata": {}
        }
      ],
      "source": [
        "# evalute how the created model work with the tested data\n",
        "from sklearn.metrics import confusion_matrix\n",
        "import matplotlib.pyplot as plt\n",
        "import seaborn as sns\n",
        "\n",
        "# Evaluate the model on the test data\n",
        "y_pred = rn.predict(X_test)\n",
        "\n",
        "# Calculate the confusion matrix\n",
        "cm = confusion_matrix(y_test, y_pred)\n",
        "\n",
        "# Plot the confusion matrix\n",
        "plt.figure(figsize=(8, 6))\n",
        "sns.heatmap(cm, annot=True, cmap=plt.cm.Blues, fmt='g')\n",
        "plt.title('Confusion Matrix')\n",
        "plt.xlabel('Predicted Label')\n",
        "plt.ylabel('True Label')\n",
        "plt.show()\n"
      ]
    },
    {
      "cell_type": "code",
      "execution_count": null,
      "metadata": {
        "colab": {
          "base_uri": "https://localhost:8080/"
        },
        "id": "9ehi9BOX4bj4",
        "outputId": "219e1b3a-e078-48c2-d98c-002927d76d86"
      },
      "outputs": [
        {
          "output_type": "stream",
          "name": "stdout",
          "text": [
            "              precision    recall  f1-score   support\n",
            "\n",
            "           0       0.95      0.88      0.91      1393\n",
            "           1       0.97      0.99      0.98      7392\n",
            "           2       0.98      0.92      0.95      1215\n",
            "\n",
            "    accuracy                           0.97     10000\n",
            "   macro avg       0.97      0.93      0.95     10000\n",
            "weighted avg       0.97      0.97      0.97     10000\n",
            "\n"
          ]
        }
      ],
      "source": [
        "print(classification_report(y_test,y_pred))"
      ]
    },
    {
      "cell_type": "code",
      "execution_count": null,
      "metadata": {
        "colab": {
          "base_uri": "https://localhost:8080/"
        },
        "id": "8LS5rLwa5ky_",
        "outputId": "9fd447f5-21a6-4832-ada6-54742dc7ce9e"
      },
      "outputs": [
        {
          "output_type": "stream",
          "name": "stdout",
          "text": [
            "[2 1 1 ... 0 1 1]\n"
          ]
        }
      ],
      "source": [
        "rn_predict = rn.predict(X_test) #Predictions on Testing data\n",
        "print(rn_predict)"
      ]
    },
    {
      "cell_type": "markdown",
      "metadata": {
        "id": "vMX0iqgu7u6_"
      },
      "source": [
        "# **2- Logistic Regression**"
      ]
    },
    {
      "cell_type": "code",
      "execution_count": null,
      "metadata": {
        "id": "QK_Aps8S7__F"
      },
      "outputs": [],
      "source": [
        "from sklearn.linear_model import LogisticRegression"
      ]
    },
    {
      "cell_type": "code",
      "execution_count": null,
      "metadata": {
        "id": "OOnyGEtS77SR"
      },
      "outputs": [],
      "source": [
        "# create the model2\n",
        "clf = LogisticRegression(random_state=0, solver='saga', multi_class='multinomial')"
      ]
    },
    {
      "cell_type": "code",
      "execution_count": null,
      "metadata": {
        "colab": {
          "base_uri": "https://localhost:8080/",
          "height": 129
        },
        "id": "SpCE97ig8N7D",
        "outputId": "46dffbc9-e6cd-4fd5-84ed-e384b4ef2aeb"
      },
      "outputs": [
        {
          "output_type": "stream",
          "name": "stderr",
          "text": [
            "/usr/local/lib/python3.9/dist-packages/sklearn/linear_model/_sag.py:350: ConvergenceWarning: The max_iter was reached which means the coef_ did not converge\n",
            "  warnings.warn(\n"
          ]
        },
        {
          "output_type": "execute_result",
          "data": {
            "text/plain": [
              "LogisticRegression(multi_class='multinomial', random_state=0, solver='saga')"
            ],
            "text/html": [
              "<style>#sk-container-id-2 {color: black;background-color: white;}#sk-container-id-2 pre{padding: 0;}#sk-container-id-2 div.sk-toggleable {background-color: white;}#sk-container-id-2 label.sk-toggleable__label {cursor: pointer;display: block;width: 100%;margin-bottom: 0;padding: 0.3em;box-sizing: border-box;text-align: center;}#sk-container-id-2 label.sk-toggleable__label-arrow:before {content: \"▸\";float: left;margin-right: 0.25em;color: #696969;}#sk-container-id-2 label.sk-toggleable__label-arrow:hover:before {color: black;}#sk-container-id-2 div.sk-estimator:hover label.sk-toggleable__label-arrow:before {color: black;}#sk-container-id-2 div.sk-toggleable__content {max-height: 0;max-width: 0;overflow: hidden;text-align: left;background-color: #f0f8ff;}#sk-container-id-2 div.sk-toggleable__content pre {margin: 0.2em;color: black;border-radius: 0.25em;background-color: #f0f8ff;}#sk-container-id-2 input.sk-toggleable__control:checked~div.sk-toggleable__content {max-height: 200px;max-width: 100%;overflow: auto;}#sk-container-id-2 input.sk-toggleable__control:checked~label.sk-toggleable__label-arrow:before {content: \"▾\";}#sk-container-id-2 div.sk-estimator input.sk-toggleable__control:checked~label.sk-toggleable__label {background-color: #d4ebff;}#sk-container-id-2 div.sk-label input.sk-toggleable__control:checked~label.sk-toggleable__label {background-color: #d4ebff;}#sk-container-id-2 input.sk-hidden--visually {border: 0;clip: rect(1px 1px 1px 1px);clip: rect(1px, 1px, 1px, 1px);height: 1px;margin: -1px;overflow: hidden;padding: 0;position: absolute;width: 1px;}#sk-container-id-2 div.sk-estimator {font-family: monospace;background-color: #f0f8ff;border: 1px dotted black;border-radius: 0.25em;box-sizing: border-box;margin-bottom: 0.5em;}#sk-container-id-2 div.sk-estimator:hover {background-color: #d4ebff;}#sk-container-id-2 div.sk-parallel-item::after {content: \"\";width: 100%;border-bottom: 1px solid gray;flex-grow: 1;}#sk-container-id-2 div.sk-label:hover label.sk-toggleable__label {background-color: #d4ebff;}#sk-container-id-2 div.sk-serial::before {content: \"\";position: absolute;border-left: 1px solid gray;box-sizing: border-box;top: 0;bottom: 0;left: 50%;z-index: 0;}#sk-container-id-2 div.sk-serial {display: flex;flex-direction: column;align-items: center;background-color: white;padding-right: 0.2em;padding-left: 0.2em;position: relative;}#sk-container-id-2 div.sk-item {position: relative;z-index: 1;}#sk-container-id-2 div.sk-parallel {display: flex;align-items: stretch;justify-content: center;background-color: white;position: relative;}#sk-container-id-2 div.sk-item::before, #sk-container-id-2 div.sk-parallel-item::before {content: \"\";position: absolute;border-left: 1px solid gray;box-sizing: border-box;top: 0;bottom: 0;left: 50%;z-index: -1;}#sk-container-id-2 div.sk-parallel-item {display: flex;flex-direction: column;z-index: 1;position: relative;background-color: white;}#sk-container-id-2 div.sk-parallel-item:first-child::after {align-self: flex-end;width: 50%;}#sk-container-id-2 div.sk-parallel-item:last-child::after {align-self: flex-start;width: 50%;}#sk-container-id-2 div.sk-parallel-item:only-child::after {width: 0;}#sk-container-id-2 div.sk-dashed-wrapped {border: 1px dashed gray;margin: 0 0.4em 0.5em 0.4em;box-sizing: border-box;padding-bottom: 0.4em;background-color: white;}#sk-container-id-2 div.sk-label label {font-family: monospace;font-weight: bold;display: inline-block;line-height: 1.2em;}#sk-container-id-2 div.sk-label-container {text-align: center;}#sk-container-id-2 div.sk-container {/* jupyter's `normalize.less` sets `[hidden] { display: none; }` but bootstrap.min.css set `[hidden] { display: none !important; }` so we also need the `!important` here to be able to override the default hidden behavior on the sphinx rendered scikit-learn.org. See: https://github.com/scikit-learn/scikit-learn/issues/21755 */display: inline-block !important;position: relative;}#sk-container-id-2 div.sk-text-repr-fallback {display: none;}</style><div id=\"sk-container-id-2\" class=\"sk-top-container\"><div class=\"sk-text-repr-fallback\"><pre>LogisticRegression(multi_class=&#x27;multinomial&#x27;, random_state=0, solver=&#x27;saga&#x27;)</pre><b>In a Jupyter environment, please rerun this cell to show the HTML representation or trust the notebook. <br />On GitHub, the HTML representation is unable to render, please try loading this page with nbviewer.org.</b></div><div class=\"sk-container\" hidden><div class=\"sk-item\"><div class=\"sk-estimator sk-toggleable\"><input class=\"sk-toggleable__control sk-hidden--visually\" id=\"sk-estimator-id-2\" type=\"checkbox\" checked><label for=\"sk-estimator-id-2\" class=\"sk-toggleable__label sk-toggleable__label-arrow\">LogisticRegression</label><div class=\"sk-toggleable__content\"><pre>LogisticRegression(multi_class=&#x27;multinomial&#x27;, random_state=0, solver=&#x27;saga&#x27;)</pre></div></div></div></div></div>"
            ]
          },
          "metadata": {},
          "execution_count": 51
        }
      ],
      "source": [
        "#train the model 2 \n",
        "clf.fit(X_train, y_train)"
      ]
    },
    {
      "cell_type": "code",
      "execution_count": null,
      "metadata": {
        "colab": {
          "base_uri": "https://localhost:8080/"
        },
        "id": "Tsy0FGUE8QvR",
        "outputId": "d19a654d-89d2-4fdd-9b7a-06e9bb1f132e"
      },
      "outputs": [
        {
          "output_type": "execute_result",
          "data": {
            "text/plain": [
              "array([2, 1, 1, ..., 1, 1, 1])"
            ]
          },
          "metadata": {},
          "execution_count": 52
        }
      ],
      "source": [
        "# on X_test\n",
        "y_pred = clf.predict(X_test)\n",
        "y_pred"
      ]
    },
    {
      "cell_type": "code",
      "execution_count": null,
      "metadata": {
        "colab": {
          "base_uri": "https://localhost:8080/",
          "height": 564
        },
        "id": "60CDl-fr8TeB",
        "outputId": "f1480b93-3817-4dbd-c7a0-ce3af3ddfea3"
      },
      "outputs": [
        {
          "output_type": "display_data",
          "data": {
            "text/plain": [
              "<Figure size 800x600 with 2 Axes>"
            ],
            "image/png": "[encoded data removed]"
          },
          "metadata": {}
        }
      ],
      "source": [
        "# evalute how the created model work with the tested data\n",
        "from sklearn.metrics import confusion_matrix\n",
        "import matplotlib.pyplot as plt\n",
        "import seaborn as sns\n",
        "\n",
        "# Evaluate the model on the test data\n",
        "y_pred = clf.predict(X_test)\n",
        "\n",
        "# Calculate the confusion matrix\n",
        "cm = confusion_matrix(y_test, y_pred)\n",
        "\n",
        "# Plot the confusion matrix\n",
        "plt.figure(figsize=(8, 6))\n",
        "sns.heatmap(cm, annot=True, cmap=plt.cm.Blues, fmt='g')\n",
        "plt.title('Confusion Matrix')\n",
        "plt.xlabel('Predicted Label')\n",
        "plt.ylabel('True Label')\n",
        "plt.show()\n"
      ]
    },
    {
      "cell_type": "code",
      "execution_count": null,
      "metadata": {
        "colab": {
          "base_uri": "https://localhost:8080/"
        },
        "id": "kMlu36cl8sfe",
        "outputId": "78ba2323-4820-4278-b99d-f1c2983cebd6"
      },
      "outputs": [
        {
          "output_type": "stream",
          "name": "stdout",
          "text": [
            "              precision    recall  f1-score   support\n",
            "\n",
            "           0       0.60      0.26      0.36      1393\n",
            "           1       0.83      0.95      0.88      7392\n",
            "           2       0.84      0.65      0.73      1215\n",
            "\n",
            "    accuracy                           0.82     10000\n",
            "   macro avg       0.76      0.62      0.66     10000\n",
            "weighted avg       0.80      0.82      0.79     10000\n",
            "\n"
          ]
        }
      ],
      "source": [
        "cr = classification_report(y_test, y_pred)\n",
        "print(cr)"
      ]
    },
    {
      "cell_type": "code",
      "execution_count": null,
      "metadata": {
        "colab": {
          "base_uri": "https://localhost:8080/"
        },
        "id": "FdSbD8Ap8v7Z",
        "outputId": "24b0196f-7ea7-456d-90f6-c80f82780a95"
      },
      "outputs": [
        {
          "output_type": "stream",
          "name": "stdout",
          "text": [
            "[1]\n"
          ]
        }
      ],
      "source": [
        "# predict on new data\n",
        "dt = np.array(['@kagglE29'])\n",
        "pred = vectorizer.transform(dt)\n",
        "print(clf.predict(pred))"
      ]
    },
    {
      "cell_type": "code",
      "execution_count": null,
      "metadata": {
        "id": "yujyuODt8_BX"
      },
      "outputs": [],
      "source": [
        "def password_strength_LR(pw):\n",
        "    dt = np.array([pw])\n",
        "    pw = vectorizer.transform(dt)\n",
        "    strength = clf.predict(pw)\n",
        "    print(strength)"
      ]
    },
    {
      "cell_type": "code",
      "execution_count": null,
      "metadata": {
        "colab": {
          "base_uri": "https://localhost:8080/"
        },
        "id": "TAoUw7VD9IN3",
        "outputId": "355e4221-deb1-4830-d8eb-f8090920215b"
      },
      "outputs": [
        {
          "output_type": "stream",
          "name": "stdout",
          "text": [
            "[1]\n"
          ]
        }
      ],
      "source": [
        "password_strength_LR('123')"
      ]
    },
    {
      "cell_type": "markdown",
      "metadata": {
        "id": "ge1ZrGQ89yjx"
      },
      "source": [
        "# **3-KNN**"
      ]
    },
    {
      "cell_type": "code",
      "execution_count": null,
      "metadata": {
        "id": "qlvmLrnb9xst"
      },
      "outputs": [],
      "source": [
        "from sklearn.neighbors import KNeighborsClassifier"
      ]
    },
    {
      "cell_type": "code",
      "execution_count": null,
      "metadata": {
        "id": "Mi8Lx0Pb92S7",
        "colab": {
          "base_uri": "https://localhost:8080/"
        },
        "outputId": "d6e2bac7-1909-4a01-f164-88829a7f4e28"
      },
      "outputs": [
        {
          "output_type": "stream",
          "name": "stdout",
          "text": [
            "[2 1 1 ... 0 1 1]\n"
          ]
        }
      ],
      "source": [
        "knn = KNeighborsClassifier(n_neighbors=7)\n",
        "  \n",
        "knn.fit(X_train, y_train)\n",
        "  \n",
        "# Predict on dataset which model has not seen before\n",
        "print(knn.predict(X_test))"
      ]
    },
    {
      "cell_type": "code",
      "execution_count": null,
      "metadata": {
        "id": "vrZ_kWYI_oW7",
        "colab": {
          "base_uri": "https://localhost:8080/"
        },
        "outputId": "7d54dd19-66d8-41a1-b672-d89ccde85bca"
      },
      "outputs": [
        {
          "output_type": "execute_result",
          "data": {
            "text/plain": [
              "array([2, 1, 1, ..., 0, 1, 1])"
            ]
          },
          "metadata": {},
          "execution_count": 60
        }
      ],
      "source": [
        "pred = knn.predict(X_test)\n",
        "pred"
      ]
    },
    {
      "cell_type": "code",
      "execution_count": null,
      "metadata": {
        "id": "sElSxP4t96cP",
        "colab": {
          "base_uri": "https://localhost:8080/",
          "height": 564
        },
        "outputId": "b019b220-dc43-4071-a30f-43912515dd0f"
      },
      "outputs": [
        {
          "output_type": "display_data",
          "data": {
            "text/plain": [
              "<Figure size 800x600 with 2 Axes>"
            ],
            "image/png": "[encoded data removed]"
          },
          "metadata": {}
        }
      ],
      "source": [
        "# evalute how the created model work with the tested data\n",
        "from sklearn.metrics import confusion_matrix\n",
        "import matplotlib.pyplot as plt\n",
        "import seaborn as sns\n",
        "\n",
        "# Evaluate the model on the test data\n",
        "y_pred = knn.predict(X_test)\n",
        "\n",
        "# Calculate the confusion matrix\n",
        "cm = confusion_matrix(y_test, y_pred)\n",
        "\n",
        "# Plot the confusion matrix\n",
        "plt.figure(figsize=(8, 6))\n",
        "sns.heatmap(cm, annot=True, cmap=plt.cm.Blues, fmt='g')\n",
        "plt.title('Confusion Matrix')\n",
        "plt.xlabel('Predicted Label')\n",
        "plt.ylabel('True Label')\n",
        "plt.show()"
      ]
    },
    {
      "cell_type": "code",
      "execution_count": null,
      "metadata": {
        "id": "rdyp3xlZ-J34",
        "colab": {
          "base_uri": "https://localhost:8080/"
        },
        "outputId": "6b4c5220-f0d5-43df-cb1e-2a9720c641d0"
      },
      "outputs": [
        {
          "output_type": "stream",
          "name": "stdout",
          "text": [
            "              precision    recall  f1-score   support\n",
            "\n",
            "           0       0.52      0.43      0.47      1393\n",
            "           1       0.85      0.91      0.88      7392\n",
            "           2       0.76      0.63      0.69      1215\n",
            "\n",
            "    accuracy                           0.81     10000\n",
            "   macro avg       0.71      0.66      0.68     10000\n",
            "weighted avg       0.80      0.81      0.80     10000\n",
            "\n"
          ]
        }
      ],
      "source": [
        "knn = classification_report(y_test,pred)\n",
        "print(knn)"
      ]
    },
    {
      "cell_type": "markdown",
      "metadata": {
        "id": "-_fzIS8RJGv-"
      },
      "source": [
        "# **4- decission tree**"
      ]
    },
    {
      "cell_type": "code",
      "execution_count": null,
      "metadata": {
        "id": "T5-B0K-W_N-a"
      },
      "outputs": [],
      "source": [
        "from sklearn.tree import DecisionTreeClassifier"
      ]
    },
    {
      "cell_type": "code",
      "execution_count": null,
      "metadata": {
        "id": "HnI1JLJrJKzz"
      },
      "outputs": [],
      "source": [
        "dt=DecisionTreeClassifier()"
      ]
    },
    {
      "cell_type": "code",
      "execution_count": null,
      "metadata": {
        "id": "DGfvglfeJO32",
        "colab": {
          "base_uri": "https://localhost:8080/",
          "height": 75
        },
        "outputId": "70e57815-e65e-4443-95e7-b5c0d6ae4159"
      },
      "outputs": [
        {
          "output_type": "execute_result",
          "data": {
            "text/plain": [
              "DecisionTreeClassifier()"
            ],
            "text/html": [
              "<style>#sk-container-id-3 {color: black;background-color: white;}#sk-container-id-3 pre{padding: 0;}#sk-container-id-3 div.sk-toggleable {background-color: white;}#sk-container-id-3 label.sk-toggleable__label {cursor: pointer;display: block;width: 100%;margin-bottom: 0;padding: 0.3em;box-sizing: border-box;text-align: center;}#sk-container-id-3 label.sk-toggleable__label-arrow:before {content: \"▸\";float: left;margin-right: 0.25em;color: #696969;}#sk-container-id-3 label.sk-toggleable__label-arrow:hover:before {color: black;}#sk-container-id-3 div.sk-estimator:hover label.sk-toggleable__label-arrow:before {color: black;}#sk-container-id-3 div.sk-toggleable__content {max-height: 0;max-width: 0;overflow: hidden;text-align: left;background-color: #f0f8ff;}#sk-container-id-3 div.sk-toggleable__content pre {margin: 0.2em;color: black;border-radius: 0.25em;background-color: #f0f8ff;}#sk-container-id-3 input.sk-toggleable__control:checked~div.sk-toggleable__content {max-height: 200px;max-width: 100%;overflow: auto;}#sk-container-id-3 input.sk-toggleable__control:checked~label.sk-toggleable__label-arrow:before {content: \"▾\";}#sk-container-id-3 div.sk-estimator input.sk-toggleable__control:checked~label.sk-toggleable__label {background-color: #d4ebff;}#sk-container-id-3 div.sk-label input.sk-toggleable__control:checked~label.sk-toggleable__label {background-color: #d4ebff;}#sk-container-id-3 input.sk-hidden--visually {border: 0;clip: rect(1px 1px 1px 1px);clip: rect(1px, 1px, 1px, 1px);height: 1px;margin: -1px;overflow: hidden;padding: 0;position: absolute;width: 1px;}#sk-container-id-3 div.sk-estimator {font-family: monospace;background-color: #f0f8ff;border: 1px dotted black;border-radius: 0.25em;box-sizing: border-box;margin-bottom: 0.5em;}#sk-container-id-3 div.sk-estimator:hover {background-color: #d4ebff;}#sk-container-id-3 div.sk-parallel-item::after {content: \"\";width: 100%;border-bottom: 1px solid gray;flex-grow: 1;}#sk-container-id-3 div.sk-label:hover label.sk-toggleable__label {background-color: #d4ebff;}#sk-container-id-3 div.sk-serial::before {content: \"\";position: absolute;border-left: 1px solid gray;box-sizing: border-box;top: 0;bottom: 0;left: 50%;z-index: 0;}#sk-container-id-3 div.sk-serial {display: flex;flex-direction: column;align-items: center;background-color: white;padding-right: 0.2em;padding-left: 0.2em;position: relative;}#sk-container-id-3 div.sk-item {position: relative;z-index: 1;}#sk-container-id-3 div.sk-parallel {display: flex;align-items: stretch;justify-content: center;background-color: white;position: relative;}#sk-container-id-3 div.sk-item::before, #sk-container-id-3 div.sk-parallel-item::before {content: \"\";position: absolute;border-left: 1px solid gray;box-sizing: border-box;top: 0;bottom: 0;left: 50%;z-index: -1;}#sk-container-id-3 div.sk-parallel-item {display: flex;flex-direction: column;z-index: 1;position: relative;background-color: white;}#sk-container-id-3 div.sk-parallel-item:first-child::after {align-self: flex-end;width: 50%;}#sk-container-id-3 div.sk-parallel-item:last-child::after {align-self: flex-start;width: 50%;}#sk-container-id-3 div.sk-parallel-item:only-child::after {width: 0;}#sk-container-id-3 div.sk-dashed-wrapped {border: 1px dashed gray;margin: 0 0.4em 0.5em 0.4em;box-sizing: border-box;padding-bottom: 0.4em;background-color: white;}#sk-container-id-3 div.sk-label label {font-family: monospace;font-weight: bold;display: inline-block;line-height: 1.2em;}#sk-container-id-3 div.sk-label-container {text-align: center;}#sk-container-id-3 div.sk-container {/* jupyter's `normalize.less` sets `[hidden] { display: none; }` but bootstrap.min.css set `[hidden] { display: none !important; }` so we also need the `!important` here to be able to override the default hidden behavior on the sphinx rendered scikit-learn.org. See: https://github.com/scikit-learn/scikit-learn/issues/21755 */display: inline-block !important;position: relative;}#sk-container-id-3 div.sk-text-repr-fallback {display: none;}</style><div id=\"sk-container-id-3\" class=\"sk-top-container\"><div class=\"sk-text-repr-fallback\"><pre>DecisionTreeClassifier()</pre><b>In a Jupyter environment, please rerun this cell to show the HTML representation or trust the notebook. <br />On GitHub, the HTML representation is unable to render, please try loading this page with nbviewer.org.</b></div><div class=\"sk-container\" hidden><div class=\"sk-item\"><div class=\"sk-estimator sk-toggleable\"><input class=\"sk-toggleable__control sk-hidden--visually\" id=\"sk-estimator-id-3\" type=\"checkbox\" checked><label for=\"sk-estimator-id-3\" class=\"sk-toggleable__label sk-toggleable__label-arrow\">DecisionTreeClassifier</label><div class=\"sk-toggleable__content\"><pre>DecisionTreeClassifier()</pre></div></div></div></div></div>"
            ]
          },
          "metadata": {},
          "execution_count": 65
        }
      ],
      "source": [
        "dt.fit(X_train, y_train)"
      ]
    },
    {
      "cell_type": "code",
      "execution_count": null,
      "metadata": {
        "id": "Gc7hBmaxJcV2",
        "colab": {
          "base_uri": "https://localhost:8080/",
          "height": 564
        },
        "outputId": "40bed076-6cb8-4f11-a775-21b2a01a8e81"
      },
      "outputs": [
        {
          "output_type": "display_data",
          "data": {
            "text/plain": [
              "<Figure size 800x600 with 2 Axes>"
            ],
            "image/png": "[encoded data removed]"
          },
          "metadata": {}
        }
      ],
      "source": [
        "# evalute how the created model work with the tested data\n",
        "from sklearn.metrics import confusion_matrix\n",
        "import matplotlib.pyplot as plt\n",
        "import seaborn as sns\n",
        "\n",
        "# Evaluate the model on the test data\n",
        "y_pred = dt.predict(X_test)\n",
        "\n",
        "# Calculate the confusion matrix\n",
        "cm = confusion_matrix(y_test, y_pred)\n",
        "\n",
        "# Plot the confusion matrix\n",
        "plt.figure(figsize=(8, 6))\n",
        "sns.heatmap(cm, annot=True, cmap=plt.cm.Blues, fmt='g')\n",
        "plt.title('Confusion Matrix')\n",
        "plt.xlabel('Predicted Label')\n",
        "plt.ylabel('True Label')\n",
        "plt.show()"
      ]
    },
    {
      "cell_type": "code",
      "execution_count": null,
      "metadata": {
        "id": "P2CCdzM3Jn0X",
        "colab": {
          "base_uri": "https://localhost:8080/"
        },
        "outputId": "3ed6560c-107f-452c-bb0c-e91292b0575b"
      },
      "outputs": [
        {
          "output_type": "execute_result",
          "data": {
            "text/plain": [
              "array([2, 1, 1, ..., 0, 1, 1])"
            ]
          },
          "metadata": {},
          "execution_count": 67
        }
      ],
      "source": [
        "pred_dt = dt.predict(X_test)\n",
        "pred_dt"
      ]
    },
    {
      "cell_type": "code",
      "execution_count": null,
      "metadata": {
        "id": "avG1cpMgJsS_",
        "colab": {
          "base_uri": "https://localhost:8080/"
        },
        "outputId": "016f174f-6dc8-494a-eeee-d0f0d4944877"
      },
      "outputs": [
        {
          "output_type": "stream",
          "name": "stdout",
          "text": [
            "              precision    recall  f1-score   support\n",
            "\n",
            "           0       0.90      0.89      0.89      1393\n",
            "           1       0.97      0.97      0.97      7392\n",
            "           2       0.92      0.92      0.92      1215\n",
            "\n",
            "    accuracy                           0.95     10000\n",
            "   macro avg       0.93      0.93      0.93     10000\n",
            "weighted avg       0.95      0.95      0.95     10000\n",
            "\n"
          ]
        }
      ],
      "source": [
        "dt = classification_report(y_test,pred_dt)\n",
        "print(dt)"
      ]
    },
    {
      "cell_type": "markdown",
      "metadata": {
        "id": "Suz1qvVxz7UV"
      },
      "source": [
        "# **5-XGBOOST**"
      ]
    },
    {
      "cell_type": "code",
      "execution_count": null,
      "metadata": {
        "id": "fNeD9_za7CLc"
      },
      "outputs": [],
      "source": [
        "import xgboost as xgb"
      ]
    },
    {
      "cell_type": "code",
      "execution_count": null,
      "metadata": {
        "id": "jDspGI547IAX"
      },
      "outputs": [],
      "source": [
        "xgb_classifier=xgb.XGBClassifier()\n"
      ]
    },
    {
      "cell_type": "code",
      "execution_count": null,
      "metadata": {
        "id": "iavhXXSZ8mIW",
        "colab": {
          "base_uri": "https://localhost:8080/",
          "height": 248
        },
        "outputId": "efdfb4f2-a134-4a6e-920a-10585c576aed"
      },
      "outputs": [
        {
          "output_type": "execute_result",
          "data": {
            "text/plain": [
              "XGBClassifier(base_score=None, booster=None, callbacks=None,\n",
              "              colsample_bylevel=None, colsample_bynode=None,\n",
              "              colsample_bytree=None, early_stopping_rounds=None,\n",
              "              enable_categorical=False, eval_metric=None, feature_types=None,\n",
              "              gamma=None, gpu_id=None, grow_policy=None, importance_type=None,\n",
              "              interaction_constraints=None, learning_rate=None, max_bin=None,\n",
              "              max_cat_threshold=None, max_cat_to_onehot=None,\n",
              "              max_delta_step=None, max_depth=None, max_leaves=None,\n",
              "              min_child_weight=None, missing=nan, monotone_constraints=None,\n",
              "              n_estimators=100, n_jobs=None, num_parallel_tree=None,\n",
              "              objective='multi:softprob', predictor=None, ...)"
            ],
            "text/html": [
              "<style>#sk-container-id-4 {color: black;background-color: white;}#sk-container-id-4 pre{padding: 0;}#sk-container-id-4 div.sk-toggleable {background-color: white;}#sk-container-id-4 label.sk-toggleable__label {cursor: pointer;display: block;width: 100%;margin-bottom: 0;padding: 0.3em;box-sizing: border-box;text-align: center;}#sk-container-id-4 label.sk-toggleable__label-arrow:before {content: \"▸\";float: left;margin-right: 0.25em;color: #696969;}#sk-container-id-4 label.sk-toggleable__label-arrow:hover:before {color: black;}#sk-container-id-4 div.sk-estimator:hover label.sk-toggleable__label-arrow:before {color: black;}#sk-container-id-4 div.sk-toggleable__content {max-height: 0;max-width: 0;overflow: hidden;text-align: left;background-color: #f0f8ff;}#sk-container-id-4 div.sk-toggleable__content pre {margin: 0.2em;color: black;border-radius: 0.25em;background-color: #f0f8ff;}#sk-container-id-4 input.sk-toggleable__control:checked~div.sk-toggleable__content {max-height: 200px;max-width: 100%;overflow: auto;}#sk-container-id-4 input.sk-toggleable__control:checked~label.sk-toggleable__label-arrow:before {content: \"▾\";}#sk-container-id-4 div.sk-estimator input.sk-toggleable__control:checked~label.sk-toggleable__label {background-color: #d4ebff;}#sk-container-id-4 div.sk-label input.sk-toggleable__control:checked~label.sk-toggleable__label {background-color: #d4ebff;}#sk-container-id-4 input.sk-hidden--visually {border: 0;clip: rect(1px 1px 1px 1px);clip: rect(1px, 1px, 1px, 1px);height: 1px;margin: -1px;overflow: hidden;padding: 0;position: absolute;width: 1px;}#sk-container-id-4 div.sk-estimator {font-family: monospace;background-color: #f0f8ff;border: 1px dotted black;border-radius: 0.25em;box-sizing: border-box;margin-bottom: 0.5em;}#sk-container-id-4 div.sk-estimator:hover {background-color: #d4ebff;}#sk-container-id-4 div.sk-parallel-item::after {content: \"\";width: 100%;border-bottom: 1px solid gray;flex-grow: 1;}#sk-container-id-4 div.sk-label:hover label.sk-toggleable__label {background-color: #d4ebff;}#sk-container-id-4 div.sk-serial::before {content: \"\";position: absolute;border-left: 1px solid gray;box-sizing: border-box;top: 0;bottom: 0;left: 50%;z-index: 0;}#sk-container-id-4 div.sk-serial {display: flex;flex-direction: column;align-items: center;background-color: white;padding-right: 0.2em;padding-left: 0.2em;position: relative;}#sk-container-id-4 div.sk-item {position: relative;z-index: 1;}#sk-container-id-4 div.sk-parallel {display: flex;align-items: stretch;justify-content: center;background-color: white;position: relative;}#sk-container-id-4 div.sk-item::before, #sk-container-id-4 div.sk-parallel-item::before {content: \"\";position: absolute;border-left: 1px solid gray;box-sizing: border-box;top: 0;bottom: 0;left: 50%;z-index: -1;}#sk-container-id-4 div.sk-parallel-item {display: flex;flex-direction: column;z-index: 1;position: relative;background-color: white;}#sk-container-id-4 div.sk-parallel-item:first-child::after {align-self: flex-end;width: 50%;}#sk-container-id-4 div.sk-parallel-item:last-child::after {align-self: flex-start;width: 50%;}#sk-container-id-4 div.sk-parallel-item:only-child::after {width: 0;}#sk-container-id-4 div.sk-dashed-wrapped {border: 1px dashed gray;margin: 0 0.4em 0.5em 0.4em;box-sizing: border-box;padding-bottom: 0.4em;background-color: white;}#sk-container-id-4 div.sk-label label {font-family: monospace;font-weight: bold;display: inline-block;line-height: 1.2em;}#sk-container-id-4 div.sk-label-container {text-align: center;}#sk-container-id-4 div.sk-container {/* jupyter's `normalize.less` sets `[hidden] { display: none; }` but bootstrap.min.css set `[hidden] { display: none !important; }` so we also need the `!important` here to be able to override the default hidden behavior on the sphinx rendered scikit-learn.org. See: https://github.com/scikit-learn/scikit-learn/issues/21755 */display: inline-block !important;position: relative;}#sk-container-id-4 div.sk-text-repr-fallback {display: none;}</style><div id=\"sk-container-id-4\" class=\"sk-top-container\"><div class=\"sk-text-repr-fallback\"><pre>XGBClassifier(base_score=None, booster=None, callbacks=None,\n",
              "              colsample_bylevel=None, colsample_bynode=None,\n",
              "              colsample_bytree=None, early_stopping_rounds=None,\n",
              "              enable_categorical=False, eval_metric=None, feature_types=None,\n",
              "              gamma=None, gpu_id=None, grow_policy=None, importance_type=None,\n",
              "              interaction_constraints=None, learning_rate=None, max_bin=None,\n",
              "              max_cat_threshold=None, max_cat_to_onehot=None,\n",
              "              max_delta_step=None, max_depth=None, max_leaves=None,\n",
              "              min_child_weight=None, missing=nan, monotone_constraints=None,\n",
              "              n_estimators=100, n_jobs=None, num_parallel_tree=None,\n",
              "              objective=&#x27;multi:softprob&#x27;, predictor=None, ...)</pre><b>In a Jupyter environment, please rerun this cell to show the HTML representation or trust the notebook. <br />On GitHub, the HTML representation is unable to render, please try loading this page with nbviewer.org.</b></div><div class=\"sk-container\" hidden><div class=\"sk-item\"><div class=\"sk-estimator sk-toggleable\"><input class=\"sk-toggleable__control sk-hidden--visually\" id=\"sk-estimator-id-4\" type=\"checkbox\" checked><label for=\"sk-estimator-id-4\" class=\"sk-toggleable__label sk-toggleable__label-arrow\">XGBClassifier</label><div class=\"sk-toggleable__content\"><pre>XGBClassifier(base_score=None, booster=None, callbacks=None,\n",
              "              colsample_bylevel=None, colsample_bynode=None,\n",
              "              colsample_bytree=None, early_stopping_rounds=None,\n",
              "              enable_categorical=False, eval_metric=None, feature_types=None,\n",
              "              gamma=None, gpu_id=None, grow_policy=None, importance_type=None,\n",
              "              interaction_constraints=None, learning_rate=None, max_bin=None,\n",
              "              max_cat_threshold=None, max_cat_to_onehot=None,\n",
              "              max_delta_step=None, max_depth=None, max_leaves=None,\n",
              "              min_child_weight=None, missing=nan, monotone_constraints=None,\n",
              "              n_estimators=100, n_jobs=None, num_parallel_tree=None,\n",
              "              objective=&#x27;multi:softprob&#x27;, predictor=None, ...)</pre></div></div></div></div></div>"
            ]
          },
          "metadata": {},
          "execution_count": 71
        }
      ],
      "source": [
        "xgb_classifier.fit(X_train,y_train)\n"
      ]
    },
    {
      "cell_type": "code",
      "execution_count": null,
      "metadata": {
        "id": "wk0xM00B8-uC"
      },
      "outputs": [],
      "source": [
        "pred=xgb_classifier.predict(X_test)"
      ]
    },
    {
      "cell_type": "code",
      "execution_count": null,
      "metadata": {
        "id": "INJpxIhs9bWm",
        "colab": {
          "base_uri": "https://localhost:8080/"
        },
        "outputId": "1a454175-2c87-441e-d6f7-b45a1aa83677"
      },
      "outputs": [
        {
          "output_type": "execute_result",
          "data": {
            "text/plain": [
              "array([[1310,   83,    0],\n",
              "       [  32, 7347,   13],\n",
              "       [   0,   30, 1185]])"
            ]
          },
          "metadata": {},
          "execution_count": 73
        }
      ],
      "source": [
        "confusion_matrix(y_test,pred)"
      ]
    },
    {
      "cell_type": "code",
      "execution_count": null,
      "metadata": {
        "id": "Y9_qkAj1l0fc",
        "colab": {
          "base_uri": "https://localhost:8080/",
          "height": 564
        },
        "outputId": "2c96e343-dd05-4c82-a33f-9f4e9aa8eb91"
      },
      "outputs": [
        {
          "output_type": "display_data",
          "data": {
            "text/plain": [
              "<Figure size 800x600 with 2 Axes>"
            ],
            "image/png": "[encoded data removed]"
          },
          "metadata": {}
        }
      ],
      "source": [
        "# evalute how the created model work with the tested data\n",
        "from sklearn.metrics import confusion_matrix\n",
        "import matplotlib.pyplot as plt\n",
        "import seaborn as sns\n",
        "\n",
        "# Evaluate the model on the test data\n",
        "y_pred = xgb_classifier.predict(X_test)\n",
        "\n",
        "# Calculate the confusion matrix\n",
        "cm = confusion_matrix(y_test, y_pred)\n",
        "\n",
        "# Plot the confusion matrix\n",
        "plt.figure(figsize=(8, 6))\n",
        "sns.heatmap(cm, annot=True, cmap=plt.cm.Blues, fmt='g')\n",
        "plt.title('Confusion Matrix')\n",
        "plt.xlabel('Predicted Label')\n",
        "plt.ylabel('True Label')\n",
        "plt.show()"
      ]
    },
    {
      "cell_type": "code",
      "execution_count": null,
      "metadata": {
        "id": "Upff9vj7xk9T",
        "colab": {
          "base_uri": "https://localhost:8080/"
        },
        "outputId": "a5d89c93-ea3e-42c2-ecf7-7140a40e4c76"
      },
      "outputs": [
        {
          "output_type": "stream",
          "name": "stdout",
          "text": [
            "Index(['TF-IDE'], dtype='object')\n",
            "Epoch 1/50\n",
            "1/1 [==============================] - 1s 1s/step - loss: 0.6931 - accuracy: 0.9062\n",
            "Epoch 2/50\n",
            "1/1 [==============================] - 0s 9ms/step - loss: 0.6927 - accuracy: 0.9062\n",
            "Epoch 3/50\n",
            "1/1 [==============================] - 0s 10ms/step - loss: 0.6922 - accuracy: 0.9062\n",
            "Epoch 4/50\n",
            "1/1 [==============================] - 0s 12ms/step - loss: 0.6918 - accuracy: 0.9062\n",
            "Epoch 5/50\n",
            "1/1 [==============================] - 0s 10ms/step - loss: 0.6913 - accuracy: 0.9062\n",
            "Epoch 6/50\n",
            "1/1 [==============================] - 0s 11ms/step - loss: 0.6908 - accuracy: 0.9062\n",
            "Epoch 7/50\n",
            "1/1 [==============================] - 0s 9ms/step - loss: 0.6904 - accuracy: 0.9062\n",
            "Epoch 8/50\n",
            "1/1 [==============================] - 0s 9ms/step - loss: 0.6899 - accuracy: 0.9062\n",
            "Epoch 9/50\n",
            "1/1 [==============================] - 0s 10ms/step - loss: 0.6894 - accuracy: 0.9062\n",
            "Epoch 10/50\n",
            "1/1 [==============================] - 0s 10ms/step - loss: 0.6890 - accuracy: 0.9062\n",
            "Epoch 11/50\n",
            "1/1 [==============================] - 0s 8ms/step - loss: 0.6885 - accuracy: 0.9062\n",
            "Epoch 12/50\n",
            "1/1 [==============================] - 0s 10ms/step - loss: 0.6881 - accuracy: 0.9062\n",
            "Epoch 13/50\n",
            "1/1 [==============================] - 0s 10ms/step - loss: 0.6876 - accuracy: 0.9062\n",
            "Epoch 14/50\n",
            "1/1 [==============================] - 0s 10ms/step - loss: 0.6871 - accuracy: 0.9062\n",
            "Epoch 15/50\n",
            "1/1 [==============================] - 0s 9ms/step - loss: 0.6867 - accuracy: 0.9062\n",
            "Epoch 16/50\n",
            "1/1 [==============================] - 0s 10ms/step - loss: 0.6862 - accuracy: 0.9062\n",
            "Epoch 17/50\n",
            "1/1 [==============================] - 0s 12ms/step - loss: 0.6858 - accuracy: 0.9062\n",
            "Epoch 18/50\n",
            "1/1 [==============================] - 0s 9ms/step - loss: 0.6853 - accuracy: 0.9062\n",
            "Epoch 19/50\n",
            "1/1 [==============================] - 0s 9ms/step - loss: 0.6848 - accuracy: 0.9062\n",
            "Epoch 20/50\n",
            "1/1 [==============================] - 0s 8ms/step - loss: 0.6844 - accuracy: 0.9062\n",
            "Epoch 21/50\n",
            "1/1 [==============================] - 0s 9ms/step - loss: 0.6839 - accuracy: 0.9062\n",
            "Epoch 22/50\n",
            "1/1 [==============================] - 0s 9ms/step - loss: 0.6835 - accuracy: 0.9062\n",
            "Epoch 23/50\n",
            "1/1 [==============================] - 0s 8ms/step - loss: 0.6830 - accuracy: 0.9062\n",
            "Epoch 24/50\n",
            "1/1 [==============================] - 0s 9ms/step - loss: 0.6825 - accuracy: 0.9062\n",
            "Epoch 25/50\n",
            "1/1 [==============================] - 0s 8ms/step - loss: 0.6821 - accuracy: 0.9062\n",
            "Epoch 26/50\n",
            "1/1 [==============================] - 0s 11ms/step - loss: 0.6816 - accuracy: 0.9062\n",
            "Epoch 27/50\n",
            "1/1 [==============================] - 0s 8ms/step - loss: 0.6812 - accuracy: 0.9062\n",
            "Epoch 28/50\n",
            "1/1 [==============================] - 0s 8ms/step - loss: 0.6807 - accuracy: 0.9062\n",
            "Epoch 29/50\n",
            "1/1 [==============================] - 0s 8ms/step - loss: 0.6803 - accuracy: 0.9062\n",
            "Epoch 30/50\n",
            "1/1 [==============================] - 0s 8ms/step - loss: 0.6798 - accuracy: 0.9062\n",
            "Epoch 31/50\n",
            "1/1 [==============================] - 0s 8ms/step - loss: 0.6794 - accuracy: 0.9062\n",
            "Epoch 32/50\n",
            "1/1 [==============================] - 0s 8ms/step - loss: 0.6789 - accuracy: 0.9062\n",
            "Epoch 33/50\n",
            "1/1 [==============================] - 0s 8ms/step - loss: 0.6784 - accuracy: 0.9062\n",
            "Epoch 34/50\n",
            "1/1 [==============================] - 0s 8ms/step - loss: 0.6780 - accuracy: 0.9062\n",
            "Epoch 35/50\n",
            "1/1 [==============================] - 0s 8ms/step - loss: 0.6775 - accuracy: 0.9062\n",
            "Epoch 36/50\n",
            "1/1 [==============================] - 0s 8ms/step - loss: 0.6771 - accuracy: 0.9062\n",
            "Epoch 37/50\n",
            "1/1 [==============================] - 0s 8ms/step - loss: 0.6766 - accuracy: 0.9062\n",
            "Epoch 38/50\n",
            "1/1 [==============================] - 0s 8ms/step - loss: 0.6762 - accuracy: 0.9062\n",
            "Epoch 39/50\n",
            "1/1 [==============================] - 0s 12ms/step - loss: 0.6757 - accuracy: 0.9062\n",
            "Epoch 40/50\n",
            "1/1 [==============================] - 0s 10ms/step - loss: 0.6753 - accuracy: 0.9062\n",
            "Epoch 41/50\n",
            "1/1 [==============================] - 0s 9ms/step - loss: 0.6748 - accuracy: 0.9062\n",
            "Epoch 42/50\n",
            "1/1 [==============================] - 0s 13ms/step - loss: 0.6744 - accuracy: 0.9062\n",
            "Epoch 43/50\n",
            "1/1 [==============================] - 0s 8ms/step - loss: 0.6739 - accuracy: 0.9062\n",
            "Epoch 44/50\n",
            "1/1 [==============================] - 0s 13ms/step - loss: 0.6735 - accuracy: 0.9062\n",
            "Epoch 45/50\n",
            "1/1 [==============================] - 0s 10ms/step - loss: 0.6730 - accuracy: 0.9062\n",
            "Epoch 46/50\n",
            "1/1 [==============================] - 0s 9ms/step - loss: 0.6726 - accuracy: 0.9062\n",
            "Epoch 47/50\n",
            "1/1 [==============================] - 0s 9ms/step - loss: 0.6721 - accuracy: 0.9062\n",
            "Epoch 48/50\n",
            "1/1 [==============================] - 0s 10ms/step - loss: 0.6717 - accuracy: 0.9062\n",
            "Epoch 49/50\n",
            "1/1 [==============================] - 0s 9ms/step - loss: 0.6712 - accuracy: 0.9062\n",
            "Epoch 50/50\n",
            "1/1 [==============================] - 0s 9ms/step - loss: 0.6708 - accuracy: 0.9062\n",
            "1/1 [==============================] - 0s 134ms/step\n",
            "1/1 [==============================] - 0s 39ms/step\n",
            "Accuracy of neural network: 1.0\n"
          ]
        }
      ],
      "source": [
        "# Import required libraries\n",
        "\n",
        "import keras\n",
        "from keras.models import Sequential\n",
        "from keras.layers import Dense\n",
        "from sklearn.model_selection import train_test_split\n",
        "from sklearn.metrics import accuracy_score\n",
        "\n",
        "\n",
        "\n",
        "print(df.columns)\n",
        "# Split the dataset into features (X) and target variable (y)\n",
        "X = df.drop('TF-IDE', axis=1).values\n",
        "\n",
        "y = df['TF-IDE'].values\n",
        "\n",
        "# Split the dataset into training and testing sets\n",
        "X_train, X_test, y_train, y_test = train_test_split(X, y, test_size=0.2, random_state=42)\n",
        "\n",
        "# Define the neural network model\n",
        "model = Sequential()\n",
        "model.add(Dense(32, input_dim=X.shape[1], activation='relu'))\n",
        "model.add(Dense(16, activation='relu'))\n",
        "model.add(Dense(8, activation='relu'))\n",
        "model.add(Dense(1, activation='sigmoid'))\n",
        "\n",
        "# Compile the model\n",
        "model.compile(loss='binary_crossentropy', optimizer='adam', metrics=['accuracy'])\n",
        "\n",
        "# Train the model\n",
        "model.fit(X_train, y_train, epochs=50, batch_size=64)\n",
        "\n",
        "# Evaluate the accuracy of the model on the test set\n",
        "y_pred = model.predict(X_test)\n",
        "y_pred = np.round(y_pred).flatten()\n",
        "y_pred = model.predict(X_test)\n",
        "threshold = 0.5\n",
        "y_pred_binary = [1 if x >= threshold else 0 for x in y_pred]\n",
        "y_test_binary = [1 if x >= threshold else 0 for x in y_test]\n",
        "\n",
        "accuracy = accuracy_score(y_test_binary, y_pred_binary)\n",
        "print('Accuracy of neural network:', accuracy)"
      ]
    },
    {
      "cell_type": "code",
      "execution_count": null,
      "metadata": {
        "id": "Gz8koNOK9ra9",
        "colab": {
          "base_uri": "https://localhost:8080/"
        },
        "outputId": "a5849dfe-1e1f-44aa-e1ab-d0c3c1460de0"
      },
      "outputs": [
        {
          "output_type": "stream",
          "name": "stdout",
          "text": [
            "              precision    recall  f1-score   support\n",
            "\n",
            "           0       1.00      1.00      1.00        17\n",
            "\n",
            "    accuracy                           1.00        17\n",
            "   macro avg       1.00      1.00      1.00        17\n",
            "weighted avg       1.00      1.00      1.00        17\n",
            "\n"
          ]
        }
      ],
      "source": [
        "print(classification_report(y_test_binary, y_pred_binary))"
      ]
    },
    {
      "cell_type": "code",
      "execution_count": null,
      "metadata": {
        "id": "ri-EVODgxqYb",
        "colab": {
          "base_uri": "https://localhost:8080/"
        },
        "outputId": "aa66eb48-74af-44c6-c667-5d991cc96e96"
      },
      "outputs": [
        {
          "output_type": "stream",
          "name": "stdout",
          "text": [
            "         password strength\n",
            "44908  roinuj2010   Medium\n",
            "38406   fisnikde1   Medium\n",
            "23773  josenava10   Medium\n",
            "5652    bucizo300   Medium\n",
            "2246     7cjexnm2   Medium\n"
          ]
        }
      ],
      "source": [
        "data = data.dropna()\n",
        "data[\"strength\"] = data[\"strength\"].map({0: \"Weak\", \n",
        "                                         1: \"Medium\",\n",
        "                                         2: \"Strong\"})\n",
        "print(data.sample(5))"
      ]
    },
    {
      "cell_type": "code",
      "execution_count": null,
      "metadata": {
        "id": "GOk9kM2Uxzuq",
        "colab": {
          "base_uri": "https://localhost:8080/"
        },
        "outputId": "cc905817-4cd2-4a09-aa26-4c4b3c949524"
      },
      "outputs": [
        {
          "output_type": "stream",
          "name": "stderr",
          "text": [
            "/usr/local/lib/python3.9/dist-packages/sklearn/feature_extraction/text.py:528: UserWarning: The parameter 'token_pattern' will not be used since 'tokenizer' is not None'\n",
            "  warnings.warn(\n"
          ]
        }
      ],
      "source": [
        "def word(password):\n",
        "    character=[]\n",
        "    for i in password:\n",
        "        character.append(i)\n",
        "    return character\n",
        "  \n",
        "x = np.array(data[\"password\"])\n",
        "y = np.array(data[\"strength\"])\n",
        "\n",
        "tdif = TfidfVectorizer(tokenizer=word)\n",
        "x = tdif.fit_transform(x)\n",
        "xtrain, xtest, ytrain, ytest = train_test_split(x, y, \n",
        "                                                test_size=0.05, \n",
        "                                                random_state=42)"
      ]
    },
    {
      "cell_type": "code",
      "execution_count": null,
      "metadata": {
        "id": "KF0HmyO_x1h2",
        "colab": {
          "base_uri": "https://localhost:8080/"
        },
        "outputId": "4691a972-f3b5-46f5-aecb-9746c1650b09"
      },
      "outputs": [
        {
          "output_type": "stream",
          "name": "stdout",
          "text": [
            "0.926\n"
          ]
        }
      ],
      "source": [
        "model = RandomForestClassifier()\n",
        "model.fit(xtrain, ytrain)\n",
        "print(model.score(xtest, ytest))"
      ]
    },
    {
      "cell_type": "code",
      "execution_count": null,
      "metadata": {
        "id": "bvUI3dT4x5jz",
        "colab": {
          "base_uri": "https://localhost:8080/"
        },
        "outputId": "c16204ef-fa2e-4569-8b5e-271b09326ade"
      },
      "outputs": [
        {
          "output_type": "stream",
          "name": "stdout",
          "text": [
            "Enter Password: ··········\n",
            "['Strong']\n"
          ]
        }
      ],
      "source": [
        "import getpass\n",
        "user = getpass.getpass(\"Enter Password: \")\n",
        "data = tdif.transform([user]).toarray()\n",
        "output = model.predict(data)\n",
        "print(output)"
      ]
    },
    {
      "cell_type": "code",
      "execution_count": null,
      "metadata": {
        "id": "pxz4JyAj9w7e"
      },
      "outputs": [],
      "source": []
    }
  ],
  "metadata": {
    "colab": {
      "collapsed_sections": [
        "_iqdan2BtqlG",
        "WdblcGIot4oU",
        "oV9TUKpluHAk",
        "vMX0iqgu7u6_",
        "ge1ZrGQ89yjx"
      ],
      "provenance": []
    },
    "gpuClass": "standard",
    "kernelspec": {
      "display_name": "Python 3",
      "name": "python3"
    },
    "language_info": {
      "name": "python"
    }
  },
  "nbformat": 4,
  "nbformat_minor": 0
}