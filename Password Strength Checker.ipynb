{
  "cells": [
    {
      "cell_type": "markdown",
      "metadata": {
        "id": "GwkoiYM1tLVd"
      },
      "source": [
        "# **Project Passwaord strength analysis using classical models**"
      ]
    },
    {
      "cell_type": "markdown",
      "metadata": {
        "id": "_iqdan2BtqlG"
      },
      "source": [
        "# Import necessary libraries"
      ]
    },
    {
      "cell_type": "code",
      "execution_count": 1,
      "metadata": {
        "id": "AnvHq972sGCW",
        "colab": {
          "base_uri": "https://localhost:8080/"
        },
        "outputId": "7d80bc8b-6416-434c-99eb-68a4952baf4c"
      },
      "outputs": [
        {
          "output_type": "stream",
          "name": "stdout",
          "text": [
            "Looking in indexes: https://pypi.org/simple, https://us-python.pkg.dev/colab-wheels/public/simple/\n",
            "Requirement already satisfied: scikit-learn in /usr/local/lib/python3.10/dist-packages (1.2.2)\n",
            "Requirement already satisfied: threadpoolctl>=2.0.0 in /usr/local/lib/python3.10/dist-packages (from scikit-learn) (3.1.0)\n",
            "Requirement already satisfied: joblib>=1.1.1 in /usr/local/lib/python3.10/dist-packages (from scikit-learn) (1.2.0)\n",
            "Requirement already satisfied: scipy>=1.3.2 in /usr/local/lib/python3.10/dist-packages (from scikit-learn) (1.10.1)\n",
            "Requirement already satisfied: numpy>=1.17.3 in /usr/local/lib/python3.10/dist-packages (from scikit-learn) (1.22.4)\n"
          ]
        }
      ],
      "source": [
        "#load libraries\n",
        "import pandas as pd      #machine learning tools\n",
        "import numpy as np       #multi dimension and nemeric functions\n",
        "import seaborn as sns    #uses Matplotlib underneath to plot graphs.\n",
        "!pip install --upgrade scikit-learn\n",
        "from sklearn.metrics import accuracy_score,confusion_matrix,classification_report"
      ]
    },
    {
      "cell_type": "markdown",
      "metadata": {
        "id": "WdblcGIot4oU"
      },
      "source": [
        "# Read and load dataset "
      ]
    },
    {
      "cell_type": "code",
      "execution_count": 2,
      "metadata": {
        "id": "nIUi9Y0Stpz1",
        "colab": {
          "base_uri": "https://localhost:8080/"
        },
        "outputId": "050a3461-5167-417b-fa71-e788e630ff59"
      },
      "outputs": [
        {
          "output_type": "stream",
          "name": "stderr",
          "text": [
            "<ipython-input-2-1b206e2c6846>:1: FutureWarning: The error_bad_lines argument has been deprecated and will be removed in a future version. Use on_bad_lines in the future.\n",
            "\n",
            "\n",
            "  data=pd.read_csv(\"data.csv\",error_bad_lines=False)\n",
            "Skipping line 2810: expected 2 fields, saw 5\n",
            "Skipping line 4641: expected 2 fields, saw 5\n",
            "Skipping line 7171: expected 2 fields, saw 5\n",
            "Skipping line 11220: expected 2 fields, saw 5\n",
            "Skipping line 13809: expected 2 fields, saw 5\n",
            "Skipping line 14132: expected 2 fields, saw 5\n",
            "Skipping line 14293: expected 2 fields, saw 5\n",
            "Skipping line 14865: expected 2 fields, saw 5\n",
            "Skipping line 17419: expected 2 fields, saw 5\n",
            "Skipping line 22801: expected 2 fields, saw 5\n",
            "Skipping line 25001: expected 2 fields, saw 5\n",
            "Skipping line 26603: expected 2 fields, saw 5\n",
            "Skipping line 26742: expected 2 fields, saw 5\n",
            "Skipping line 29702: expected 2 fields, saw 5\n",
            "Skipping line 32767: expected 2 fields, saw 5\n",
            "Skipping line 32878: expected 2 fields, saw 5\n",
            "Skipping line 35643: expected 2 fields, saw 5\n",
            "Skipping line 36550: expected 2 fields, saw 5\n",
            "Skipping line 38732: expected 2 fields, saw 5\n",
            "Skipping line 40567: expected 2 fields, saw 5\n",
            "Skipping line 40576: expected 2 fields, saw 5\n",
            "Skipping line 41864: expected 2 fields, saw 5\n",
            "Skipping line 46861: expected 2 fields, saw 5\n",
            "Skipping line 47939: expected 2 fields, saw 5\n",
            "Skipping line 48628: expected 2 fields, saw 5\n",
            "Skipping line 48908: expected 2 fields, saw 5\n",
            "Skipping line 57582: expected 2 fields, saw 5\n",
            "Skipping line 58782: expected 2 fields, saw 5\n",
            "Skipping line 58984: expected 2 fields, saw 5\n",
            "Skipping line 61518: expected 2 fields, saw 5\n",
            "Skipping line 63451: expected 2 fields, saw 5\n",
            "Skipping line 68141: expected 2 fields, saw 5\n",
            "Skipping line 72083: expected 2 fields, saw 5\n",
            "Skipping line 74027: expected 2 fields, saw 5\n",
            "Skipping line 77811: expected 2 fields, saw 5\n",
            "Skipping line 83958: expected 2 fields, saw 5\n",
            "Skipping line 85295: expected 2 fields, saw 5\n",
            "Skipping line 88665: expected 2 fields, saw 5\n",
            "Skipping line 89198: expected 2 fields, saw 5\n",
            "Skipping line 92499: expected 2 fields, saw 5\n",
            "Skipping line 92751: expected 2 fields, saw 5\n",
            "Skipping line 93689: expected 2 fields, saw 5\n",
            "Skipping line 94776: expected 2 fields, saw 5\n",
            "Skipping line 97334: expected 2 fields, saw 5\n",
            "Skipping line 102316: expected 2 fields, saw 5\n",
            "Skipping line 103421: expected 2 fields, saw 5\n",
            "Skipping line 106872: expected 2 fields, saw 5\n",
            "Skipping line 109363: expected 2 fields, saw 5\n",
            "Skipping line 110117: expected 2 fields, saw 5\n",
            "Skipping line 110465: expected 2 fields, saw 5\n",
            "Skipping line 113843: expected 2 fields, saw 5\n",
            "Skipping line 115634: expected 2 fields, saw 5\n",
            "Skipping line 121518: expected 2 fields, saw 5\n",
            "Skipping line 123692: expected 2 fields, saw 5\n",
            "Skipping line 124708: expected 2 fields, saw 5\n",
            "Skipping line 129608: expected 2 fields, saw 5\n",
            "Skipping line 133176: expected 2 fields, saw 5\n",
            "Skipping line 135532: expected 2 fields, saw 5\n",
            "Skipping line 138042: expected 2 fields, saw 5\n",
            "Skipping line 139485: expected 2 fields, saw 5\n",
            "Skipping line 140401: expected 2 fields, saw 5\n",
            "Skipping line 144093: expected 2 fields, saw 5\n",
            "Skipping line 149850: expected 2 fields, saw 5\n",
            "Skipping line 151831: expected 2 fields, saw 5\n",
            "Skipping line 158014: expected 2 fields, saw 5\n",
            "Skipping line 162047: expected 2 fields, saw 5\n",
            "Skipping line 164515: expected 2 fields, saw 5\n",
            "Skipping line 170313: expected 2 fields, saw 5\n",
            "Skipping line 171325: expected 2 fields, saw 5\n",
            "Skipping line 171424: expected 2 fields, saw 5\n",
            "Skipping line 175920: expected 2 fields, saw 5\n",
            "Skipping line 176210: expected 2 fields, saw 5\n",
            "Skipping line 183603: expected 2 fields, saw 5\n",
            "Skipping line 190264: expected 2 fields, saw 5\n",
            "Skipping line 191683: expected 2 fields, saw 5\n",
            "Skipping line 191988: expected 2 fields, saw 5\n",
            "Skipping line 195450: expected 2 fields, saw 5\n",
            "Skipping line 195754: expected 2 fields, saw 5\n",
            "Skipping line 197124: expected 2 fields, saw 5\n",
            "Skipping line 199263: expected 2 fields, saw 5\n",
            "Skipping line 202603: expected 2 fields, saw 5\n",
            "Skipping line 209960: expected 2 fields, saw 5\n",
            "Skipping line 213218: expected 2 fields, saw 5\n",
            "Skipping line 217060: expected 2 fields, saw 5\n",
            "Skipping line 220121: expected 2 fields, saw 5\n",
            "Skipping line 223518: expected 2 fields, saw 5\n",
            "Skipping line 226293: expected 2 fields, saw 5\n",
            "Skipping line 227035: expected 2 fields, saw 7\n",
            "Skipping line 227341: expected 2 fields, saw 5\n",
            "Skipping line 227808: expected 2 fields, saw 5\n",
            "Skipping line 228516: expected 2 fields, saw 5\n",
            "Skipping line 228733: expected 2 fields, saw 5\n",
            "Skipping line 232043: expected 2 fields, saw 5\n",
            "Skipping line 232426: expected 2 fields, saw 5\n",
            "Skipping line 234490: expected 2 fields, saw 5\n",
            "Skipping line 239626: expected 2 fields, saw 5\n",
            "Skipping line 240461: expected 2 fields, saw 5\n",
            "Skipping line 244518: expected 2 fields, saw 5\n",
            "Skipping line 245395: expected 2 fields, saw 5\n",
            "Skipping line 246168: expected 2 fields, saw 5\n",
            "Skipping line 246655: expected 2 fields, saw 5\n",
            "Skipping line 246752: expected 2 fields, saw 5\n",
            "Skipping line 247189: expected 2 fields, saw 5\n",
            "Skipping line 250276: expected 2 fields, saw 5\n",
            "Skipping line 255327: expected 2 fields, saw 5\n",
            "Skipping line 257094: expected 2 fields, saw 5\n",
            "\n",
            "Skipping line 264626: expected 2 fields, saw 5\n",
            "Skipping line 265028: expected 2 fields, saw 5\n",
            "Skipping line 269150: expected 2 fields, saw 5\n",
            "Skipping line 271360: expected 2 fields, saw 5\n",
            "Skipping line 273975: expected 2 fields, saw 5\n",
            "Skipping line 274742: expected 2 fields, saw 5\n",
            "Skipping line 276227: expected 2 fields, saw 5\n",
            "Skipping line 279807: expected 2 fields, saw 5\n",
            "Skipping line 283425: expected 2 fields, saw 5\n",
            "Skipping line 287468: expected 2 fields, saw 5\n",
            "Skipping line 292995: expected 2 fields, saw 5\n",
            "Skipping line 293496: expected 2 fields, saw 5\n",
            "Skipping line 293735: expected 2 fields, saw 5\n",
            "Skipping line 295060: expected 2 fields, saw 5\n",
            "Skipping line 296643: expected 2 fields, saw 5\n",
            "Skipping line 296848: expected 2 fields, saw 5\n",
            "Skipping line 308926: expected 2 fields, saw 5\n",
            "Skipping line 310360: expected 2 fields, saw 5\n",
            "Skipping line 317004: expected 2 fields, saw 5\n",
            "Skipping line 318207: expected 2 fields, saw 5\n",
            "Skipping line 331783: expected 2 fields, saw 5\n",
            "Skipping line 333864: expected 2 fields, saw 5\n",
            "Skipping line 335958: expected 2 fields, saw 5\n",
            "Skipping line 336290: expected 2 fields, saw 5\n",
            "Skipping line 343526: expected 2 fields, saw 5\n",
            "Skipping line 343857: expected 2 fields, saw 5\n",
            "Skipping line 344059: expected 2 fields, saw 5\n",
            "Skipping line 348691: expected 2 fields, saw 5\n",
            "Skipping line 353446: expected 2 fields, saw 5\n",
            "Skipping line 357073: expected 2 fields, saw 5\n",
            "Skipping line 359753: expected 2 fields, saw 5\n",
            "Skipping line 359974: expected 2 fields, saw 5\n",
            "Skipping line 366534: expected 2 fields, saw 5\n",
            "Skipping line 369514: expected 2 fields, saw 5\n",
            "Skipping line 377759: expected 2 fields, saw 5\n",
            "Skipping line 379327: expected 2 fields, saw 5\n",
            "Skipping line 380769: expected 2 fields, saw 5\n",
            "Skipping line 381073: expected 2 fields, saw 5\n",
            "Skipping line 381489: expected 2 fields, saw 5\n",
            "Skipping line 386304: expected 2 fields, saw 5\n",
            "Skipping line 387635: expected 2 fields, saw 5\n",
            "Skipping line 389613: expected 2 fields, saw 5\n",
            "Skipping line 392604: expected 2 fields, saw 5\n",
            "Skipping line 393184: expected 2 fields, saw 5\n",
            "Skipping line 395530: expected 2 fields, saw 5\n",
            "Skipping line 396939: expected 2 fields, saw 5\n",
            "Skipping line 397385: expected 2 fields, saw 5\n",
            "Skipping line 397509: expected 2 fields, saw 5\n",
            "Skipping line 402902: expected 2 fields, saw 5\n",
            "Skipping line 405187: expected 2 fields, saw 5\n",
            "Skipping line 408412: expected 2 fields, saw 5\n",
            "Skipping line 419423: expected 2 fields, saw 5\n",
            "Skipping line 420962: expected 2 fields, saw 5\n",
            "Skipping line 425965: expected 2 fields, saw 5\n",
            "Skipping line 427496: expected 2 fields, saw 5\n",
            "Skipping line 438881: expected 2 fields, saw 5\n",
            "Skipping line 439776: expected 2 fields, saw 5\n",
            "Skipping line 440345: expected 2 fields, saw 5\n",
            "Skipping line 445507: expected 2 fields, saw 5\n",
            "Skipping line 445548: expected 2 fields, saw 5\n",
            "Skipping line 447184: expected 2 fields, saw 5\n",
            "Skipping line 448603: expected 2 fields, saw 5\n",
            "Skipping line 451732: expected 2 fields, saw 5\n",
            "Skipping line 458249: expected 2 fields, saw 5\n",
            "Skipping line 460274: expected 2 fields, saw 5\n",
            "Skipping line 467630: expected 2 fields, saw 5\n",
            "Skipping line 473961: expected 2 fields, saw 5\n",
            "Skipping line 476281: expected 2 fields, saw 5\n",
            "Skipping line 478010: expected 2 fields, saw 5\n",
            "Skipping line 478322: expected 2 fields, saw 5\n",
            "Skipping line 479999: expected 2 fields, saw 5\n",
            "Skipping line 480898: expected 2 fields, saw 5\n",
            "Skipping line 481688: expected 2 fields, saw 5\n",
            "Skipping line 485193: expected 2 fields, saw 5\n",
            "Skipping line 485519: expected 2 fields, saw 5\n",
            "Skipping line 486000: expected 2 fields, saw 5\n",
            "Skipping line 489063: expected 2 fields, saw 5\n",
            "Skipping line 494525: expected 2 fields, saw 5\n",
            "Skipping line 495009: expected 2 fields, saw 5\n",
            "Skipping line 501954: expected 2 fields, saw 5\n",
            "Skipping line 508035: expected 2 fields, saw 5\n",
            "Skipping line 508828: expected 2 fields, saw 5\n",
            "Skipping line 509833: expected 2 fields, saw 5\n",
            "Skipping line 510410: expected 2 fields, saw 5\n",
            "Skipping line 518229: expected 2 fields, saw 5\n",
            "Skipping line 520302: expected 2 fields, saw 5\n",
            "Skipping line 520340: expected 2 fields, saw 5\n",
            "\n",
            "Skipping line 525174: expected 2 fields, saw 5\n",
            "Skipping line 526251: expected 2 fields, saw 5\n",
            "Skipping line 529611: expected 2 fields, saw 5\n",
            "Skipping line 531398: expected 2 fields, saw 5\n",
            "Skipping line 534146: expected 2 fields, saw 5\n",
            "Skipping line 544954: expected 2 fields, saw 5\n",
            "Skipping line 553002: expected 2 fields, saw 5\n",
            "Skipping line 553883: expected 2 fields, saw 5\n",
            "Skipping line 553887: expected 2 fields, saw 5\n",
            "Skipping line 553915: expected 2 fields, saw 5\n",
            "Skipping line 554172: expected 2 fields, saw 5\n",
            "Skipping line 563534: expected 2 fields, saw 5\n",
            "Skipping line 565191: expected 2 fields, saw 5\n",
            "Skipping line 574108: expected 2 fields, saw 5\n",
            "Skipping line 574412: expected 2 fields, saw 5\n",
            "Skipping line 575985: expected 2 fields, saw 5\n",
            "Skipping line 580091: expected 2 fields, saw 5\n",
            "Skipping line 582682: expected 2 fields, saw 5\n",
            "Skipping line 585885: expected 2 fields, saw 5\n",
            "Skipping line 590171: expected 2 fields, saw 5\n",
            "Skipping line 591924: expected 2 fields, saw 5\n",
            "Skipping line 592515: expected 2 fields, saw 5\n",
            "Skipping line 593888: expected 2 fields, saw 5\n",
            "Skipping line 596245: expected 2 fields, saw 5\n",
            "Skipping line 607344: expected 2 fields, saw 5\n",
            "Skipping line 607633: expected 2 fields, saw 5\n",
            "Skipping line 610939: expected 2 fields, saw 5\n",
            "Skipping line 613638: expected 2 fields, saw 5\n",
            "Skipping line 615643: expected 2 fields, saw 5\n",
            "Skipping line 615901: expected 2 fields, saw 5\n",
            "Skipping line 617389: expected 2 fields, saw 5\n",
            "Skipping line 634641: expected 2 fields, saw 5\n",
            "Skipping line 635755: expected 2 fields, saw 5\n",
            "Skipping line 646243: expected 2 fields, saw 5\n",
            "Skipping line 647165: expected 2 fields, saw 5\n",
            "Skipping line 648610: expected 2 fields, saw 5\n",
            "Skipping line 648772: expected 2 fields, saw 5\n",
            "Skipping line 651833: expected 2 fields, saw 5\n",
            "Skipping line 653663: expected 2 fields, saw 5\n",
            "Skipping line 656233: expected 2 fields, saw 5\n",
            "Skipping line 656694: expected 2 fields, saw 5\n",
            "Skipping line 659783: expected 2 fields, saw 5\n",
            "Skipping line 660478: expected 2 fields, saw 5\n",
            "Skipping line 661133: expected 2 fields, saw 5\n",
            "Skipping line 661736: expected 2 fields, saw 5\n",
            "Skipping line 669827: expected 2 fields, saw 5\n",
            "\n"
          ]
        }
      ],
      "source": [
        "data=pd.read_csv(\"data.csv\",error_bad_lines=False)"
      ]
    },
    {
      "cell_type": "code",
      "execution_count": 3,
      "metadata": {
        "id": "41Tso-LBuEOv",
        "colab": {
          "base_uri": "https://localhost:8080/",
          "height": 0
        },
        "outputId": "eae6b32d-0bca-4964-8da7-87d3c11a083b"
      },
      "outputs": [
        {
          "output_type": "execute_result",
          "data": {
            "text/plain": [
              "            password  strength\n",
              "0           kzde5577         1\n",
              "1           kino3434         1\n",
              "2          visi7k1yr         1\n",
              "3           megzy123         1\n",
              "4        lamborghin1         1\n",
              "...              ...       ...\n",
              "669635    10redtux10         1\n",
              "669636     infrared1         1\n",
              "669637  184520socram         1\n",
              "669638     marken22a         1\n",
              "669639      fxx4pw4g         1\n",
              "\n",
              "[669640 rows x 2 columns]"
            ],
            "text/html": [
              "\n",
              "  <div id=\"df-4cf47536-b71c-4ec5-a198-092087227b7f\">\n",
              "    <div class=\"colab-df-container\">\n",
              "      <div>\n",
              "<style scoped>\n",
              "    .dataframe tbody tr th:only-of-type {\n",
              "        vertical-align: middle;\n",
              "    }\n",
              "\n",
              "    .dataframe tbody tr th {\n",
              "        vertical-align: top;\n",
              "    }\n",
              "\n",
              "    .dataframe thead th {\n",
              "        text-align: right;\n",
              "    }\n",
              "</style>\n",
              "<table border=\"1\" class=\"dataframe\">\n",
              "  <thead>\n",
              "    <tr style=\"text-align: right;\">\n",
              "      <th></th>\n",
              "      <th>password</th>\n",
              "      <th>strength</th>\n",
              "    </tr>\n",
              "  </thead>\n",
              "  <tbody>\n",
              "    <tr>\n",
              "      <th>0</th>\n",
              "      <td>kzde5577</td>\n",
              "      <td>1</td>\n",
              "    </tr>\n",
              "    <tr>\n",
              "      <th>1</th>\n",
              "      <td>kino3434</td>\n",
              "      <td>1</td>\n",
              "    </tr>\n",
              "    <tr>\n",
              "      <th>2</th>\n",
              "      <td>visi7k1yr</td>\n",
              "      <td>1</td>\n",
              "    </tr>\n",
              "    <tr>\n",
              "      <th>3</th>\n",
              "      <td>megzy123</td>\n",
              "      <td>1</td>\n",
              "    </tr>\n",
              "    <tr>\n",
              "      <th>4</th>\n",
              "      <td>lamborghin1</td>\n",
              "      <td>1</td>\n",
              "    </tr>\n",
              "    <tr>\n",
              "      <th>...</th>\n",
              "      <td>...</td>\n",
              "      <td>...</td>\n",
              "    </tr>\n",
              "    <tr>\n",
              "      <th>669635</th>\n",
              "      <td>10redtux10</td>\n",
              "      <td>1</td>\n",
              "    </tr>\n",
              "    <tr>\n",
              "      <th>669636</th>\n",
              "      <td>infrared1</td>\n",
              "      <td>1</td>\n",
              "    </tr>\n",
              "    <tr>\n",
              "      <th>669637</th>\n",
              "      <td>184520socram</td>\n",
              "      <td>1</td>\n",
              "    </tr>\n",
              "    <tr>\n",
              "      <th>669638</th>\n",
              "      <td>marken22a</td>\n",
              "      <td>1</td>\n",
              "    </tr>\n",
              "    <tr>\n",
              "      <th>669639</th>\n",
              "      <td>fxx4pw4g</td>\n",
              "      <td>1</td>\n",
              "    </tr>\n",
              "  </tbody>\n",
              "</table>\n",
              "<p>669640 rows × 2 columns</p>\n",
              "</div>\n",
              "      <button class=\"colab-df-convert\" onclick=\"convertToInteractive('df-4cf47536-b71c-4ec5-a198-092087227b7f')\"\n",
              "              title=\"Convert this dataframe to an interactive table.\"\n",
              "              style=\"display:none;\">\n",
              "        \n",
              "  <svg xmlns=\"http://www.w3.org/2000/svg\" height=\"24px\"viewBox=\"0 0 24 24\"\n",
              "       width=\"24px\">\n",
              "    <path d=\"M0 0h24v24H0V0z\" fill=\"none\"/>\n",
              "    <path d=\"M18.56 5.44l.94 2.06.94-2.06 2.06-.94-2.06-.94-.94-2.06-.94 2.06-2.06.94zm-11 1L8.5 8.5l.94-2.06 2.06-.94-2.06-.94L8.5 2.5l-.94 2.06-2.06.94zm10 10l.94 2.06.94-2.06 2.06-.94-2.06-.94-.94-2.06-.94 2.06-2.06.94z\"/><path d=\"M17.41 7.96l-1.37-1.37c-.4-.4-.92-.59-1.43-.59-.52 0-1.04.2-1.43.59L10.3 9.45l-7.72 7.72c-.78.78-.78 2.05 0 2.83L4 21.41c.39.39.9.59 1.41.59.51 0 1.02-.2 1.41-.59l7.78-7.78 2.81-2.81c.8-.78.8-2.07 0-2.86zM5.41 20L4 18.59l7.72-7.72 1.47 1.35L5.41 20z\"/>\n",
              "  </svg>\n",
              "      </button>\n",
              "      \n",
              "  <style>\n",
              "    .colab-df-container {\n",
              "      display:flex;\n",
              "      flex-wrap:wrap;\n",
              "      gap: 12px;\n",
              "    }\n",
              "\n",
              "    .colab-df-convert {\n",
              "      background-color: #E8F0FE;\n",
              "      border: none;\n",
              "      border-radius: 50%;\n",
              "      cursor: pointer;\n",
              "      display: none;\n",
              "      fill: #1967D2;\n",
              "      height: 32px;\n",
              "      padding: 0 0 0 0;\n",
              "      width: 32px;\n",
              "    }\n",
              "\n",
              "    .colab-df-convert:hover {\n",
              "      background-color: #E2EBFA;\n",
              "      box-shadow: 0px 1px 2px rgba(60, 64, 67, 0.3), 0px 1px 3px 1px rgba(60, 64, 67, 0.15);\n",
              "      fill: #174EA6;\n",
              "    }\n",
              "\n",
              "    [theme=dark] .colab-df-convert {\n",
              "      background-color: #3B4455;\n",
              "      fill: #D2E3FC;\n",
              "    }\n",
              "\n",
              "    [theme=dark] .colab-df-convert:hover {\n",
              "      background-color: #434B5C;\n",
              "      box-shadow: 0px 1px 3px 1px rgba(0, 0, 0, 0.15);\n",
              "      filter: drop-shadow(0px 1px 2px rgba(0, 0, 0, 0.3));\n",
              "      fill: #FFFFFF;\n",
              "    }\n",
              "  </style>\n",
              "\n",
              "      <script>\n",
              "        const buttonEl =\n",
              "          document.querySelector('#df-4cf47536-b71c-4ec5-a198-092087227b7f button.colab-df-convert');\n",
              "        buttonEl.style.display =\n",
              "          google.colab.kernel.accessAllowed ? 'block' : 'none';\n",
              "\n",
              "        async function convertToInteractive(key) {\n",
              "          const element = document.querySelector('#df-4cf47536-b71c-4ec5-a198-092087227b7f');\n",
              "          const dataTable =\n",
              "            await google.colab.kernel.invokeFunction('convertToInteractive',\n",
              "                                                     [key], {});\n",
              "          if (!dataTable) return;\n",
              "\n",
              "          const docLinkHtml = 'Like what you see? Visit the ' +\n",
              "            '<a target=\"_blank\" href=https://colab.research.google.com/notebooks/data_table.ipynb>data table notebook</a>'\n",
              "            + ' to learn more about interactive tables.';\n",
              "          element.innerHTML = '';\n",
              "          dataTable['output_type'] = 'display_data';\n",
              "          await google.colab.output.renderOutput(dataTable, element);\n",
              "          const docLink = document.createElement('div');\n",
              "          docLink.innerHTML = docLinkHtml;\n",
              "          element.appendChild(docLink);\n",
              "        }\n",
              "      </script>\n",
              "    </div>\n",
              "  </div>\n",
              "  "
            ]
          },
          "metadata": {},
          "execution_count": 3
        }
      ],
      "source": [
        "data"
      ]
    },
    {
      "cell_type": "markdown",
      "metadata": {
        "id": "oV9TUKpluHAk"
      },
      "source": [
        "# Selecting 50000 rows of data "
      ]
    },
    {
      "cell_type": "markdown",
      "metadata": {
        "id": "m_pU6QvbxSZR"
      },
      "source": [
        "using pandas drop function with range of index and than drop the rows so, we remove lasts rmaining rows"
      ]
    },
    {
      "cell_type": "code",
      "execution_count": 4,
      "metadata": {
        "id": "rSw7SjJhuM8M"
      },
      "outputs": [],
      "source": [
        "data.drop(data.index[50000:669640], inplace=True)\n",
        "\n"
      ]
    },
    {
      "cell_type": "code",
      "execution_count": 5,
      "metadata": {
        "id": "sK1AHP4Hxg0c",
        "colab": {
          "base_uri": "https://localhost:8080/",
          "height": 0
        },
        "outputId": "f45d2c52-3a41-4a24-8320-0a45a048bdc3"
      },
      "outputs": [
        {
          "output_type": "execute_result",
          "data": {
            "text/plain": [
              "      password  strength\n",
              "0     kzde5577         1\n",
              "1     kino3434         1\n",
              "2    visi7k1yr         1\n",
              "3     megzy123         1\n",
              "4  lamborghin1         1"
            ],
            "text/html": [
              "\n",
              "  <div id=\"df-48e31eeb-4b31-449e-81d2-44c0ba8e097f\">\n",
              "    <div class=\"colab-df-container\">\n",
              "      <div>\n",
              "<style scoped>\n",
              "    .dataframe tbody tr th:only-of-type {\n",
              "        vertical-align: middle;\n",
              "    }\n",
              "\n",
              "    .dataframe tbody tr th {\n",
              "        vertical-align: top;\n",
              "    }\n",
              "\n",
              "    .dataframe thead th {\n",
              "        text-align: right;\n",
              "    }\n",
              "</style>\n",
              "<table border=\"1\" class=\"dataframe\">\n",
              "  <thead>\n",
              "    <tr style=\"text-align: right;\">\n",
              "      <th></th>\n",
              "      <th>password</th>\n",
              "      <th>strength</th>\n",
              "    </tr>\n",
              "  </thead>\n",
              "  <tbody>\n",
              "    <tr>\n",
              "      <th>0</th>\n",
              "      <td>kzde5577</td>\n",
              "      <td>1</td>\n",
              "    </tr>\n",
              "    <tr>\n",
              "      <th>1</th>\n",
              "      <td>kino3434</td>\n",
              "      <td>1</td>\n",
              "    </tr>\n",
              "    <tr>\n",
              "      <th>2</th>\n",
              "      <td>visi7k1yr</td>\n",
              "      <td>1</td>\n",
              "    </tr>\n",
              "    <tr>\n",
              "      <th>3</th>\n",
              "      <td>megzy123</td>\n",
              "      <td>1</td>\n",
              "    </tr>\n",
              "    <tr>\n",
              "      <th>4</th>\n",
              "      <td>lamborghin1</td>\n",
              "      <td>1</td>\n",
              "    </tr>\n",
              "  </tbody>\n",
              "</table>\n",
              "</div>\n",
              "      <button class=\"colab-df-convert\" onclick=\"convertToInteractive('df-48e31eeb-4b31-449e-81d2-44c0ba8e097f')\"\n",
              "              title=\"Convert this dataframe to an interactive table.\"\n",
              "              style=\"display:none;\">\n",
              "        \n",
              "  <svg xmlns=\"http://www.w3.org/2000/svg\" height=\"24px\"viewBox=\"0 0 24 24\"\n",
              "       width=\"24px\">\n",
              "    <path d=\"M0 0h24v24H0V0z\" fill=\"none\"/>\n",
              "    <path d=\"M18.56 5.44l.94 2.06.94-2.06 2.06-.94-2.06-.94-.94-2.06-.94 2.06-2.06.94zm-11 1L8.5 8.5l.94-2.06 2.06-.94-2.06-.94L8.5 2.5l-.94 2.06-2.06.94zm10 10l.94 2.06.94-2.06 2.06-.94-2.06-.94-.94-2.06-.94 2.06-2.06.94z\"/><path d=\"M17.41 7.96l-1.37-1.37c-.4-.4-.92-.59-1.43-.59-.52 0-1.04.2-1.43.59L10.3 9.45l-7.72 7.72c-.78.78-.78 2.05 0 2.83L4 21.41c.39.39.9.59 1.41.59.51 0 1.02-.2 1.41-.59l7.78-7.78 2.81-2.81c.8-.78.8-2.07 0-2.86zM5.41 20L4 18.59l7.72-7.72 1.47 1.35L5.41 20z\"/>\n",
              "  </svg>\n",
              "      </button>\n",
              "      \n",
              "  <style>\n",
              "    .colab-df-container {\n",
              "      display:flex;\n",
              "      flex-wrap:wrap;\n",
              "      gap: 12px;\n",
              "    }\n",
              "\n",
              "    .colab-df-convert {\n",
              "      background-color: #E8F0FE;\n",
              "      border: none;\n",
              "      border-radius: 50%;\n",
              "      cursor: pointer;\n",
              "      display: none;\n",
              "      fill: #1967D2;\n",
              "      height: 32px;\n",
              "      padding: 0 0 0 0;\n",
              "      width: 32px;\n",
              "    }\n",
              "\n",
              "    .colab-df-convert:hover {\n",
              "      background-color: #E2EBFA;\n",
              "      box-shadow: 0px 1px 2px rgba(60, 64, 67, 0.3), 0px 1px 3px 1px rgba(60, 64, 67, 0.15);\n",
              "      fill: #174EA6;\n",
              "    }\n",
              "\n",
              "    [theme=dark] .colab-df-convert {\n",
              "      background-color: #3B4455;\n",
              "      fill: #D2E3FC;\n",
              "    }\n",
              "\n",
              "    [theme=dark] .colab-df-convert:hover {\n",
              "      background-color: #434B5C;\n",
              "      box-shadow: 0px 1px 3px 1px rgba(0, 0, 0, 0.15);\n",
              "      filter: drop-shadow(0px 1px 2px rgba(0, 0, 0, 0.3));\n",
              "      fill: #FFFFFF;\n",
              "    }\n",
              "  </style>\n",
              "\n",
              "      <script>\n",
              "        const buttonEl =\n",
              "          document.querySelector('#df-48e31eeb-4b31-449e-81d2-44c0ba8e097f button.colab-df-convert');\n",
              "        buttonEl.style.display =\n",
              "          google.colab.kernel.accessAllowed ? 'block' : 'none';\n",
              "\n",
              "        async function convertToInteractive(key) {\n",
              "          const element = document.querySelector('#df-48e31eeb-4b31-449e-81d2-44c0ba8e097f');\n",
              "          const dataTable =\n",
              "            await google.colab.kernel.invokeFunction('convertToInteractive',\n",
              "                                                     [key], {});\n",
              "          if (!dataTable) return;\n",
              "\n",
              "          const docLinkHtml = 'Like what you see? Visit the ' +\n",
              "            '<a target=\"_blank\" href=https://colab.research.google.com/notebooks/data_table.ipynb>data table notebook</a>'\n",
              "            + ' to learn more about interactive tables.';\n",
              "          element.innerHTML = '';\n",
              "          dataTable['output_type'] = 'display_data';\n",
              "          await google.colab.output.renderOutput(dataTable, element);\n",
              "          const docLink = document.createElement('div');\n",
              "          docLink.innerHTML = docLinkHtml;\n",
              "          element.appendChild(docLink);\n",
              "        }\n",
              "      </script>\n",
              "    </div>\n",
              "  </div>\n",
              "  "
            ]
          },
          "metadata": {},
          "execution_count": 5
        }
      ],
      "source": [
        "data.head()"
      ]
    },
    {
      "cell_type": "code",
      "execution_count": 6,
      "metadata": {
        "id": "LpFhbFlxx8ZI",
        "colab": {
          "base_uri": "https://localhost:8080/"
        },
        "outputId": "87259615-a172-4581-a601-01642610e750"
      },
      "outputs": [
        {
          "output_type": "execute_result",
          "data": {
            "text/plain": [
              "(50000, 2)"
            ]
          },
          "metadata": {},
          "execution_count": 6
        }
      ],
      "source": [
        "data.shape"
      ]
    },
    {
      "cell_type": "code",
      "execution_count": 7,
      "metadata": {
        "id": "8F9ZhPNHx9f_",
        "colab": {
          "base_uri": "https://localhost:8080/"
        },
        "outputId": "36639046-9519-41a1-b37a-f00454d2f958"
      },
      "outputs": [
        {
          "output_type": "execute_result",
          "data": {
            "text/plain": [
              "array([1, 2, 0])"
            ]
          },
          "metadata": {},
          "execution_count": 7
        }
      ],
      "source": [
        "data.strength.unique()"
      ]
    },
    {
      "cell_type": "markdown",
      "metadata": {
        "id": "BnVJQmJBbihe"
      },
      "source": [
        "there are only 3 classes in Strength\n",
        "\n",
        "\n",
        "*   0-> weak password\n",
        "\n",
        "*   1->normal password\n",
        "\n",
        "*   2->strong password \n",
        "\n",
        "\n",
        "\n",
        "\n"
      ]
    },
    {
      "cell_type": "code",
      "execution_count": 8,
      "metadata": {
        "id": "v9HJ2WnYyLF0",
        "colab": {
          "base_uri": "https://localhost:8080/"
        },
        "outputId": "f1c56bbf-6d2a-4175-fbf6-3e5735d5da80"
      },
      "outputs": [
        {
          "output_type": "execute_result",
          "data": {
            "text/plain": [
              "array([1, 2, 0])"
            ]
          },
          "metadata": {},
          "execution_count": 8
        }
      ],
      "source": [
        "data.strength.unique()"
      ]
    },
    {
      "cell_type": "code",
      "execution_count": 9,
      "metadata": {
        "id": "HzfXxJg8yWoE",
        "colab": {
          "base_uri": "https://localhost:8080/",
          "height": 0
        },
        "outputId": "fc4e9374-3ba5-476f-e1fa-04453c45ce54"
      },
      "outputs": [
        {
          "output_type": "execute_result",
          "data": {
            "text/plain": [
              "<Axes: xlabel='strength', ylabel='count'>"
            ]
          },
          "metadata": {},
          "execution_count": 9
        },
        {
          "output_type": "display_data",
          "data": {
            "text/plain": [
              "<Figure size 640x480 with 1 Axes>"
            ],
            "image/png": "[encoded data removed]"
          },
          "metadata": {}
        }
      ],
      "source": [
        "# plot the distrebution of classes in the datasets\n",
        "import seaborn as sns\n",
        "import pandas as pd\n",
        "\n",
        "graph = pd.DataFrame({'strength': data['strength']})\n",
        "sns.countplot(x='strength', data=graph)\n"
      ]
    },
    {
      "cell_type": "markdown",
      "metadata": {
        "id": "Kbc41daHcXGq"
      },
      "source": [
        "as we can see count of class 1 is high colpared to class 0 and class 2"
      ]
    },
    {
      "cell_type": "code",
      "execution_count": 10,
      "metadata": {
        "id": "EfnAFzZ4zFMt"
      },
      "outputs": [],
      "source": [
        "# change the data from svc file to array \n",
        "pass_tup=np.array(data)"
      ]
    },
    {
      "cell_type": "code",
      "execution_count": 11,
      "metadata": {
        "id": "agcLQHZlzIFc",
        "colab": {
          "base_uri": "https://localhost:8080/"
        },
        "outputId": "bb4ac56e-8b81-49d6-c94d-1e5908656ff6"
      },
      "outputs": [
        {
          "output_type": "execute_result",
          "data": {
            "text/plain": [
              "array([['kzde5577', 1],\n",
              "       ['kino3434', 1],\n",
              "       ['visi7k1yr', 1],\n",
              "       ...,\n",
              "       ['oqr9rw849O49r0', 2],\n",
              "       ['une67lhn', 1],\n",
              "       ['ahevomu852', 1]], dtype=object)"
            ]
          },
          "metadata": {},
          "execution_count": 11
        }
      ],
      "source": [
        "pass_tup"
      ]
    },
    {
      "cell_type": "code",
      "execution_count": 12,
      "metadata": {
        "id": "A2NXLZW6crwQ",
        "colab": {
          "base_uri": "https://localhost:8080/"
        },
        "outputId": "d4b6f44c-266f-461a-bc9b-13f9f85797ff"
      },
      "outputs": [
        {
          "output_type": "execute_result",
          "data": {
            "text/plain": [
              "numpy.ndarray"
            ]
          },
          "metadata": {},
          "execution_count": 12
        }
      ],
      "source": [
        "type(pass_tup)"
      ]
    },
    {
      "cell_type": "code",
      "execution_count": 13,
      "metadata": {
        "id": "rrgh1nP_c4S5",
        "colab": {
          "base_uri": "https://localhost:8080/"
        },
        "outputId": "753e73ba-1b86-4e54-e97f-3e523228ba6a"
      },
      "outputs": [
        {
          "output_type": "execute_result",
          "data": {
            "text/plain": [
              "array(['kzde5577', 1], dtype=object)"
            ]
          },
          "metadata": {},
          "execution_count": 13
        }
      ],
      "source": [
        "pass_tup[0]"
      ]
    },
    {
      "cell_type": "code",
      "execution_count": 14,
      "metadata": {
        "id": "lBGY8W22zKhE",
        "colab": {
          "base_uri": "https://localhost:8080/"
        },
        "outputId": "0fc77934-6f8b-4c19-ccc2-64340797e9c1"
      },
      "outputs": [
        {
          "output_type": "execute_result",
          "data": {
            "text/plain": [
              "array([['kzde5577', 1],\n",
              "       ['kzde5577', 1],\n",
              "       ['kino3434', 1],\n",
              "       ...,\n",
              "       ['autan88', 0],\n",
              "       ['vknehra1697', 1],\n",
              "       ['canada92534', 1]], dtype=object)"
            ]
          },
          "metadata": {},
          "execution_count": 14
        }
      ],
      "source": [
        "#mix the data in the array \n",
        "import random\n",
        "random.shuffle(pass_tup)\n",
        "pass_tup\n"
      ]
    },
    {
      "cell_type": "code",
      "execution_count": 15,
      "metadata": {
        "id": "s9GY3UiuzOUM"
      },
      "outputs": [],
      "source": [
        "#create independent features  -- separate the columns each in independant array\n",
        "x=[labels[0] for labels in pass_tup]\n",
        "y=[labels[1] for labels in pass_tup]"
      ]
    },
    {
      "cell_type": "code",
      "execution_count": 16,
      "metadata": {
        "id": "-2nprGY0zQ1d",
        "colab": {
          "base_uri": "https://localhost:8080/"
        },
        "outputId": "bd899cc7-93a0-44bf-f66b-5d11838be0a0"
      },
      "outputs": [
        {
          "output_type": "execute_result",
          "data": {
            "text/plain": [
              "['kzde5577',\n",
              " 'kzde5577',\n",
              " 'kino3434',\n",
              " 'megzy123',\n",
              " 'lamborghin1',\n",
              " 'kino3434',\n",
              " 'kino3434',\n",
              " 'visi7k1yr',\n",
              " 'kino3434',\n",
              " 'universe2908',\n",
              " 'kino3434',\n",
              " 'lamborghin1',\n",
              " '612035180tok',\n",
              " '612035180tok',\n",
              " 'jerusalem393',\n",
              " 'WUt9IZzE0OQ7PkNE',\n",
              " '612035180tok',\n",
              " 'AVYq1lDE4MgAZfNt',\n",
              " 'universe2908',\n",
              " 'universe2908',\n",
              " 'jerusalem393',\n",
              " 'as326159',\n",
              " 'v1118714',\n",
              " 'v1118714',\n",
              " 'asv5o9yu',\n",
              " 'u6c8vhow',\n",
              " '612035180tok',\n",
              " 'sbl571017',\n",
              " 'jytifok873',\n",
              " 'megzy123',\n",
              " 'WUt9IZzE0OQ7PkNE',\n",
              " 'trabajonet9',\n",
              " 'lamborghin1',\n",
              " 'kzde5577',\n",
              " 'as326159',\n",
              " 'klara-tershina3H',\n",
              " 'jerusalem393',\n",
              " 'WUt9IZzE0OQ7PkNE',\n",
              " 'kino3434',\n",
              " 'schalke04',\n",
              " '0169395484a',\n",
              " 'universe2908',\n",
              " 'as326159',\n",
              " '52558000aaa',\n",
              " 'idofo673',\n",
              " 'klara-tershina3H',\n",
              " 'yitbos77',\n",
              " 'sbl571017',\n",
              " 'ejeko677',\n",
              " 'a2531106',\n",
              " 'kzde5577',\n",
              " 'asgaliu11',\n",
              " 'elyass15@ajilent-ci',\n",
              " 'v1118714',\n",
              " 'openup12',\n",
              " 'elyass15@ajilent-ci',\n",
              " 'yk530mg8',\n",
              " 'sbl571017',\n",
              " 'WUt9IZzE0OQ7PkNE',\n",
              " 'yk530mg8',\n",
              " 'asgaliu11',\n",
              " 'trabajonet9',\n",
              " 'b4NbTxDEyNgG141J',\n",
              " 'visi7k1yr',\n",
              " 'snolyuj04',\n",
              " 'faranumar91',\n",
              " 'kino3434',\n",
              " 'universe2908',\n",
              " 'ok>bdk',\n",
              " 'lsdlsd1',\n",
              " 'Iamthelegend1!',\n",
              " 'pHyqueDIyNQ8vmhb',\n",
              " 'intel1',\n",
              " 'd04m11',\n",
              " 'u6c8vhow',\n",
              " 'kunyukbabi69',\n",
              " 'yk530mg8',\n",
              " 'asgaliu11',\n",
              " 'czuodhj972',\n",
              " 'bgrvl80',\n",
              " 'fahad123',\n",
              " 'il0vey0u',\n",
              " 'sbl571017',\n",
              " 'bozoxik602',\n",
              " 'k9b8cz6aj2',\n",
              " 'as326159',\n",
              " 'as326159',\n",
              " 'mickael12',\n",
              " 'sbl571017',\n",
              " 'jytifok873',\n",
              " 'czuodhj972',\n",
              " 'ga98SIzk0NwhiZaE',\n",
              " '123477889a',\n",
              " 'jalingo1',\n",
              " 'schalke04',\n",
              " 'khmer100.03278&?><Mnb',\n",
              " 'k9b8cz6aj2',\n",
              " 'alimagik1',\n",
              " 'sbl571017',\n",
              " 'ns2b0727',\n",
              " 'yitbos77',\n",
              " 'woon12',\n",
              " 'sknq7m0',\n",
              " 'sbl571017',\n",
              " 'as326159',\n",
              " '283671gus',\n",
              " 'juliel009',\n",
              " 'jalal123456',\n",
              " 'xiau5ff',\n",
              " 'xyws951753',\n",
              " 'calcifer32',\n",
              " '0169395484a',\n",
              " 'sknq7m0',\n",
              " 'kswa2mrv',\n",
              " 'k1k2k3k4k5k6',\n",
              " 'elyass15@ajilent-ci',\n",
              " '838188linh',\n",
              " 'jerusalem393',\n",
              " 'kino3434',\n",
              " 'mmm23mm',\n",
              " '3vszncp4',\n",
              " 'obstacle25',\n",
              " 'yqugu927',\n",
              " 'kunyukbabi69',\n",
              " 'faranumar91',\n",
              " 'prisonbreak1',\n",
              " 'openup12',\n",
              " 'kjkjkj1',\n",
              " 'snolyuj04',\n",
              " 'g3rappa',\n",
              " 'lsdlsd1',\n",
              " '612035180tok',\n",
              " 'yitbos77',\n",
              " '746xitEGiqObog',\n",
              " 'lamborghin1',\n",
              " 'yk530mg8',\n",
              " 'obstacle25',\n",
              " 'memjan123',\n",
              " 'kjkjkj1',\n",
              " '64959rodro',\n",
              " 'openup12',\n",
              " 'sbl571017',\n",
              " 'moken7',\n",
              " 'a2531106',\n",
              " 'g3rappa',\n",
              " 'w9209640',\n",
              " 'asgaliu11',\n",
              " 'ldteugao6',\n",
              " 'yk530mg8',\n",
              " 'patri1973',\n",
              " 'openup12',\n",
              " 'yk530mg8',\n",
              " 'v1118714',\n",
              " 'p@sslng2diword',\n",
              " 'www32223222',\n",
              " 'mmm23mm',\n",
              " 'Iamthelegend1!',\n",
              " 'yitbos77',\n",
              " 'teemteem97',\n",
              " 'jerusalem393',\n",
              " 'faranumar91',\n",
              " 'asv5o9yu',\n",
              " 'cesarmaio1',\n",
              " 'trabajonet9',\n",
              " '3y6iwef2g6',\n",
              " 'w9209640',\n",
              " 'intel1',\n",
              " 'tin030201',\n",
              " 'jalal123456',\n",
              " 'portales1',\n",
              " 'wisal1234',\n",
              " 'bozoxik602',\n",
              " '3vszncp4',\n",
              " 'kzde5577',\n",
              " 'yllime123',\n",
              " 'elyass15@ajilent-ci',\n",
              " 'calcifer32',\n",
              " 'ass359',\n",
              " 'aquhih220',\n",
              " '20Dgw7TQ0OQVdly7',\n",
              " 'alchimie79',\n",
              " 'cesarmaio1',\n",
              " 'juliel009',\n",
              " 'idofo673',\n",
              " 'alimagik1',\n",
              " 'AVYq1lDE4MgAZfNt',\n",
              " 'megzy123',\n",
              " 'ns2b0727',\n",
              " 'matiofox08',\n",
              " 'universe2908',\n",
              " '2010server',\n",
              " 'klara-tershina3H',\n",
              " 'oekojWyH120063',\n",
              " 'yqugu927',\n",
              " 'pato221182',\n",
              " 'universe2908',\n",
              " 'kVczcljg4OA25Aeb',\n",
              " 'puegwajy416',\n",
              " 'yqugu927',\n",
              " '2yz4ewwg',\n",
              " 'change201',\n",
              " 'tin030201',\n",
              " '6tequila6',\n",
              " 'jytifok873',\n",
              " 'polo2014',\n",
              " 'kayal123',\n",
              " 'barra23',\n",
              " 'pikey231',\n",
              " 'omakiva153',\n",
              " 'kjkjkj1',\n",
              " 'p@sslng2diword',\n",
              " 'bgrvl80',\n",
              " 'obstacle25',\n",
              " 'elyass15@ajilent-ci',\n",
              " 'w9209640',\n",
              " 'olmaz.',\n",
              " 'juliel009',\n",
              " 'tamanagung6',\n",
              " 'schalke04',\n",
              " 'klara-tershina3H',\n",
              " 'XqMB7vDMzOQocAFV',\n",
              " 'TyWM72UNEex8Q8Y',\n",
              " 'sanki1',\n",
              " 'a0972986650',\n",
              " 'asv5o9yu',\n",
              " '6975038lp',\n",
              " 'yuri110995',\n",
              " 'yllime123',\n",
              " 'ldteugao6',\n",
              " 'yqugu927',\n",
              " 'd04m11',\n",
              " '123net123',\n",
              " '2010server',\n",
              " 'il0vey0u',\n",
              " 'www32223222',\n",
              " 'yitbos77',\n",
              " 'vehat387',\n",
              " '10Erjrlmebup0n',\n",
              " 'kino3434',\n",
              " 'oekojWyH120063',\n",
              " 'go7kew7a2po',\n",
              " '5gzj5uf',\n",
              " 'koabcswzt3',\n",
              " '3vszncp4',\n",
              " 'yk530mg8',\n",
              " 'gozv3e5',\n",
              " '64959rodro',\n",
              " 'yllime123',\n",
              " 'olmaz.',\n",
              " 'XqMB7vDMzOQocAFV',\n",
              " 'g067057895',\n",
              " 'j09000',\n",
              " 'fahad123',\n",
              " 'lrhxmevb620',\n",
              " 'portales1',\n",
              " 'WUt9IZzE0OQ7PkNE',\n",
              " 'jalal123456',\n",
              " 'enziitoo1234',\n",
              " 'ebacuro434',\n",
              " 'omakiva153',\n",
              " '52558000aaa',\n",
              " 'tia150979',\n",
              " 'as326159',\n",
              " 'juliel009',\n",
              " 'rLLh4WDQ2OAWbDO5',\n",
              " 'xyws951753',\n",
              " 'potatobus150',\n",
              " 'nello11',\n",
              " 'juliana19',\n",
              " 'uxyloga692',\n",
              " 'kikeq102',\n",
              " 'omakiva153',\n",
              " 'WUt9IZzE0OQ7PkNE',\n",
              " 'mazdarx7',\n",
              " 'd04m11',\n",
              " 'trabajonet9',\n",
              " 'memjan123',\n",
              " 'meopvywk628',\n",
              " 'idofo673',\n",
              " 'g067057895',\n",
              " 'z888888',\n",
              " '52558000aaa',\n",
              " 'patri1973',\n",
              " 'yu4cmn',\n",
              " 'peluchin4',\n",
              " 'WUt9IZzE0OQ7PkNE',\n",
              " 'ekufite742',\n",
              " 'sbaUsoTA1OAzuevI',\n",
              " 'gtlek',\n",
              " 'qn5xpg3k00',\n",
              " 'krumbul123',\n",
              " 'x8512514',\n",
              " '215466kenyi',\n",
              " 'kenneth610',\n",
              " 'gkrqjs6',\n",
              " 'uxyloga692',\n",
              " '10Erjrlmebup0n',\n",
              " 'iwaguh884',\n",
              " '10Erjrlmebup0n',\n",
              " 'autan88',\n",
              " 'ga98SIzk0NwhiZaE',\n",
              " 'owote852',\n",
              " '2yz4ewwg',\n",
              " 'warriors08',\n",
              " 'jerusalem393',\n",
              " 'faranumar91',\n",
              " 'ldteugao6',\n",
              " 'uou2dae',\n",
              " 'gill02',\n",
              " '159951josh',\n",
              " 'ginger972',\n",
              " 'robot425',\n",
              " '12345yolanda',\n",
              " '0112358mayin0',\n",
              " 'omakiva153',\n",
              " 'fk9qi21m',\n",
              " 'd4xQ3LjUwMQFVCYQ',\n",
              " 'denise18',\n",
              " 'asgaliu11',\n",
              " 'u6c8vhow',\n",
              " 'examy624',\n",
              " 'mmm23mm',\n",
              " 'klara-tershina3H',\n",
              " 'xyws951753',\n",
              " 'peluchin4',\n",
              " 'aosmaxd0',\n",
              " 'wycinu436',\n",
              " 'portales1',\n",
              " 'wibi182d',\n",
              " 'patri1973',\n",
              " 'jonothepoop1',\n",
              " 'okn9zp9o',\n",
              " 'ts34a3fodh3i',\n",
              " 'ekufite742',\n",
              " 'prisonbreak1',\n",
              " 'autan88',\n",
              " 'ekufite742',\n",
              " 'robot425',\n",
              " 'clyioqzgw42',\n",
              " 'j09000',\n",
              " 'oekojWyH120063',\n",
              " 'ppnyadam09',\n",
              " 'planes123',\n",
              " 'prisonbreak1',\n",
              " 'il0vey0u',\n",
              " 'poseidon2011',\n",
              " 'damyvo114',\n",
              " 'ebacuro434',\n",
              " 'rntprns7',\n",
              " 'wo9aiwangyan',\n",
              " '4fqa52vecr',\n",
              " 'xW8-3w7-MFB-CKH',\n",
              " 'k9b8cz6aj2',\n",
              " 'iwaguh884',\n",
              " 'pikey231',\n",
              " 'jalingo1',\n",
              " 'farrukhcse12',\n",
              " 'edcmki90',\n",
              " 'nK0yKXTU0NQHZE2e',\n",
              " 'sofietou74',\n",
              " 'owote852',\n",
              " '1234159hero',\n",
              " 'lsdlsd1',\n",
              " 'wuzyci421',\n",
              " 'vuqADUSatAJO800',\n",
              " 'sanki1',\n",
              " 'pugceya468',\n",
              " 'AVYq1lDE4MgAZfNt',\n",
              " 'webstudio8',\n",
              " 'wibi182d',\n",
              " 'fnmsdha476',\n",
              " 'gozv3e5',\n",
              " 'u6c8vhow',\n",
              " 'yuri110995',\n",
              " 'wibi182d',\n",
              " 's4m2dx9e6',\n",
              " 'kyxvufl37',\n",
              " 'gaymaids1',\n",
              " 'vietnga92',\n",
              " '07dpv1127b',\n",
              " 'mike09',\n",
              " 'xyws951753',\n",
              " 'vehat387',\n",
              " 'samael666',\n",
              " 'holamundo1',\n",
              " 'metopelo1623',\n",
              " '12345yolanda',\n",
              " 'z7zbgIDkzMQeHUd9',\n",
              " 'gdfn76',\n",
              " 'kP82iqDMxNgBMxBP',\n",
              " 'virush1n1',\n",
              " 'oatcake87',\n",
              " 'potatobus150',\n",
              " 'koabcswzt3',\n",
              " 'sarahi1628',\n",
              " 'AS0130066',\n",
              " 'sanki1',\n",
              " 'mayur@8netinfotech',\n",
              " 'mohantra1',\n",
              " 'fahad123',\n",
              " 'yqugu927',\n",
              " 'a2531106',\n",
              " 'd04m11',\n",
              " 'cockw0mble',\n",
              " 'jUV4dSDQwNwPpA36',\n",
              " 'sd6x9s3s',\n",
              " 'kdl9cl53',\n",
              " 'www32223222',\n",
              " 'IRZA98',\n",
              " 'holamundo1',\n",
              " 'senghong2009',\n",
              " 'kyxvufl37',\n",
              " 'IjUcOtYqAwel725',\n",
              " 'bozoxik602',\n",
              " 'holamundo1',\n",
              " 'p@sslng2diword',\n",
              " 'nokia6020',\n",
              " 'gerardway1',\n",
              " 'gozv3e5',\n",
              " 'jalingo1',\n",
              " 'caramelo9',\n",
              " 'hpqkoxsn5',\n",
              " 'kinga22',\n",
              " '52558000aaa',\n",
              " 'ixehawojEPe418',\n",
              " 'snolyuj04',\n",
              " 'y0unus',\n",
              " 'servbot88',\n",
              " 'gtlek',\n",
              " '0169395484a',\n",
              " 'b4NbTxDEyNgG141J',\n",
              " 'virush1n1',\n",
              " 'moimoimoi9',\n",
              " 'taurofive16',\n",
              " 'xlxlxl777',\n",
              " 'tomas7896',\n",
              " '4osxw4r',\n",
              " 'w9209640',\n",
              " 'afavin964',\n",
              " 'ekufite742',\n",
              " 'j09000',\n",
              " 'vietnga92',\n",
              " 'warriors08',\n",
              " 'fbjurcd961',\n",
              " 'ubojig109',\n",
              " 'meopvywk628',\n",
              " 'weicat12',\n",
              " 'XqMB7vDMzOQocAFV',\n",
              " 'tukaxo486',\n",
              " 'JEQuloqOFUd102',\n",
              " 'change201',\n",
              " 'yu86640132',\n",
              " 'colorado27',\n",
              " 'c3h8bkzr',\n",
              " 'vgnfs495vp',\n",
              " 'uxyloga692',\n",
              " 'jytifok873',\n",
              " '52558000aaa',\n",
              " 'balamuc123',\n",
              " 'bugatti01',\n",
              " 'yhwbzci130',\n",
              " 'control9',\n",
              " 'kenneth610',\n",
              " '0VKWoODkwOAc0pZK',\n",
              " 'atigi839',\n",
              " 'poilkjmnb987',\n",
              " 'hlQ8gDTExMQWkeda',\n",
              " 'novelia21',\n",
              " '3vszncp4',\n",
              " 'd6VyrkFV6oblxNs5N8cW',\n",
              " 'gozv3e5',\n",
              " 'xanyrum650',\n",
              " 'asakapa22',\n",
              " '248sUqiFEJuRag',\n",
              " 'v10rica',\n",
              " 'kenyu001',\n",
              " 'j09000',\n",
              " 'wycinu436',\n",
              " 'djngeyut2707',\n",
              " 'sofietou74',\n",
              " 'potatobus150',\n",
              " 'sysoja794',\n",
              " 'jerusalem393',\n",
              " 'webstudio8',\n",
              " 'j2yj2yj2y',\n",
              " 'g3rappa',\n",
              " 'weicat12',\n",
              " 'xlxlxl777',\n",
              " 'graciela2',\n",
              " 'TyWM72UNEex8Q8Y',\n",
              " 'barra23',\n",
              " 'obstacle25',\n",
              " 'kitty555',\n",
              " 'robot425',\n",
              " 'mmm23mm',\n",
              " 'mazdarx7',\n",
              " '9950twofour0',\n",
              " '600eretz',\n",
              " 'alimagik1',\n",
              " 'ycqtgdso3',\n",
              " 'kitty555',\n",
              " 'clave08',\n",
              " 'hasan18',\n",
              " 'clyioqzgw42',\n",
              " 'y0unus',\n",
              " 't8IkFRDIxMAFV2JW',\n",
              " '2yz4ewwg',\n",
              " 'exitos2009',\n",
              " 'jonothepoop1',\n",
              " 'zidadoh258',\n",
              " 'den019520',\n",
              " 'elyass15@ajilent-ci',\n",
              " 'polo2014',\n",
              " 'patty94',\n",
              " 'e667794c1d',\n",
              " 'WUt9IZzE0OQ7PkNE',\n",
              " '147963asd',\n",
              " 'hodygid757',\n",
              " 'jonothepoop1',\n",
              " 'pablo321159',\n",
              " 'ikanez886',\n",
              " '1qa2ws3ed4rf',\n",
              " '2fakjv',\n",
              " 'd04m11',\n",
              " 'yhwbzci130',\n",
              " 'icap12',\n",
              " 'y0unus',\n",
              " 'wycinu436',\n",
              " 'IRZA98',\n",
              " 'mashhood_afzal21087',\n",
              " '6tequila6',\n",
              " '1katertje',\n",
              " 'uoaef06gfqeb',\n",
              " 'ayles2266',\n",
              " 'adminmao888',\n",
              " 'amandine666',\n",
              " 'kuntz80',\n",
              " 'teemteem97',\n",
              " 'jonothepoop1',\n",
              " 'edcmki90',\n",
              " 'lollies1989',\n",
              " 'schalke04',\n",
              " 'amandine666',\n",
              " 'yuri110995',\n",
              " 'wearehis7',\n",
              " '1972vishara',\n",
              " 'josue12',\n",
              " 'hodygid757',\n",
              " '1972vishara',\n",
              " 'rrilni1747',\n",
              " 'robot425',\n",
              " 'robot425',\n",
              " 'w1ll1ams',\n",
              " 'vietnga92',\n",
              " '4lgYVfzk1MwuzHcn',\n",
              " 'kah4544875',\n",
              " 'butisugo39',\n",
              " 'princ3sa',\n",
              " 'lqksuym982',\n",
              " 'mustang337',\n",
              " 'koabcswzt3',\n",
              " 'koabcswzt3',\n",
              " 'm4r4hne',\n",
              " 'damyvo114',\n",
              " '4165000yakub',\n",
              " '4osxw4r',\n",
              " 'vehat387',\n",
              " 'L2i2ZwTg1MQajeBm',\n",
              " 'X9WVojjE4MgVAIiR',\n",
              " 'ypodahe201',\n",
              " 'grazi0201',\n",
              " '147963asd',\n",
              " 'oscar2002',\n",
              " 'fnmsdha476',\n",
              " 'tim80327',\n",
              " 'sbl571017',\n",
              " 'folashade1',\n",
              " 'witek1709',\n",
              " 'gvczfel801',\n",
              " 'olmaz.',\n",
              " 'taulant123',\n",
              " 'yjuqseb416',\n",
              " 'sysoja794',\n",
              " 'elyass15@ajilent-ci',\n",
              " 'ydd45ee',\n",
              " '1qa2ws3ed4r',\n",
              " 'nebunule2',\n",
              " 'taiga0088',\n",
              " '6975038lp',\n",
              " 'ekufite742',\n",
              " 'marita1',\n",
              " 'spl51190595',\n",
              " 'bgrvl80',\n",
              " 'gdfn76',\n",
              " 'frhnsvelhfr1',\n",
              " 'g067057895',\n",
              " 'jerusalem393',\n",
              " 'pazzini24',\n",
              " 'jerusalem393',\n",
              " '847XagYxUHUXOW',\n",
              " 'iacool99',\n",
              " 'uou2dae',\n",
              " 'pacific52',\n",
              " 'prisonbreak1',\n",
              " 'beijing168',\n",
              " 'folashade1',\n",
              " '6yy6yy',\n",
              " 'sono11',\n",
              " 'RPFUOUDQwMwVW0AS',\n",
              " 'ns2b0727',\n",
              " 'khaled12',\n",
              " '6yy6yy',\n",
              " 'desmondkok21',\n",
              " 'limichan99',\n",
              " '0870330135a',\n",
              " 'gedu1t1ah',\n",
              " 'zcsntdmhe098',\n",
              " 'as326159',\n",
              " 'vardhan19',\n",
              " 'clave08',\n",
              " 'xawipy995',\n",
              " 'cigicigi123',\n",
              " 'kitty555',\n",
              " 'ass359',\n",
              " 'onurb1994',\n",
              " 'legna13',\n",
              " 'intel1',\n",
              " 'oatcake87',\n",
              " 'cyborged69',\n",
              " 'elabadmin1386',\n",
              " 'witek1709',\n",
              " 'sanki1',\n",
              " 'ypodahe201',\n",
              " 'RPFUOUDQwMwVW0AS',\n",
              " '4osxw4r',\n",
              " 'v1s2c3456',\n",
              " 'meriton23',\n",
              " 'whosdabest1',\n",
              " 'pacific52',\n",
              " 'kenyu001',\n",
              " 'rntprns7',\n",
              " 'yjuqseb416',\n",
              " '4fqa52vecr',\n",
              " 'buqodym199',\n",
              " '1597535youssi',\n",
              " 'hotdog20',\n",
              " 'buqodym199',\n",
              " 'jesmond26',\n",
              " 'woogee04',\n",
              " 'zu20081965',\n",
              " 'kVczcljg4OA25Aeb',\n",
              " 'aslanmarco007',\n",
              " 'intel1',\n",
              " 'kenneth610',\n",
              " 'c3h8bkzr',\n",
              " '1A2Z3E4R',\n",
              " '2010server',\n",
              " 'aslanmarco007',\n",
              " 'zgmfnwuq25',\n",
              " 'hqh2eYjQxOQPYIsA',\n",
              " 'cifinew817',\n",
              " 'ebogel225',\n",
              " 'jeeves123',\n",
              " 'sofietou74',\n",
              " '64959rodro',\n",
              " 'meopvywk628',\n",
              " 'y0unus',\n",
              " 'sydney213',\n",
              " 'gandhi8513',\n",
              " 'juliel009',\n",
              " 'a03242241431a',\n",
              " 'password0880',\n",
              " 'pablo321159',\n",
              " 'desmondkok21',\n",
              " 'ocadezi586',\n",
              " 'kayal123',\n",
              " 'kyxvufl37',\n",
              " '1qa2ws3ed4rf',\n",
              " 'den019520',\n",
              " 'AVYq1lDE4MgAZfNt',\n",
              " 'xW8-3w7-MFB-CKH',\n",
              " 'a2531106',\n",
              " 'samael666',\n",
              " 'itengf12',\n",
              " 'groster152',\n",
              " 'fbjurcd961',\n",
              " 'VMjz4eTkxNAbOyUU',\n",
              " 'sysoja794',\n",
              " 'cribrot1200',\n",
              " 'd4xQ3LjUwMQFVCYQ',\n",
              " 'mark11',\n",
              " 'ahibyg892',\n",
              " 'RRaa--72783530081984',\n",
              " 'rsuvxz08b',\n",
              " 'rsuvxz08b',\n",
              " 'zedika521',\n",
              " 'gtlek',\n",
              " 'wuzsadav933',\n",
              " 'j2yj2yj2y',\n",
              " 't8IkFRDIxMAFV2JW',\n",
              " 'trabajonet9',\n",
              " 'vocal0619',\n",
              " 'sydney213',\n",
              " 'meriton23',\n",
              " 'deryxi704',\n",
              " '6975038lp',\n",
              " 'zendegi2me',\n",
              " 'den019520',\n",
              " 'grazi0201',\n",
              " '19821010a',\n",
              " 'butisugo39',\n",
              " 'h1h2h3h4h5',\n",
              " 'seeyouagain1',\n",
              " 'znbl5tj1',\n",
              " 'hodygid757',\n",
              " 'azerty32',\n",
              " 'nhiannei040',\n",
              " 'meopvywk628',\n",
              " 'rogama69',\n",
              " 'barboza221294',\n",
              " 'kenyu001',\n",
              " 'bafiqkxwu0',\n",
              " 'aio42fv',\n",
              " '030005qw',\n",
              " '33kanun03',\n",
              " '19821010a',\n",
              " 'franczuk33',\n",
              " '1991vikash',\n",
              " 'ebacuro434',\n",
              " 'iacool99',\n",
              " 'd04m11',\n",
              " 'cyborged69',\n",
              " '64whbrb351',\n",
              " '727nimdadre',\n",
              " 'poseidon2011',\n",
              " 'seller1',\n",
              " 'enziitoo1234',\n",
              " 'memjan123',\n",
              " 'paladinas1',\n",
              " '101010hadis',\n",
              " 'meopvywk628',\n",
              " 'ram@!sita15392',\n",
              " 'yzxwvgbdu503',\n",
              " 'calcifer32',\n",
              " '1234159hero',\n",
              " 'mazdarx7',\n",
              " 'kinga22',\n",
              " 'aquhih220',\n",
              " 'beijing168',\n",
              " 'wearehis7',\n",
              " '33kanun03',\n",
              " 'woon12',\n",
              " 'finisterra1',\n",
              " 'z7zbgIDkzMQeHUd9',\n",
              " 'yu86640132',\n",
              " 'j2yj2yj2y',\n",
              " '6tequila6',\n",
              " 'uou2dae',\n",
              " 'TyWM72UNEex8Q8Y',\n",
              " 'XqMB7vDMzOQocAFV',\n",
              " 'woon12',\n",
              " 'atigi839',\n",
              " 'kzde5577',\n",
              " 'jEzZXUTE3MgJ4fVk',\n",
              " 'jcav26',\n",
              " 'oatcake87',\n",
              " '2021848709.',\n",
              " 'gpc151192',\n",
              " 'Zdyf0kjMzNQycqPx',\n",
              " 'gozv3e5',\n",
              " 'snolyuj04',\n",
              " 'amandine666',\n",
              " '8g8x2su3',\n",
              " 'xlxlxl777',\n",
              " '2yz4ewwg',\n",
              " 'mmm23mm',\n",
              " 'maulana79',\n",
              " 'galoucura1',\n",
              " 'RqsuUsDYxNgr8T40',\n",
              " 'visi7k1yr',\n",
              " 'lancelot07',\n",
              " 'teemteem97',\n",
              " 'visi7k1yr',\n",
              " '1245386fj',\n",
              " 'ppnyadam09',\n",
              " 'wuzyci421',\n",
              " 'IRZA98',\n",
              " 'daaxvie1',\n",
              " 'p3rf3ct0',\n",
              " 'aan2900220',\n",
              " 'vocal0619',\n",
              " 'ldteugao6',\n",
              " 'ubojig109',\n",
              " 'han19660120',\n",
              " 'ts34a3fodh3i',\n",
              " '123477889a',\n",
              " 'J0LcDWDc2NAVE8j3',\n",
              " 'goony01',\n",
              " 'd6VyrkFV6oblxNs5N8cW',\n",
              " 'as8594505',\n",
              " 'tahseen75',\n",
              " 'oioo9og',\n",
              " 'alodise603',\n",
              " 'vardhan19',\n",
              " 'n501iomf',\n",
              " 'trabajonet9',\n",
              " 'beijing168',\n",
              " 'poluxyj32',\n",
              " 'q0pv0fk',\n",
              " 'purpledog1992',\n",
              " 'jcav26',\n",
              " 'linhna288',\n",
              " 'pato221182',\n",
              " 'graciela2',\n",
              " 'taurofive16',\n",
              " '000webhostcom',\n",
              " 'housefly74',\n",
              " 'tomas7896',\n",
              " 'moimoimoi9',\n",
              " 'hodaq103',\n",
              " 'daaxvie1',\n",
              " 'hasan18',\n",
              " 'ns2b0727',\n",
              " 'p2share',\n",
              " '3CgRg8DA1NQY1iEj',\n",
              " 'kyodai666',\n",
              " 'RJXDk1zEyMwpyq0U',\n",
              " 'emufat882',\n",
              " 'eth36498',\n",
              " '838188linh',\n",
              " 'juliana19',\n",
              " 'olumide1',\n",
              " 'kP82iqDMxNgBMxBP',\n",
              " 's0xwym7h',\n",
              " '1907sedat58',\n",
              " 'berserk18',\n",
              " 'schalke04',\n",
              " 'sebax2013',\n",
              " 'aa123000',\n",
              " 'webhostv1t1n',\n",
              " 'AVYq1lDE4MgAZfNt',\n",
              " 'qwekl12',\n",
              " 'keithar1',\n",
              " 'zedika521',\n",
              " 'ilunia20',\n",
              " 'pap0spep0s',\n",
              " 'jfk490giwb',\n",
              " 'samemene@sm',\n",
              " 'jeeves123',\n",
              " 'kitty555',\n",
              " 'exusop649',\n",
              " 'kyodai666',\n",
              " '0123one47',\n",
              " 'd6VyrkFV6oblxNs5N8cW',\n",
              " 'roxana1993',\n",
              " 'g3rappa',\n",
              " 'paladinas1',\n",
              " 'rntprns7',\n",
              " 'killer5',\n",
              " 'lsdlsd1',\n",
              " 'luiskeko31',\n",
              " 'jl440033',\n",
              " '9950twofour0',\n",
              " 'x57669',\n",
              " 'kjkjkj1',\n",
              " 'housefly74',\n",
              " 'rLLh4WDQ2OAWbDO5',\n",
              " 'tamanagung6',\n",
              " 'jfk490giwb',\n",
              " 'ihana906',\n",
              " '631ihOZogELoVap',\n",
              " 'IRZA98',\n",
              " 'oatcake87',\n",
              " 'dK4dWOjM1OAPeisw',\n",
              " 'rntprns7',\n",
              " 'artom111478',\n",
              " 'yu4cmn',\n",
              " 'islamasma12',\n",
              " '6tequila6',\n",
              " 'fudijep286',\n",
              " 'znbl5tj1',\n",
              " 'clyioqzgw42',\n",
              " 'josef0867',\n",
              " 'acetita478',\n",
              " 'mxvurqyws5',\n",
              " 'mickael12',\n",
              " 'qopybuxi2',\n",
              " 'krumbul123',\n",
              " 'uuuu123',\n",
              " 'herherher1',\n",
              " 'iprwxmfk84',\n",
              " 'jcav26',\n",
              " 'kenyu001',\n",
              " 'hpw1907v',\n",
              " 'kashyn777',\n",
              " 'yzxwvgbdu503',\n",
              " '1A2Z3E4R',\n",
              " 'hodaq103',\n",
              " 'grazi0201',\n",
              " 'ldteugao6',\n",
              " 'potatobus150',\n",
              " '9h7v4z91',\n",
              " 'pacman23',\n",
              " 'mustang337',\n",
              " '1991vikash',\n",
              " 'franczuk33',\n",
              " 'olyucskw52',\n",
              " 'khaled12',\n",
              " 'korea2010',\n",
              " 'peluchin4',\n",
              " 'mathilde54550',\n",
              " 'seng987321',\n",
              " 'pekai2004',\n",
              " 'k9b8cz6aj2',\n",
              " 'bugatti01',\n",
              " 'balamuc123',\n",
              " 'iprwxmfk84',\n",
              " 'owataantena1',\n",
              " 'zeitgeist1',\n",
              " 'Oshity07142014',\n",
              " 'mathilde54550',\n",
              " 'x0004534',\n",
              " 'calcifer32',\n",
              " 'yu86640132',\n",
              " 'faranumar91',\n",
              " 'hodygid757',\n",
              " 'trust123',\n",
              " '1245386fj',\n",
              " 'kuntz80',\n",
              " '1597535youssi',\n",
              " '1katertje',\n",
              " 'sysoja794',\n",
              " 'den019520',\n",
              " 'taccy12',\n",
              " 'IP1yaTDUzOQWAeI5',\n",
              " 'tiga33',\n",
              " 'jr88072635',\n",
              " 'kahcyxvj24',\n",
              " 'clave08',\n",
              " 'mustang337',\n",
              " 'wilian123',\n",
              " 'yut0838828185',\n",
              " 'poilkjmnb987',\n",
              " 'limichan99',\n",
              " 'cerner09',\n",
              " 'zb08110229',\n",
              " 'k1k2k3k4k5k6',\n",
              " 'bafiqkxwu0',\n",
              " 'yzxwvgbdu503',\n",
              " 'viri13',\n",
              " '20Dgw7TQ0OQVdly7',\n",
              " 'ikanez886',\n",
              " 'VMjz4eTkxNAbOyUU',\n",
              " 'laedbchsx687',\n",
              " '1597535youssi',\n",
              " 'berserk18',\n",
              " 'kikeq102',\n",
              " '1justogax',\n",
              " 'sysoja794',\n",
              " 'afs34214',\n",
              " 'eth36498',\n",
              " 'jonothepoop1',\n",
              " '52756652a',\n",
              " 'admin123',\n",
              " 'qefoquf1uf',\n",
              " 'pap0spep0s',\n",
              " 'meriton23',\n",
              " 'enziitoo1234',\n",
              " '4TXr5KDYxNQVTo4g',\n",
              " 'BsKbJHTY4NgesCOs',\n",
              " '0VKWoODkwOAc0pZK',\n",
              " 'exitos2009',\n",
              " 'z888888',\n",
              " 'shotiko18',\n",
              " 'gpc151192',\n",
              " 'lzhzad1989',\n",
              " 'naseKoBUMIg295',\n",
              " 'p@sslng2diword',\n",
              " 'xzeyfbi495',\n",
              " 'd4xQ3LjUwMQFVCYQ',\n",
              " 'lancelot07',\n",
              " 'ryjypes139',\n",
              " 'oslicek00',\n",
              " '12345yolanda',\n",
              " 'jkprm45',\n",
              " 'sbaUsoTA1OAzuevI',\n",
              " 'sgtg5fq',\n",
              " 'oioo9og',\n",
              " 'j09000',\n",
              " 'ekufite742',\n",
              " 'pacman23',\n",
              " 'la3na4you',\n",
              " '5874813o',\n",
              " 'jeckericek24',\n",
              " 'paola1995',\n",
              " 'sebax2013',\n",
              " 'lqksuym982',\n",
              " 'z7zbgIDkzMQeHUd9',\n",
              " 'Jovan13lovekenthjusvan4ever',\n",
              " 'llahetihw1',\n",
              " ...]"
            ]
          },
          "metadata": {},
          "execution_count": 16
        }
      ],
      "source": [
        "# check pass words\n",
        "x"
      ]
    },
    {
      "cell_type": "code",
      "execution_count": 17,
      "metadata": {
        "id": "alcpf0zedi9E",
        "colab": {
          "base_uri": "https://localhost:8080/"
        },
        "outputId": "721e796a-7366-4a41-b742-fecd89fe3b54"
      },
      "outputs": [
        {
          "output_type": "execute_result",
          "data": {
            "text/plain": [
              "[1,\n",
              " 1,\n",
              " 1,\n",
              " 1,\n",
              " 1,\n",
              " 1,\n",
              " 1,\n",
              " 1,\n",
              " 1,\n",
              " 1,\n",
              " 1,\n",
              " 1,\n",
              " 1,\n",
              " 1,\n",
              " 1,\n",
              " 2,\n",
              " 1,\n",
              " 2,\n",
              " 1,\n",
              " 1,\n",
              " 1,\n",
              " 1,\n",
              " 1,\n",
              " 1,\n",
              " 1,\n",
              " 1,\n",
              " 1,\n",
              " 1,\n",
              " 1,\n",
              " 1,\n",
              " 2,\n",
              " 1,\n",
              " 1,\n",
              " 1,\n",
              " 1,\n",
              " 2,\n",
              " 1,\n",
              " 2,\n",
              " 1,\n",
              " 1,\n",
              " 1,\n",
              " 1,\n",
              " 1,\n",
              " 1,\n",
              " 1,\n",
              " 2,\n",
              " 1,\n",
              " 1,\n",
              " 1,\n",
              " 1,\n",
              " 1,\n",
              " 1,\n",
              " 2,\n",
              " 1,\n",
              " 1,\n",
              " 2,\n",
              " 1,\n",
              " 1,\n",
              " 2,\n",
              " 1,\n",
              " 1,\n",
              " 1,\n",
              " 2,\n",
              " 1,\n",
              " 1,\n",
              " 1,\n",
              " 1,\n",
              " 1,\n",
              " 0,\n",
              " 0,\n",
              " 2,\n",
              " 2,\n",
              " 0,\n",
              " 0,\n",
              " 1,\n",
              " 1,\n",
              " 1,\n",
              " 1,\n",
              " 1,\n",
              " 0,\n",
              " 1,\n",
              " 1,\n",
              " 1,\n",
              " 1,\n",
              " 1,\n",
              " 1,\n",
              " 1,\n",
              " 1,\n",
              " 1,\n",
              " 1,\n",
              " 1,\n",
              " 2,\n",
              " 1,\n",
              " 1,\n",
              " 1,\n",
              " 2,\n",
              " 1,\n",
              " 1,\n",
              " 1,\n",
              " 1,\n",
              " 1,\n",
              " 0,\n",
              " 0,\n",
              " 1,\n",
              " 1,\n",
              " 1,\n",
              " 1,\n",
              " 1,\n",
              " 0,\n",
              " 1,\n",
              " 1,\n",
              " 1,\n",
              " 0,\n",
              " 1,\n",
              " 1,\n",
              " 2,\n",
              " 1,\n",
              " 1,\n",
              " 1,\n",
              " 0,\n",
              " 1,\n",
              " 1,\n",
              " 1,\n",
              " 1,\n",
              " 1,\n",
              " 1,\n",
              " 1,\n",
              " 0,\n",
              " 1,\n",
              " 0,\n",
              " 0,\n",
              " 1,\n",
              " 1,\n",
              " 2,\n",
              " 1,\n",
              " 1,\n",
              " 1,\n",
              " 1,\n",
              " 0,\n",
              " 1,\n",
              " 1,\n",
              " 1,\n",
              " 0,\n",
              " 1,\n",
              " 0,\n",
              " 1,\n",
              " 1,\n",
              " 1,\n",
              " 1,\n",
              " 1,\n",
              " 1,\n",
              " 1,\n",
              " 1,\n",
              " 2,\n",
              " 1,\n",
              " 0,\n",
              " 2,\n",
              " 1,\n",
              " 1,\n",
              " 1,\n",
              " 1,\n",
              " 1,\n",
              " 1,\n",
              " 1,\n",
              " 1,\n",
              " 1,\n",
              " 0,\n",
              " 1,\n",
              " 1,\n",
              " 1,\n",
              " 1,\n",
              " 1,\n",
              " 1,\n",
              " 1,\n",
              " 1,\n",
              " 2,\n",
              " 1,\n",
              " 0,\n",
              " 1,\n",
              " 2,\n",
              " 1,\n",
              " 1,\n",
              " 1,\n",
              " 1,\n",
              " 1,\n",
              " 2,\n",
              " 1,\n",
              " 1,\n",
              " 1,\n",
              " 1,\n",
              " 1,\n",
              " 2,\n",
              " 2,\n",
              " 1,\n",
              " 1,\n",
              " 1,\n",
              " 2,\n",
              " 1,\n",
              " 1,\n",
              " 1,\n",
              " 1,\n",
              " 1,\n",
              " 1,\n",
              " 1,\n",
              " 1,\n",
              " 1,\n",
              " 0,\n",
              " 1,\n",
              " 1,\n",
              " 0,\n",
              " 2,\n",
              " 0,\n",
              " 1,\n",
              " 2,\n",
              " 1,\n",
              " 0,\n",
              " 1,\n",
              " 1,\n",
              " 1,\n",
              " 2,\n",
              " 2,\n",
              " 2,\n",
              " 0,\n",
              " 1,\n",
              " 1,\n",
              " 1,\n",
              " 1,\n",
              " 1,\n",
              " 1,\n",
              " 1,\n",
              " 0,\n",
              " 1,\n",
              " 1,\n",
              " 1,\n",
              " 1,\n",
              " 1,\n",
              " 1,\n",
              " 2,\n",
              " 1,\n",
              " 2,\n",
              " 1,\n",
              " 0,\n",
              " 1,\n",
              " 1,\n",
              " 1,\n",
              " 0,\n",
              " 1,\n",
              " 1,\n",
              " 0,\n",
              " 2,\n",
              " 1,\n",
              " 0,\n",
              " 1,\n",
              " 1,\n",
              " 1,\n",
              " 2,\n",
              " 1,\n",
              " 1,\n",
              " 1,\n",
              " 1,\n",
              " 1,\n",
              " 1,\n",
              " 1,\n",
              " 1,\n",
              " 2,\n",
              " 1,\n",
              " 1,\n",
              " 0,\n",
              " 1,\n",
              " 1,\n",
              " 1,\n",
              " 1,\n",
              " 2,\n",
              " 1,\n",
              " 0,\n",
              " 1,\n",
              " 1,\n",
              " 1,\n",
              " 1,\n",
              " 1,\n",
              " 0,\n",
              " 1,\n",
              " 1,\n",
              " 0,\n",
              " 1,\n",
              " 2,\n",
              " 1,\n",
              " 2,\n",
              " 0,\n",
              " 1,\n",
              " 1,\n",
              " 1,\n",
              " 1,\n",
              " 1,\n",
              " 0,\n",
              " 1,\n",
              " 2,\n",
              " 1,\n",
              " 2,\n",
              " 0,\n",
              " 2,\n",
              " 1,\n",
              " 1,\n",
              " 1,\n",
              " 1,\n",
              " 1,\n",
              " 1,\n",
              " 0,\n",
              " 0,\n",
              " 1,\n",
              " 1,\n",
              " 1,\n",
              " 1,\n",
              " 1,\n",
              " 1,\n",
              " 1,\n",
              " 2,\n",
              " 1,\n",
              " 1,\n",
              " 1,\n",
              " 1,\n",
              " 0,\n",
              " 2,\n",
              " 1,\n",
              " 1,\n",
              " 1,\n",
              " 1,\n",
              " 1,\n",
              " 1,\n",
              " 1,\n",
              " 1,\n",
              " 1,\n",
              " 1,\n",
              " 1,\n",
              " 1,\n",
              " 0,\n",
              " 1,\n",
              " 1,\n",
              " 1,\n",
              " 0,\n",
              " 2,\n",
              " 1,\n",
              " 1,\n",
              " 1,\n",
              " 1,\n",
              " 1,\n",
              " 1,\n",
              " 1,\n",
              " 1,\n",
              " 1,\n",
              " 1,\n",
              " 2,\n",
              " 1,\n",
              " 1,\n",
              " 1,\n",
              " 1,\n",
              " 1,\n",
              " 1,\n",
              " 2,\n",
              " 1,\n",
              " 1,\n",
              " 1,\n",
              " 0,\n",
              " 1,\n",
              " 2,\n",
              " 0,\n",
              " 1,\n",
              " 2,\n",
              " 1,\n",
              " 1,\n",
              " 1,\n",
              " 0,\n",
              " 1,\n",
              " 1,\n",
              " 1,\n",
              " 1,\n",
              " 1,\n",
              " 1,\n",
              " 1,\n",
              " 1,\n",
              " 0,\n",
              " 1,\n",
              " 1,\n",
              " 1,\n",
              " 1,\n",
              " 1,\n",
              " 1,\n",
              " 2,\n",
              " 0,\n",
              " 2,\n",
              " 1,\n",
              " 1,\n",
              " 1,\n",
              " 1,\n",
              " 1,\n",
              " 1,\n",
              " 0,\n",
              " 2,\n",
              " 1,\n",
              " 1,\n",
              " 1,\n",
              " 1,\n",
              " 0,\n",
              " 1,\n",
              " 2,\n",
              " 1,\n",
              " 1,\n",
              " 1,\n",
              " 0,\n",
              " 1,\n",
              " 1,\n",
              " 1,\n",
              " 2,\n",
              " 1,\n",
              " 1,\n",
              " 2,\n",
              " 1,\n",
              " 1,\n",
              " 0,\n",
              " 1,\n",
              " 1,\n",
              " 1,\n",
              " 0,\n",
              " 1,\n",
              " 2,\n",
              " 1,\n",
              " 0,\n",
              " 1,\n",
              " 0,\n",
              " 1,\n",
              " 2,\n",
              " 1,\n",
              " 1,\n",
              " 1,\n",
              " 1,\n",
              " 1,\n",
              " 0,\n",
              " 1,\n",
              " 1,\n",
              " 1,\n",
              " 0,\n",
              " 1,\n",
              " 1,\n",
              " 1,\n",
              " 1,\n",
              " 1,\n",
              " 1,\n",
              " 2,\n",
              " 1,\n",
              " 2,\n",
              " 1,\n",
              " 1,\n",
              " 1,\n",
              " 1,\n",
              " 1,\n",
              " 1,\n",
              " 1,\n",
              " 1,\n",
              " 1,\n",
              " 1,\n",
              " 1,\n",
              " 1,\n",
              " 1,\n",
              " 2,\n",
              " 1,\n",
              " 1,\n",
              " 2,\n",
              " 1,\n",
              " 1,\n",
              " 2,\n",
              " 0,\n",
              " 1,\n",
              " 1,\n",
              " 2,\n",
              " 0,\n",
              " 1,\n",
              " 0,\n",
              " 1,\n",
              " 1,\n",
              " 1,\n",
              " 1,\n",
              " 1,\n",
              " 1,\n",
              " 1,\n",
              " 1,\n",
              " 0,\n",
              " 1,\n",
              " 1,\n",
              " 1,\n",
              " 2,\n",
              " 0,\n",
              " 1,\n",
              " 1,\n",
              " 1,\n",
              " 0,\n",
              " 1,\n",
              " 1,\n",
              " 1,\n",
              " 1,\n",
              " 1,\n",
              " 1,\n",
              " 0,\n",
              " 0,\n",
              " 1,\n",
              " 0,\n",
              " 2,\n",
              " 1,\n",
              " 1,\n",
              " 1,\n",
              " 1,\n",
              " 1,\n",
              " 2,\n",
              " 1,\n",
              " 0,\n",
              " 1,\n",
              " 2,\n",
              " 1,\n",
              " 1,\n",
              " 1,\n",
              " 1,\n",
              " 1,\n",
              " 1,\n",
              " 0,\n",
              " 0,\n",
              " 1,\n",
              " 0,\n",
              " 0,\n",
              " 1,\n",
              " 0,\n",
              " 2,\n",
              " 1,\n",
              " 1,\n",
              " 1,\n",
              " 1,\n",
              " 1,\n",
              " 1,\n",
              " 0,\n",
              " 1,\n",
              " 1,\n",
              " 1,\n",
              " 1,\n",
              " 1,\n",
              " 1,\n",
              " 1,\n",
              " 1,\n",
              " 1,\n",
              " 0,\n",
              " 1,\n",
              " 1,\n",
              " 1,\n",
              " 1,\n",
              " 1,\n",
              " 1,\n",
              " 1,\n",
              " 2,\n",
              " 1,\n",
              " 1,\n",
              " 1,\n",
              " 1,\n",
              " 1,\n",
              " 1,\n",
              " 1,\n",
              " 0,\n",
              " 1,\n",
              " 1,\n",
              " 0,\n",
              " 1,\n",
              " 2,\n",
              " 2,\n",
              " 1,\n",
              " 1,\n",
              " 1,\n",
              " 1,\n",
              " 1,\n",
              " 1,\n",
              " 1,\n",
              " 1,\n",
              " 1,\n",
              " 1,\n",
              " 0,\n",
              " 1,\n",
              " 1,\n",
              " 1,\n",
              " 2,\n",
              " 0,\n",
              " 1,\n",
              " 1,\n",
              " 1,\n",
              " 1,\n",
              " 1,\n",
              " 0,\n",
              " 1,\n",
              " 0,\n",
              " 0,\n",
              " 1,\n",
              " 1,\n",
              " 1,\n",
              " 1,\n",
              " 1,\n",
              " 2,\n",
              " 1,\n",
              " 0,\n",
              " 1,\n",
              " 1,\n",
              " 1,\n",
              " 1,\n",
              " 0,\n",
              " 0,\n",
              " 2,\n",
              " 1,\n",
              " 1,\n",
              " 0,\n",
              " 1,\n",
              " 1,\n",
              " 1,\n",
              " 1,\n",
              " 1,\n",
              " 1,\n",
              " 1,\n",
              " 0,\n",
              " 1,\n",
              " 1,\n",
              " 1,\n",
              " 0,\n",
              " 1,\n",
              " 0,\n",
              " 0,\n",
              " 1,\n",
              " 1,\n",
              " 1,\n",
              " 1,\n",
              " 0,\n",
              " 1,\n",
              " 2,\n",
              " 0,\n",
              " 1,\n",
              " 1,\n",
              " 1,\n",
              " 1,\n",
              " 1,\n",
              " 1,\n",
              " 1,\n",
              " 1,\n",
              " 1,\n",
              " 1,\n",
              " 1,\n",
              " 1,\n",
              " 1,\n",
              " 1,\n",
              " 1,\n",
              " 2,\n",
              " 1,\n",
              " 0,\n",
              " 1,\n",
              " 1,\n",
              " 1,\n",
              " 1,\n",
              " 1,\n",
              " 1,\n",
              " 2,\n",
              " 1,\n",
              " 1,\n",
              " 1,\n",
              " 1,\n",
              " 1,\n",
              " 1,\n",
              " 0,\n",
              " 1,\n",
              " 1,\n",
              " 1,\n",
              " 1,\n",
              " 1,\n",
              " 1,\n",
              " 1,\n",
              " 1,\n",
              " 1,\n",
              " 1,\n",
              " 1,\n",
              " 1,\n",
              " 2,\n",
              " 2,\n",
              " 1,\n",
              " 1,\n",
              " 1,\n",
              " 1,\n",
              " 1,\n",
              " 2,\n",
              " 1,\n",
              " 1,\n",
              " 2,\n",
              " 0,\n",
              " 1,\n",
              " 2,\n",
              " 1,\n",
              " 1,\n",
              " 1,\n",
              " 0,\n",
              " 1,\n",
              " 1,\n",
              " 2,\n",
              " 1,\n",
              " 1,\n",
              " 1,\n",
              " 1,\n",
              " 1,\n",
              " 1,\n",
              " 1,\n",
              " 1,\n",
              " 1,\n",
              " 1,\n",
              " 1,\n",
              " 1,\n",
              " 1,\n",
              " 1,\n",
              " 1,\n",
              " 1,\n",
              " 1,\n",
              " 1,\n",
              " 1,\n",
              " 1,\n",
              " 1,\n",
              " 1,\n",
              " 0,\n",
              " 1,\n",
              " 1,\n",
              " 1,\n",
              " 1,\n",
              " 1,\n",
              " 1,\n",
              " 1,\n",
              " 0,\n",
              " 1,\n",
              " 1,\n",
              " 1,\n",
              " 1,\n",
              " 0,\n",
              " 1,\n",
              " 1,\n",
              " 1,\n",
              " 1,\n",
              " 1,\n",
              " 2,\n",
              " 1,\n",
              " 1,\n",
              " 1,\n",
              " 1,\n",
              " 0,\n",
              " 1,\n",
              " 1,\n",
              " 1,\n",
              " 1,\n",
              " 0,\n",
              " 1,\n",
              " 2,\n",
              " 1,\n",
              " 1,\n",
              " 1,\n",
              " 0,\n",
              " 2,\n",
              " 2,\n",
              " 0,\n",
              " 1,\n",
              " 1,\n",
              " 2,\n",
              " 0,\n",
              " 1,\n",
              " 1,\n",
              " 1,\n",
              " 2,\n",
              " 0,\n",
              " 1,\n",
              " 1,\n",
              " 1,\n",
              " 1,\n",
              " 1,\n",
              " 0,\n",
              " 1,\n",
              " 1,\n",
              " 2,\n",
              " 1,\n",
              " 1,\n",
              " 1,\n",
              " 1,\n",
              " 1,\n",
              " 1,\n",
              " 1,\n",
              " 0,\n",
              " 1,\n",
              " 1,\n",
              " 1,\n",
              " 1,\n",
              " 1,\n",
              " 1,\n",
              " 1,\n",
              " 1,\n",
              " 1,\n",
              " 2,\n",
              " 0,\n",
              " 2,\n",
              " 1,\n",
              " 1,\n",
              " 0,\n",
              " 1,\n",
              " 1,\n",
              " 1,\n",
              " 1,\n",
              " 1,\n",
              " 1,\n",
              " 0,\n",
              " 1,\n",
              " 0,\n",
              " 1,\n",
              " 1,\n",
              " 1,\n",
              " 1,\n",
              " 1,\n",
              " 1,\n",
              " 1,\n",
              " 1,\n",
              " 1,\n",
              " 1,\n",
              " 0,\n",
              " 1,\n",
              " 0,\n",
              " 2,\n",
              " 1,\n",
              " 2,\n",
              " 1,\n",
              " 1,\n",
              " 1,\n",
              " 1,\n",
              " 1,\n",
              " 2,\n",
              " 1,\n",
              " 1,\n",
              " 1,\n",
              " 1,\n",
              " 1,\n",
              " 1,\n",
              " 1,\n",
              " 2,\n",
              " 0,\n",
              " 1,\n",
              " 1,\n",
              " 1,\n",
              " 1,\n",
              " 1,\n",
              " 1,\n",
              " 1,\n",
              " 1,\n",
              " 1,\n",
              " 1,\n",
              " 1,\n",
              " 2,\n",
              " 1,\n",
              " 0,\n",
              " 1,\n",
              " 1,\n",
              " 0,\n",
              " 0,\n",
              " 1,\n",
              " 1,\n",
              " 1,\n",
              " 0,\n",
              " 0,\n",
              " 1,\n",
              " 2,\n",
              " 1,\n",
              " 1,\n",
              " 1,\n",
              " 2,\n",
              " 0,\n",
              " 1,\n",
              " 2,\n",
              " 1,\n",
              " 1,\n",
              " 0,\n",
              " 1,\n",
              " 1,\n",
              " 1,\n",
              " 1,\n",
              " 1,\n",
              " 1,\n",
              " 1,\n",
              " 1,\n",
              " 1,\n",
              " 1,\n",
              " 1,\n",
              " 0,\n",
              " 1,\n",
              " 1,\n",
              " 0,\n",
              " 1,\n",
              " 1,\n",
              " 1,\n",
              " 1,\n",
              " 1,\n",
              " 1,\n",
              " 1,\n",
              " 1,\n",
              " 1,\n",
              " 1,\n",
              " 1,\n",
              " 1,\n",
              " 1,\n",
              " 1,\n",
              " 1,\n",
              " 1,\n",
              " 1,\n",
              " 1,\n",
              " 1,\n",
              " 1,\n",
              " 1,\n",
              " 1,\n",
              " 1,\n",
              " 1,\n",
              " 1,\n",
              " 1,\n",
              " 1,\n",
              " 2,\n",
              " 1,\n",
              " 1,\n",
              " 1,\n",
              " 1,\n",
              " 1,\n",
              " 1,\n",
              " 1,\n",
              " 1,\n",
              " 0,\n",
              " 1,\n",
              " 1,\n",
              " 1,\n",
              " 1,\n",
              " 0,\n",
              " 2,\n",
              " 0,\n",
              " 1,\n",
              " 1,\n",
              " 0,\n",
              " 1,\n",
              " 1,\n",
              " 1,\n",
              " 1,\n",
              " 1,\n",
              " 1,\n",
              " 1,\n",
              " 1,\n",
              " 1,\n",
              " 1,\n",
              " 0,\n",
              " 2,\n",
              " 1,\n",
              " 2,\n",
              " 1,\n",
              " 1,\n",
              " 1,\n",
              " 1,\n",
              " 1,\n",
              " 1,\n",
              " 1,\n",
              " 1,\n",
              " 1,\n",
              " 1,\n",
              " 1,\n",
              " 1,\n",
              " 1,\n",
              " 1,\n",
              " 1,\n",
              " 2,\n",
              " 2,\n",
              " 2,\n",
              " 1,\n",
              " 0,\n",
              " 1,\n",
              " 1,\n",
              " 1,\n",
              " 2,\n",
              " 2,\n",
              " 1,\n",
              " 2,\n",
              " 1,\n",
              " 1,\n",
              " 1,\n",
              " 1,\n",
              " 0,\n",
              " 2,\n",
              " 0,\n",
              " 0,\n",
              " 0,\n",
              " 1,\n",
              " 1,\n",
              " 1,\n",
              " 1,\n",
              " 1,\n",
              " 1,\n",
              " 1,\n",
              " 1,\n",
              " 2,\n",
              " 2,\n",
              " 1,\n",
              " ...]"
            ]
          },
          "metadata": {},
          "execution_count": 17
        }
      ],
      "source": [
        "#check the classes \n",
        "y"
      ]
    },
    {
      "cell_type": "code",
      "execution_count": 18,
      "metadata": {
        "id": "mU0-2fkWzZSc"
      },
      "outputs": [],
      "source": [
        "# define the function that convert words into charecters  (example hello = {h, e,l,l,o} )\n",
        "def word_divider(words):\n",
        "    char=[]\n",
        "    for i in words:\n",
        "        char.append(i)\n",
        "    return char"
      ]
    },
    {
      "cell_type": "code",
      "execution_count": 19,
      "metadata": {
        "id": "IE5X3TV6zbd9",
        "colab": {
          "base_uri": "https://localhost:8080/"
        },
        "outputId": "a0817750-8951-49ee-e0d0-46861eb49bf7"
      },
      "outputs": [
        {
          "output_type": "execute_result",
          "data": {
            "text/plain": [
              "['a', 's', 'd', 'f', '5', '7']"
            ]
          },
          "metadata": {},
          "execution_count": 19
        }
      ],
      "source": [
        "#test the function\n",
        "word_divider('asdf57')"
      ]
    },
    {
      "cell_type": "markdown",
      "metadata": {
        "id": "ARnZhGmNznhc"
      },
      "source": [
        "import TF-IDF vectorizer to convert String data into numerical data"
      ]
    },
    {
      "cell_type": "code",
      "execution_count": 20,
      "metadata": {
        "id": "e6s8fCpqzeXF"
      },
      "outputs": [],
      "source": [
        "from sklearn.feature_extraction.text import TfidfVectorizer"
      ]
    },
    {
      "cell_type": "code",
      "execution_count": 21,
      "metadata": {
        "id": "0u_k99RU-K7o"
      },
      "outputs": [],
      "source": [
        "from nltk.tokenize import word_tokenize\n",
        "\n",
        "def createTokens(text):\n",
        "    tokens = word_tokenize(text)\n",
        "    return tokens"
      ]
    },
    {
      "cell_type": "code",
      "execution_count": 22,
      "metadata": {
        "id": "yUrrJBh-hZiG"
      },
      "outputs": [],
      "source": [
        "vectorizer = TfidfVectorizer(tokenizer=createTokens)"
      ]
    },
    {
      "cell_type": "code",
      "execution_count": 22,
      "metadata": {
        "id": "qEbuoeR_-JnY"
      },
      "outputs": [],
      "source": []
    },
    {
      "cell_type": "code",
      "execution_count": 22,
      "metadata": {
        "id": "uhJVsjxmMNQm"
      },
      "outputs": [],
      "source": []
    },
    {
      "cell_type": "code",
      "execution_count": 23,
      "metadata": {
        "id": "sK9JiHQpMNk0"
      },
      "outputs": [],
      "source": [
        "from sklearn.feature_extraction.text import CountVectorizer\n",
        "from sklearn.feature_extraction.text import TfidfVectorizer"
      ]
    },
    {
      "cell_type": "code",
      "execution_count": 24,
      "metadata": {
        "id": "yO5DS8Ou5sWP"
      },
      "outputs": [],
      "source": [
        "vectorizer = CountVectorizer()"
      ]
    },
    {
      "cell_type": "code",
      "execution_count": 25,
      "metadata": {
        "id": "WrS4vybXzqIm"
      },
      "outputs": [],
      "source": [
        "vectorizer=TfidfVectorizer(tokenizer=word_divider)\n"
      ]
    },
    {
      "cell_type": "code",
      "execution_count": 26,
      "metadata": {
        "id": "QvqRkNHAzt5n",
        "colab": {
          "base_uri": "https://localhost:8080/"
        },
        "outputId": "3b5424fe-cf87-4526-c6d4-7b9011503b9f"
      },
      "outputs": [
        {
          "output_type": "stream",
          "name": "stderr",
          "text": [
            "/usr/local/lib/python3.10/dist-packages/sklearn/feature_extraction/text.py:528: UserWarning: The parameter 'token_pattern' will not be used since 'tokenizer' is not None'\n",
            "  warnings.warn(\n"
          ]
        }
      ],
      "source": [
        "X=vectorizer.fit_transform(x)"
      ]
    },
    {
      "cell_type": "code",
      "execution_count": 27,
      "metadata": {
        "id": "321r_xz8zwFc",
        "colab": {
          "base_uri": "https://localhost:8080/"
        },
        "outputId": "35c9bba5-a43e-4e74-8404-855f9417a9e6"
      },
      "outputs": [
        {
          "output_type": "execute_result",
          "data": {
            "text/plain": [
              "(50000, 77)"
            ]
          },
          "metadata": {},
          "execution_count": 27
        }
      ],
      "source": [
        "X.shape"
      ]
    },
    {
      "cell_type": "code",
      "execution_count": 28,
      "metadata": {
        "id": "CwuLvuDy4EfN",
        "colab": {
          "base_uri": "https://localhost:8080/"
        },
        "outputId": "10e0adfc-936a-44b1-9b31-d1e8eb4a5564"
      },
      "outputs": [
        {
          "output_type": "execute_result",
          "data": {
            "text/plain": [
              "{'k': 50,\n",
              " 'z': 65,\n",
              " 'd': 43,\n",
              " 'e': 44,\n",
              " '5': 23,\n",
              " '7': 25,\n",
              " 'i': 48,\n",
              " 'n': 53,\n",
              " 'o': 54,\n",
              " '3': 21,\n",
              " '4': 22,\n",
              " 'm': 52,\n",
              " 'g': 46,\n",
              " 'y': 64,\n",
              " '1': 19,\n",
              " '2': 20,\n",
              " 'l': 51,\n",
              " 'a': 40,\n",
              " 'b': 41,\n",
              " 'r': 57,\n",
              " 'h': 47,\n",
              " 'v': 61,\n",
              " 's': 58,\n",
              " 'u': 60,\n",
              " '9': 27,\n",
              " '0': 18,\n",
              " '8': 26,\n",
              " '6': 24,\n",
              " 't': 59,\n",
              " 'j': 49,\n",
              " 'w': 62,\n",
              " 'q': 56,\n",
              " 'p': 55,\n",
              " 'f': 45,\n",
              " 'c': 42,\n",
              " '-': 15,\n",
              " '@': 33,\n",
              " 'x': 63,\n",
              " '>': 31,\n",
              " '!': 5,\n",
              " '.': 16,\n",
              " '&': 10,\n",
              " '?': 32,\n",
              " '<': 29,\n",
              " '_': 38,\n",
              " ' ': 4,\n",
              " '\"': 6,\n",
              " '~': 68,\n",
              " '+': 14,\n",
              " '^': 37,\n",
              " '/': 17,\n",
              " '$': 8,\n",
              " ')': 12,\n",
              " '±': 69,\n",
              " '#': 7,\n",
              " 'ú': 75,\n",
              " '*': 13,\n",
              " '{': 66,\n",
              " '}': 67,\n",
              " '%': 9,\n",
              " '`': 39,\n",
              " '=': 30,\n",
              " 'ô': 73,\n",
              " '\\\\': 35,\n",
              " 'þ': 76,\n",
              " 'ó': 72,\n",
              " ';': 28,\n",
              " '³': 70,\n",
              " '\\x1c': 3,\n",
              " '(': 11,\n",
              " '\\x19': 1,\n",
              " '\\x05': 0,\n",
              " '\\x1b': 2,\n",
              " '[': 34,\n",
              " ']': 36,\n",
              " 'ä': 71,\n",
              " 'õ': 74}"
            ]
          },
          "metadata": {},
          "execution_count": 28
        }
      ],
      "source": [
        "vectorizer.vocabulary_"
      ]
    },
    {
      "cell_type": "code",
      "execution_count": 29,
      "metadata": {
        "id": "Qz7ce4uuWfys"
      },
      "outputs": [],
      "source": [
        "vectorizer.vocabulary_\n",
        "try:\n",
        "  vectorizer.vocabulary_\n",
        "except:\n",
        "  AttributeError\n"
      ]
    },
    {
      "cell_type": "code",
      "execution_count": 30,
      "metadata": {
        "id": "MON4iFAfz5Fd",
        "colab": {
          "base_uri": "https://localhost:8080/"
        },
        "outputId": "ee54fc3e-f833-4283-e91c-844fa83ff2a0"
      },
      "outputs": [
        {
          "output_type": "execute_result",
          "data": {
            "text/plain": [
              "<1x77 sparse matrix of type '<class 'numpy.float64'>'\n",
              "\twith 6 stored elements in Compressed Sparse Row format>"
            ]
          },
          "metadata": {},
          "execution_count": 30
        }
      ],
      "source": [
        "first_document_vector=X[0]\n",
        "first_document_vector"
      ]
    },
    {
      "cell_type": "code",
      "execution_count": 31,
      "metadata": {
        "id": "D0nijxJyz710",
        "colab": {
          "base_uri": "https://localhost:8080/"
        },
        "outputId": "25d136cf-182e-4c01-f5ae-e2d8fc63cf89"
      },
      "outputs": [
        {
          "output_type": "execute_result",
          "data": {
            "text/plain": [
              "matrix([[0.        ],\n",
              "        [0.        ],\n",
              "        [0.        ],\n",
              "        [0.        ],\n",
              "        [0.        ],\n",
              "        [0.        ],\n",
              "        [0.        ],\n",
              "        [0.        ],\n",
              "        [0.        ],\n",
              "        [0.        ],\n",
              "        [0.        ],\n",
              "        [0.        ],\n",
              "        [0.        ],\n",
              "        [0.        ],\n",
              "        [0.        ],\n",
              "        [0.        ],\n",
              "        [0.        ],\n",
              "        [0.        ],\n",
              "        [0.        ],\n",
              "        [0.        ],\n",
              "        [0.        ],\n",
              "        [0.        ],\n",
              "        [0.        ],\n",
              "        [0.56771447],\n",
              "        [0.        ],\n",
              "        [0.59128611],\n",
              "        [0.        ],\n",
              "        [0.        ],\n",
              "        [0.        ],\n",
              "        [0.        ],\n",
              "        [0.        ],\n",
              "        [0.        ],\n",
              "        [0.        ],\n",
              "        [0.        ],\n",
              "        [0.        ],\n",
              "        [0.        ],\n",
              "        [0.        ],\n",
              "        [0.        ],\n",
              "        [0.        ],\n",
              "        [0.        ],\n",
              "        [0.        ],\n",
              "        [0.        ],\n",
              "        [0.        ],\n",
              "        [0.28579557],\n",
              "        [0.21877852],\n",
              "        [0.        ],\n",
              "        [0.        ],\n",
              "        [0.        ],\n",
              "        [0.        ],\n",
              "        [0.        ],\n",
              "        [0.29272197],\n",
              "        [0.        ],\n",
              "        [0.        ],\n",
              "        [0.        ],\n",
              "        [0.        ],\n",
              "        [0.        ],\n",
              "        [0.        ],\n",
              "        [0.        ],\n",
              "        [0.        ],\n",
              "        [0.        ],\n",
              "        [0.        ],\n",
              "        [0.        ],\n",
              "        [0.        ],\n",
              "        [0.        ],\n",
              "        [0.        ],\n",
              "        [0.33593409],\n",
              "        [0.        ],\n",
              "        [0.        ],\n",
              "        [0.        ],\n",
              "        [0.        ],\n",
              "        [0.        ],\n",
              "        [0.        ],\n",
              "        [0.        ],\n",
              "        [0.        ],\n",
              "        [0.        ],\n",
              "        [0.        ],\n",
              "        [0.        ]])"
            ]
          },
          "metadata": {},
          "execution_count": 31
        }
      ],
      "source": [
        "first_document_vector.T.todense()"
      ]
    },
    {
      "cell_type": "code",
      "execution_count": 32,
      "metadata": {
        "id": "oNOhdExnz_MU"
      },
      "outputs": [],
      "source": [
        "df=pd.DataFrame(first_document_vector.T.todense(),index=vectorizer.vocabulary_,columns=['TF-IDE'])"
      ]
    },
    {
      "cell_type": "code",
      "execution_count": 33,
      "metadata": {
        "id": "MdxOAr-H0B2U",
        "colab": {
          "base_uri": "https://localhost:8080/",
          "height": 0
        },
        "outputId": "bba07a14-bb78-4599-bf1a-94ac8a44f12d"
      },
      "outputs": [
        {
          "output_type": "execute_result",
          "data": {
            "text/plain": [
              "      TF-IDE\n",
              "0   0.591286\n",
              "u   0.567714\n",
              "ó   0.335934\n",
              "/   0.292722\n",
              "<   0.285796\n",
              "..       ...\n",
              "8   0.000000\n",
              "9   0.000000\n",
              "s   0.000000\n",
              "v   0.000000\n",
              "õ   0.000000\n",
              "\n",
              "[77 rows x 1 columns]"
            ],
            "text/html": [
              "\n",
              "  <div id=\"df-5d8ec1d5-623a-440e-93ed-f7601eb92e54\">\n",
              "    <div class=\"colab-df-container\">\n",
              "      <div>\n",
              "<style scoped>\n",
              "    .dataframe tbody tr th:only-of-type {\n",
              "        vertical-align: middle;\n",
              "    }\n",
              "\n",
              "    .dataframe tbody tr th {\n",
              "        vertical-align: top;\n",
              "    }\n",
              "\n",
              "    .dataframe thead th {\n",
              "        text-align: right;\n",
              "    }\n",
              "</style>\n",
              "<table border=\"1\" class=\"dataframe\">\n",
              "  <thead>\n",
              "    <tr style=\"text-align: right;\">\n",
              "      <th></th>\n",
              "      <th>TF-IDE</th>\n",
              "    </tr>\n",
              "  </thead>\n",
              "  <tbody>\n",
              "    <tr>\n",
              "      <th>0</th>\n",
              "      <td>0.591286</td>\n",
              "    </tr>\n",
              "    <tr>\n",
              "      <th>u</th>\n",
              "      <td>0.567714</td>\n",
              "    </tr>\n",
              "    <tr>\n",
              "      <th>ó</th>\n",
              "      <td>0.335934</td>\n",
              "    </tr>\n",
              "    <tr>\n",
              "      <th>/</th>\n",
              "      <td>0.292722</td>\n",
              "    </tr>\n",
              "    <tr>\n",
              "      <th>&lt;</th>\n",
              "      <td>0.285796</td>\n",
              "    </tr>\n",
              "    <tr>\n",
              "      <th>...</th>\n",
              "      <td>...</td>\n",
              "    </tr>\n",
              "    <tr>\n",
              "      <th>8</th>\n",
              "      <td>0.000000</td>\n",
              "    </tr>\n",
              "    <tr>\n",
              "      <th>9</th>\n",
              "      <td>0.000000</td>\n",
              "    </tr>\n",
              "    <tr>\n",
              "      <th>s</th>\n",
              "      <td>0.000000</td>\n",
              "    </tr>\n",
              "    <tr>\n",
              "      <th>v</th>\n",
              "      <td>0.000000</td>\n",
              "    </tr>\n",
              "    <tr>\n",
              "      <th>õ</th>\n",
              "      <td>0.000000</td>\n",
              "    </tr>\n",
              "  </tbody>\n",
              "</table>\n",
              "<p>77 rows × 1 columns</p>\n",
              "</div>\n",
              "      <button class=\"colab-df-convert\" onclick=\"convertToInteractive('df-5d8ec1d5-623a-440e-93ed-f7601eb92e54')\"\n",
              "              title=\"Convert this dataframe to an interactive table.\"\n",
              "              style=\"display:none;\">\n",
              "        \n",
              "  <svg xmlns=\"http://www.w3.org/2000/svg\" height=\"24px\"viewBox=\"0 0 24 24\"\n",
              "       width=\"24px\">\n",
              "    <path d=\"M0 0h24v24H0V0z\" fill=\"none\"/>\n",
              "    <path d=\"M18.56 5.44l.94 2.06.94-2.06 2.06-.94-2.06-.94-.94-2.06-.94 2.06-2.06.94zm-11 1L8.5 8.5l.94-2.06 2.06-.94-2.06-.94L8.5 2.5l-.94 2.06-2.06.94zm10 10l.94 2.06.94-2.06 2.06-.94-2.06-.94-.94-2.06-.94 2.06-2.06.94z\"/><path d=\"M17.41 7.96l-1.37-1.37c-.4-.4-.92-.59-1.43-.59-.52 0-1.04.2-1.43.59L10.3 9.45l-7.72 7.72c-.78.78-.78 2.05 0 2.83L4 21.41c.39.39.9.59 1.41.59.51 0 1.02-.2 1.41-.59l7.78-7.78 2.81-2.81c.8-.78.8-2.07 0-2.86zM5.41 20L4 18.59l7.72-7.72 1.47 1.35L5.41 20z\"/>\n",
              "  </svg>\n",
              "      </button>\n",
              "      \n",
              "  <style>\n",
              "    .colab-df-container {\n",
              "      display:flex;\n",
              "      flex-wrap:wrap;\n",
              "      gap: 12px;\n",
              "    }\n",
              "\n",
              "    .colab-df-convert {\n",
              "      background-color: #E8F0FE;\n",
              "      border: none;\n",
              "      border-radius: 50%;\n",
              "      cursor: pointer;\n",
              "      display: none;\n",
              "      fill: #1967D2;\n",
              "      height: 32px;\n",
              "      padding: 0 0 0 0;\n",
              "      width: 32px;\n",
              "    }\n",
              "\n",
              "    .colab-df-convert:hover {\n",
              "      background-color: #E2EBFA;\n",
              "      box-shadow: 0px 1px 2px rgba(60, 64, 67, 0.3), 0px 1px 3px 1px rgba(60, 64, 67, 0.15);\n",
              "      fill: #174EA6;\n",
              "    }\n",
              "\n",
              "    [theme=dark] .colab-df-convert {\n",
              "      background-color: #3B4455;\n",
              "      fill: #D2E3FC;\n",
              "    }\n",
              "\n",
              "    [theme=dark] .colab-df-convert:hover {\n",
              "      background-color: #434B5C;\n",
              "      box-shadow: 0px 1px 3px 1px rgba(0, 0, 0, 0.15);\n",
              "      filter: drop-shadow(0px 1px 2px rgba(0, 0, 0, 0.3));\n",
              "      fill: #FFFFFF;\n",
              "    }\n",
              "  </style>\n",
              "\n",
              "      <script>\n",
              "        const buttonEl =\n",
              "          document.querySelector('#df-5d8ec1d5-623a-440e-93ed-f7601eb92e54 button.colab-df-convert');\n",
              "        buttonEl.style.display =\n",
              "          google.colab.kernel.accessAllowed ? 'block' : 'none';\n",
              "\n",
              "        async function convertToInteractive(key) {\n",
              "          const element = document.querySelector('#df-5d8ec1d5-623a-440e-93ed-f7601eb92e54');\n",
              "          const dataTable =\n",
              "            await google.colab.kernel.invokeFunction('convertToInteractive',\n",
              "                                                     [key], {});\n",
              "          if (!dataTable) return;\n",
              "\n",
              "          const docLinkHtml = 'Like what you see? Visit the ' +\n",
              "            '<a target=\"_blank\" href=https://colab.research.google.com/notebooks/data_table.ipynb>data table notebook</a>'\n",
              "            + ' to learn more about interactive tables.';\n",
              "          element.innerHTML = '';\n",
              "          dataTable['output_type'] = 'display_data';\n",
              "          await google.colab.output.renderOutput(dataTable, element);\n",
              "          const docLink = document.createElement('div');\n",
              "          docLink.innerHTML = docLinkHtml;\n",
              "          element.appendChild(docLink);\n",
              "        }\n",
              "      </script>\n",
              "    </div>\n",
              "  </div>\n",
              "  "
            ]
          },
          "metadata": {},
          "execution_count": 33
        }
      ],
      "source": [
        "df.sort_values(by=['TF-IDE'],ascending=False)"
      ]
    },
    {
      "cell_type": "code",
      "execution_count": 34,
      "metadata": {
        "id": "72AFaIwE0B5v"
      },
      "outputs": [],
      "source": [
        "# devide data into test and training data\n",
        "\n",
        "from sklearn.model_selection import train_test_split"
      ]
    },
    {
      "cell_type": "code",
      "execution_count": 35,
      "metadata": {
        "id": "RAnOihGV0B8z"
      },
      "outputs": [],
      "source": [
        "#training data = 80%     --- test data = 20%\n",
        "X_train,X_test,y_train,y_test=train_test_split(X,y,test_size=0.2)"
      ]
    },
    {
      "cell_type": "code",
      "execution_count": 36,
      "metadata": {
        "id": "HB7Rzhit0Ik8",
        "colab": {
          "base_uri": "https://localhost:8080/"
        },
        "outputId": "8f449c47-625d-40b5-bd23-4921a8509f45"
      },
      "outputs": [
        {
          "output_type": "execute_result",
          "data": {
            "text/plain": [
              "(40000, 77)"
            ]
          },
          "metadata": {},
          "execution_count": 36
        }
      ],
      "source": [
        "X_train.shape"
      ]
    },
    {
      "cell_type": "code",
      "execution_count": 37,
      "metadata": {
        "id": "b36LkzEXxsdx",
        "colab": {
          "base_uri": "https://localhost:8080/"
        },
        "outputId": "ce9e5126-fc42-4f28-fbb2-f051c459fa6c"
      },
      "outputs": [
        {
          "output_type": "execute_result",
          "data": {
            "text/plain": [
              "(10000, 77)"
            ]
          },
          "metadata": {},
          "execution_count": 37
        }
      ],
      "source": [
        "X_test.shape"
      ]
    },
    {
      "cell_type": "markdown",
      "metadata": {
        "id": "pTaboxAH0MPI"
      },
      "source": [
        "# **Machine learning models**"
      ]
    },
    {
      "cell_type": "markdown",
      "source": [
        "# **Random Forest**"
      ],
      "metadata": {
        "id": "DV8g9etP9qx0"
      }
    },
    {
      "cell_type": "code",
      "source": [
        "from sklearn.ensemble import RandomForestClassifier"
      ],
      "metadata": {
        "id": "3emhKbGP9rtx"
      },
      "execution_count": 38,
      "outputs": []
    },
    {
      "cell_type": "code",
      "source": [
        "# creat the first model (random forest model )\n",
        "rn=RandomForestClassifier(n_estimators=8,criterion='entropy')"
      ],
      "metadata": {
        "id": "nE6SZBTe9vN3"
      },
      "execution_count": 39,
      "outputs": []
    },
    {
      "cell_type": "code",
      "source": [
        "#train the model 1\n",
        "rn.fit(X_train,y_train)"
      ],
      "metadata": {
        "colab": {
          "base_uri": "https://localhost:8080/",
          "height": 74
        },
        "id": "dOdTE38f9vLd",
        "outputId": "3faf1bc3-e987-4967-9975-d1724a91acc4"
      },
      "execution_count": 40,
      "outputs": [
        {
          "output_type": "execute_result",
          "data": {
            "text/plain": [
              "RandomForestClassifier(criterion='entropy', n_estimators=8)"
            ],
            "text/html": [
              "<style>#sk-container-id-1 {color: black;background-color: white;}#sk-container-id-1 pre{padding: 0;}#sk-container-id-1 div.sk-toggleable {background-color: white;}#sk-container-id-1 label.sk-toggleable__label {cursor: pointer;display: block;width: 100%;margin-bottom: 0;padding: 0.3em;box-sizing: border-box;text-align: center;}#sk-container-id-1 label.sk-toggleable__label-arrow:before {content: \"▸\";float: left;margin-right: 0.25em;color: #696969;}#sk-container-id-1 label.sk-toggleable__label-arrow:hover:before {color: black;}#sk-container-id-1 div.sk-estimator:hover label.sk-toggleable__label-arrow:before {color: black;}#sk-container-id-1 div.sk-toggleable__content {max-height: 0;max-width: 0;overflow: hidden;text-align: left;background-color: #f0f8ff;}#sk-container-id-1 div.sk-toggleable__content pre {margin: 0.2em;color: black;border-radius: 0.25em;background-color: #f0f8ff;}#sk-container-id-1 input.sk-toggleable__control:checked~div.sk-toggleable__content {max-height: 200px;max-width: 100%;overflow: auto;}#sk-container-id-1 input.sk-toggleable__control:checked~label.sk-toggleable__label-arrow:before {content: \"▾\";}#sk-container-id-1 div.sk-estimator input.sk-toggleable__control:checked~label.sk-toggleable__label {background-color: #d4ebff;}#sk-container-id-1 div.sk-label input.sk-toggleable__control:checked~label.sk-toggleable__label {background-color: #d4ebff;}#sk-container-id-1 input.sk-hidden--visually {border: 0;clip: rect(1px 1px 1px 1px);clip: rect(1px, 1px, 1px, 1px);height: 1px;margin: -1px;overflow: hidden;padding: 0;position: absolute;width: 1px;}#sk-container-id-1 div.sk-estimator {font-family: monospace;background-color: #f0f8ff;border: 1px dotted black;border-radius: 0.25em;box-sizing: border-box;margin-bottom: 0.5em;}#sk-container-id-1 div.sk-estimator:hover {background-color: #d4ebff;}#sk-container-id-1 div.sk-parallel-item::after {content: \"\";width: 100%;border-bottom: 1px solid gray;flex-grow: 1;}#sk-container-id-1 div.sk-label:hover label.sk-toggleable__label {background-color: #d4ebff;}#sk-container-id-1 div.sk-serial::before {content: \"\";position: absolute;border-left: 1px solid gray;box-sizing: border-box;top: 0;bottom: 0;left: 50%;z-index: 0;}#sk-container-id-1 div.sk-serial {display: flex;flex-direction: column;align-items: center;background-color: white;padding-right: 0.2em;padding-left: 0.2em;position: relative;}#sk-container-id-1 div.sk-item {position: relative;z-index: 1;}#sk-container-id-1 div.sk-parallel {display: flex;align-items: stretch;justify-content: center;background-color: white;position: relative;}#sk-container-id-1 div.sk-item::before, #sk-container-id-1 div.sk-parallel-item::before {content: \"\";position: absolute;border-left: 1px solid gray;box-sizing: border-box;top: 0;bottom: 0;left: 50%;z-index: -1;}#sk-container-id-1 div.sk-parallel-item {display: flex;flex-direction: column;z-index: 1;position: relative;background-color: white;}#sk-container-id-1 div.sk-parallel-item:first-child::after {align-self: flex-end;width: 50%;}#sk-container-id-1 div.sk-parallel-item:last-child::after {align-self: flex-start;width: 50%;}#sk-container-id-1 div.sk-parallel-item:only-child::after {width: 0;}#sk-container-id-1 div.sk-dashed-wrapped {border: 1px dashed gray;margin: 0 0.4em 0.5em 0.4em;box-sizing: border-box;padding-bottom: 0.4em;background-color: white;}#sk-container-id-1 div.sk-label label {font-family: monospace;font-weight: bold;display: inline-block;line-height: 1.2em;}#sk-container-id-1 div.sk-label-container {text-align: center;}#sk-container-id-1 div.sk-container {/* jupyter's `normalize.less` sets `[hidden] { display: none; }` but bootstrap.min.css set `[hidden] { display: none !important; }` so we also need the `!important` here to be able to override the default hidden behavior on the sphinx rendered scikit-learn.org. See: https://github.com/scikit-learn/scikit-learn/issues/21755 */display: inline-block !important;position: relative;}#sk-container-id-1 div.sk-text-repr-fallback {display: none;}</style><div id=\"sk-container-id-1\" class=\"sk-top-container\"><div class=\"sk-text-repr-fallback\"><pre>RandomForestClassifier(criterion=&#x27;entropy&#x27;, n_estimators=8)</pre><b>In a Jupyter environment, please rerun this cell to show the HTML representation or trust the notebook. <br />On GitHub, the HTML representation is unable to render, please try loading this page with nbviewer.org.</b></div><div class=\"sk-container\" hidden><div class=\"sk-item\"><div class=\"sk-estimator sk-toggleable\"><input class=\"sk-toggleable__control sk-hidden--visually\" id=\"sk-estimator-id-1\" type=\"checkbox\" checked><label for=\"sk-estimator-id-1\" class=\"sk-toggleable__label sk-toggleable__label-arrow\">RandomForestClassifier</label><div class=\"sk-toggleable__content\"><pre>RandomForestClassifier(criterion=&#x27;entropy&#x27;, n_estimators=8)</pre></div></div></div></div></div>"
            ]
          },
          "metadata": {},
          "execution_count": 40
        }
      ]
    },
    {
      "cell_type": "code",
      "source": [
        "# test the test data using the created model\n",
        "y_pred=rn.predict(X_test)"
      ],
      "metadata": {
        "id": "U2mMkVQM9vI2"
      },
      "execution_count": 41,
      "outputs": []
    },
    {
      "cell_type": "code",
      "source": [
        "# predict on new data\n",
        "dt = np.array(['@kagglE29'])\n",
        "pred = vectorizer.transform(dt)\n",
        "print(rn.predict(pred))\n"
      ],
      "metadata": {
        "colab": {
          "base_uri": "https://localhost:8080/"
        },
        "id": "zpguXaDi9vGU",
        "outputId": "fd123795-8f4a-4063-87ac-009d2db579b8"
      },
      "execution_count": 42,
      "outputs": [
        {
          "output_type": "stream",
          "name": "stdout",
          "text": [
            "[1]\n"
          ]
        }
      ]
    },
    {
      "cell_type": "code",
      "source": [
        "def password_strength_RF(pw):\n",
        "    dt = np.array([pw])\n",
        "    pw = vectorizer.transform(dt)\n",
        "    strength = rn.predict(pw)\n",
        "    print(strength)\n"
      ],
      "metadata": {
        "id": "h9egc-g59vD5"
      },
      "execution_count": 43,
      "outputs": []
    },
    {
      "cell_type": "code",
      "source": [
        "password_strength_RF('@kagglE29')"
      ],
      "metadata": {
        "colab": {
          "base_uri": "https://localhost:8080/"
        },
        "id": "CHqmpLr_9u_E",
        "outputId": "5b84b94b-c238-4876-9a8f-9ae3798f8db5"
      },
      "execution_count": 44,
      "outputs": [
        {
          "output_type": "stream",
          "name": "stdout",
          "text": [
            "[1]\n"
          ]
        }
      ]
    },
    {
      "cell_type": "code",
      "source": [
        "!pip install --upgrade scikit-learn\n",
        "from sklearn.metrics import accuracy_score,confusion_matrix,classification_report"
      ],
      "metadata": {
        "colab": {
          "base_uri": "https://localhost:8080/"
        },
        "id": "mGCH9kap93UZ",
        "outputId": "e84a32bf-5844-46e7-a212-e4e51f71ca8d"
      },
      "execution_count": 45,
      "outputs": [
        {
          "output_type": "stream",
          "name": "stdout",
          "text": [
            "Looking in indexes: https://pypi.org/simple, https://us-python.pkg.dev/colab-wheels/public/simple/\n",
            "Requirement already satisfied: scikit-learn in /usr/local/lib/python3.10/dist-packages (1.2.2)\n",
            "Requirement already satisfied: numpy>=1.17.3 in /usr/local/lib/python3.10/dist-packages (from scikit-learn) (1.22.4)\n",
            "Requirement already satisfied: scipy>=1.3.2 in /usr/local/lib/python3.10/dist-packages (from scikit-learn) (1.10.1)\n",
            "Requirement already satisfied: threadpoolctl>=2.0.0 in /usr/local/lib/python3.10/dist-packages (from scikit-learn) (3.1.0)\n",
            "Requirement already satisfied: joblib>=1.1.1 in /usr/local/lib/python3.10/dist-packages (from scikit-learn) (1.2.0)\n"
          ]
        }
      ]
    },
    {
      "cell_type": "code",
      "source": [
        "# evalute how the created model work with the tested data\n",
        "from sklearn.metrics import confusion_matrix\n",
        "import matplotlib.pyplot as plt\n",
        "import seaborn as sns\n",
        "\n",
        "# Evaluate the model on the test data\n",
        "y_pred = rn.predict(X_test)\n",
        "\n",
        "# Calculate the confusion matrix\n",
        "cm = confusion_matrix(y_test, y_pred)\n",
        "\n",
        "# Plot the confusion matrix\n",
        "plt.figure(figsize=(8, 6))\n",
        "sns.heatmap(cm, annot=True, cmap=plt.cm.Blues, fmt='g')\n",
        "plt.title('Confusion Matrix')\n",
        "plt.xlabel('Predicted Label')\n",
        "plt.ylabel('True Label')\n",
        "plt.show()\n"
      ],
      "metadata": {
        "colab": {
          "base_uri": "https://localhost:8080/",
          "height": 564
        },
        "id": "CvOmBVlb93R9",
        "outputId": "3f2ebb9f-f579-40e2-d4ee-d48f428bcac9"
      },
      "execution_count": 46,
      "outputs": [
        {
          "output_type": "display_data",
          "data": {
            "text/plain": [
              "<Figure size 800x600 with 2 Axes>"
            ],
            "image/png": "[encoded data removed]"
          },
          "metadata": {}
        }
      ]
    },
    {
      "cell_type": "code",
      "source": [
        "print(classification_report(y_test,y_pred))"
      ],
      "metadata": {
        "colab": {
          "base_uri": "https://localhost:8080/"
        },
        "id": "nJ1U4aUP93PJ",
        "outputId": "00a99d5e-c508-478a-9df5-204bfa75d06b"
      },
      "execution_count": 47,
      "outputs": [
        {
          "output_type": "stream",
          "name": "stdout",
          "text": [
            "              precision    recall  f1-score   support\n",
            "\n",
            "           0       0.95      0.87      0.91      1331\n",
            "           1       0.96      0.99      0.98      7385\n",
            "           2       0.99      0.93      0.96      1284\n",
            "\n",
            "    accuracy                           0.97     10000\n",
            "   macro avg       0.97      0.93      0.95     10000\n",
            "weighted avg       0.97      0.97      0.96     10000\n",
            "\n"
          ]
        }
      ]
    },
    {
      "cell_type": "code",
      "source": [
        "rn_predict = rn.predict(X_test) #Predictions on Testing data\n",
        "print(rn_predict)"
      ],
      "metadata": {
        "colab": {
          "base_uri": "https://localhost:8080/"
        },
        "id": "wzB7HT0G93JU",
        "outputId": "ada68bd9-ba57-4da2-8562-7610f1e9f7bc"
      },
      "execution_count": 48,
      "outputs": [
        {
          "output_type": "stream",
          "name": "stdout",
          "text": [
            "[1 0 1 ... 2 1 1]\n"
          ]
        }
      ]
    },
    {
      "cell_type": "markdown",
      "metadata": {
        "id": "vMX0iqgu7u6_"
      },
      "source": [
        "# **Logistic Regression**"
      ]
    },
    {
      "cell_type": "code",
      "execution_count": 49,
      "metadata": {
        "id": "QK_Aps8S7__F"
      },
      "outputs": [],
      "source": [
        "from sklearn.linear_model import LogisticRegression"
      ]
    },
    {
      "cell_type": "code",
      "execution_count": 50,
      "metadata": {
        "id": "OOnyGEtS77SR"
      },
      "outputs": [],
      "source": [
        "# create the model2\n",
        "clf = LogisticRegression(random_state=0, solver='saga', multi_class='multinomial')"
      ]
    },
    {
      "cell_type": "code",
      "execution_count": 51,
      "metadata": {
        "colab": {
          "base_uri": "https://localhost:8080/",
          "height": 109
        },
        "id": "SpCE97ig8N7D",
        "outputId": "c568b842-ee53-4898-ff3e-cad743e24434"
      },
      "outputs": [
        {
          "output_type": "stream",
          "name": "stderr",
          "text": [
            "/usr/local/lib/python3.10/dist-packages/sklearn/linear_model/_sag.py:350: ConvergenceWarning: The max_iter was reached which means the coef_ did not converge\n",
            "  warnings.warn(\n"
          ]
        },
        {
          "output_type": "execute_result",
          "data": {
            "text/plain": [
              "LogisticRegression(multi_class='multinomial', random_state=0, solver='saga')"
            ],
            "text/html": [
              "<style>#sk-container-id-2 {color: black;background-color: white;}#sk-container-id-2 pre{padding: 0;}#sk-container-id-2 div.sk-toggleable {background-color: white;}#sk-container-id-2 label.sk-toggleable__label {cursor: pointer;display: block;width: 100%;margin-bottom: 0;padding: 0.3em;box-sizing: border-box;text-align: center;}#sk-container-id-2 label.sk-toggleable__label-arrow:before {content: \"▸\";float: left;margin-right: 0.25em;color: #696969;}#sk-container-id-2 label.sk-toggleable__label-arrow:hover:before {color: black;}#sk-container-id-2 div.sk-estimator:hover label.sk-toggleable__label-arrow:before {color: black;}#sk-container-id-2 div.sk-toggleable__content {max-height: 0;max-width: 0;overflow: hidden;text-align: left;background-color: #f0f8ff;}#sk-container-id-2 div.sk-toggleable__content pre {margin: 0.2em;color: black;border-radius: 0.25em;background-color: #f0f8ff;}#sk-container-id-2 input.sk-toggleable__control:checked~div.sk-toggleable__content {max-height: 200px;max-width: 100%;overflow: auto;}#sk-container-id-2 input.sk-toggleable__control:checked~label.sk-toggleable__label-arrow:before {content: \"▾\";}#sk-container-id-2 div.sk-estimator input.sk-toggleable__control:checked~label.sk-toggleable__label {background-color: #d4ebff;}#sk-container-id-2 div.sk-label input.sk-toggleable__control:checked~label.sk-toggleable__label {background-color: #d4ebff;}#sk-container-id-2 input.sk-hidden--visually {border: 0;clip: rect(1px 1px 1px 1px);clip: rect(1px, 1px, 1px, 1px);height: 1px;margin: -1px;overflow: hidden;padding: 0;position: absolute;width: 1px;}#sk-container-id-2 div.sk-estimator {font-family: monospace;background-color: #f0f8ff;border: 1px dotted black;border-radius: 0.25em;box-sizing: border-box;margin-bottom: 0.5em;}#sk-container-id-2 div.sk-estimator:hover {background-color: #d4ebff;}#sk-container-id-2 div.sk-parallel-item::after {content: \"\";width: 100%;border-bottom: 1px solid gray;flex-grow: 1;}#sk-container-id-2 div.sk-label:hover label.sk-toggleable__label {background-color: #d4ebff;}#sk-container-id-2 div.sk-serial::before {content: \"\";position: absolute;border-left: 1px solid gray;box-sizing: border-box;top: 0;bottom: 0;left: 50%;z-index: 0;}#sk-container-id-2 div.sk-serial {display: flex;flex-direction: column;align-items: center;background-color: white;padding-right: 0.2em;padding-left: 0.2em;position: relative;}#sk-container-id-2 div.sk-item {position: relative;z-index: 1;}#sk-container-id-2 div.sk-parallel {display: flex;align-items: stretch;justify-content: center;background-color: white;position: relative;}#sk-container-id-2 div.sk-item::before, #sk-container-id-2 div.sk-parallel-item::before {content: \"\";position: absolute;border-left: 1px solid gray;box-sizing: border-box;top: 0;bottom: 0;left: 50%;z-index: -1;}#sk-container-id-2 div.sk-parallel-item {display: flex;flex-direction: column;z-index: 1;position: relative;background-color: white;}#sk-container-id-2 div.sk-parallel-item:first-child::after {align-self: flex-end;width: 50%;}#sk-container-id-2 div.sk-parallel-item:last-child::after {align-self: flex-start;width: 50%;}#sk-container-id-2 div.sk-parallel-item:only-child::after {width: 0;}#sk-container-id-2 div.sk-dashed-wrapped {border: 1px dashed gray;margin: 0 0.4em 0.5em 0.4em;box-sizing: border-box;padding-bottom: 0.4em;background-color: white;}#sk-container-id-2 div.sk-label label {font-family: monospace;font-weight: bold;display: inline-block;line-height: 1.2em;}#sk-container-id-2 div.sk-label-container {text-align: center;}#sk-container-id-2 div.sk-container {/* jupyter's `normalize.less` sets `[hidden] { display: none; }` but bootstrap.min.css set `[hidden] { display: none !important; }` so we also need the `!important` here to be able to override the default hidden behavior on the sphinx rendered scikit-learn.org. See: https://github.com/scikit-learn/scikit-learn/issues/21755 */display: inline-block !important;position: relative;}#sk-container-id-2 div.sk-text-repr-fallback {display: none;}</style><div id=\"sk-container-id-2\" class=\"sk-top-container\"><div class=\"sk-text-repr-fallback\"><pre>LogisticRegression(multi_class=&#x27;multinomial&#x27;, random_state=0, solver=&#x27;saga&#x27;)</pre><b>In a Jupyter environment, please rerun this cell to show the HTML representation or trust the notebook. <br />On GitHub, the HTML representation is unable to render, please try loading this page with nbviewer.org.</b></div><div class=\"sk-container\" hidden><div class=\"sk-item\"><div class=\"sk-estimator sk-toggleable\"><input class=\"sk-toggleable__control sk-hidden--visually\" id=\"sk-estimator-id-2\" type=\"checkbox\" checked><label for=\"sk-estimator-id-2\" class=\"sk-toggleable__label sk-toggleable__label-arrow\">LogisticRegression</label><div class=\"sk-toggleable__content\"><pre>LogisticRegression(multi_class=&#x27;multinomial&#x27;, random_state=0, solver=&#x27;saga&#x27;)</pre></div></div></div></div></div>"
            ]
          },
          "metadata": {},
          "execution_count": 51
        }
      ],
      "source": [
        "#train the model 2 \n",
        "clf.fit(X_train, y_train)"
      ]
    },
    {
      "cell_type": "code",
      "execution_count": 52,
      "metadata": {
        "colab": {
          "base_uri": "https://localhost:8080/"
        },
        "id": "Tsy0FGUE8QvR",
        "outputId": "5f620d8b-dd6e-4f7b-e1cd-51e95e6630b4"
      },
      "outputs": [
        {
          "output_type": "execute_result",
          "data": {
            "text/plain": [
              "array([1, 1, 1, ..., 1, 1, 1])"
            ]
          },
          "metadata": {},
          "execution_count": 52
        }
      ],
      "source": [
        "# on X_test\n",
        "y_pred = clf.predict(X_test)\n",
        "y_pred"
      ]
    },
    {
      "cell_type": "code",
      "execution_count": 53,
      "metadata": {
        "colab": {
          "base_uri": "https://localhost:8080/",
          "height": 564
        },
        "id": "60CDl-fr8TeB",
        "outputId": "42573867-1443-4dfc-d5c7-a833926afea0"
      },
      "outputs": [
        {
          "output_type": "display_data",
          "data": {
            "text/plain": [
              "<Figure size 800x600 with 2 Axes>"
            ],
            "image/png": "[encoded data removed]"
          },
          "metadata": {}
        }
      ],
      "source": [
        "# evalute how the created model work with the tested data\n",
        "from sklearn.metrics import confusion_matrix\n",
        "import matplotlib.pyplot as plt\n",
        "import seaborn as sns\n",
        "\n",
        "# Evaluate the model on the test data\n",
        "y_pred = clf.predict(X_test)\n",
        "\n",
        "# Calculate the confusion matrix\n",
        "cm = confusion_matrix(y_test, y_pred)\n",
        "\n",
        "# Plot the confusion matrix\n",
        "plt.figure(figsize=(8, 6))\n",
        "sns.heatmap(cm, annot=True, cmap=plt.cm.Blues, fmt='g')\n",
        "plt.title('Confusion Matrix')\n",
        "plt.xlabel('Predicted Label')\n",
        "plt.ylabel('True Label')\n",
        "plt.show()\n"
      ]
    },
    {
      "cell_type": "code",
      "execution_count": 54,
      "metadata": {
        "colab": {
          "base_uri": "https://localhost:8080/"
        },
        "id": "kMlu36cl8sfe",
        "outputId": "38e8d229-2407-4153-a56d-269993ccf715"
      },
      "outputs": [
        {
          "output_type": "stream",
          "name": "stdout",
          "text": [
            "              precision    recall  f1-score   support\n",
            "\n",
            "           0       0.58      0.24      0.34      1331\n",
            "           1       0.83      0.95      0.88      7385\n",
            "           2       0.85      0.66      0.74      1284\n",
            "\n",
            "    accuracy                           0.82     10000\n",
            "   macro avg       0.75      0.61      0.65     10000\n",
            "weighted avg       0.80      0.82      0.79     10000\n",
            "\n"
          ]
        }
      ],
      "source": [
        "cr = classification_report(y_test, y_pred)\n",
        "print(cr)"
      ]
    },
    {
      "cell_type": "code",
      "execution_count": 55,
      "metadata": {
        "colab": {
          "base_uri": "https://localhost:8080/"
        },
        "id": "FdSbD8Ap8v7Z",
        "outputId": "1ec651f8-ff0f-4b90-8a89-c910be05c0be"
      },
      "outputs": [
        {
          "output_type": "stream",
          "name": "stdout",
          "text": [
            "[1]\n"
          ]
        }
      ],
      "source": [
        "# predict on new data\n",
        "dt = np.array(['@kagglE29'])\n",
        "pred = vectorizer.transform(dt)\n",
        "print(clf.predict(pred))"
      ]
    },
    {
      "cell_type": "code",
      "execution_count": 56,
      "metadata": {
        "id": "yujyuODt8_BX"
      },
      "outputs": [],
      "source": [
        "def password_strength_LR(pw):\n",
        "    dt = np.array([pw])\n",
        "    pw = vectorizer.transform(dt)\n",
        "    strength = clf.predict(pw)\n",
        "    print(strength)"
      ]
    },
    {
      "cell_type": "code",
      "execution_count": 57,
      "metadata": {
        "colab": {
          "base_uri": "https://localhost:8080/"
        },
        "id": "TAoUw7VD9IN3",
        "outputId": "c47ec268-37b6-4946-e2d4-67470237adc1"
      },
      "outputs": [
        {
          "output_type": "stream",
          "name": "stdout",
          "text": [
            "[1]\n"
          ]
        }
      ],
      "source": [
        "password_strength_LR('123')"
      ]
    },
    {
      "cell_type": "markdown",
      "metadata": {
        "id": "-_fzIS8RJGv-"
      },
      "source": [
        "# **Decission Tree**"
      ]
    },
    {
      "cell_type": "code",
      "execution_count": 58,
      "metadata": {
        "id": "T5-B0K-W_N-a"
      },
      "outputs": [],
      "source": [
        "from sklearn.tree import DecisionTreeClassifier"
      ]
    },
    {
      "cell_type": "code",
      "execution_count": 59,
      "metadata": {
        "id": "HnI1JLJrJKzz"
      },
      "outputs": [],
      "source": [
        "dt=DecisionTreeClassifier()"
      ]
    },
    {
      "cell_type": "code",
      "execution_count": 60,
      "metadata": {
        "id": "DGfvglfeJO32",
        "colab": {
          "base_uri": "https://localhost:8080/",
          "height": 74
        },
        "outputId": "5a5e1504-d6ae-4229-e99f-6ac69765eff9"
      },
      "outputs": [
        {
          "output_type": "execute_result",
          "data": {
            "text/plain": [
              "DecisionTreeClassifier()"
            ],
            "text/html": [
              "<style>#sk-container-id-3 {color: black;background-color: white;}#sk-container-id-3 pre{padding: 0;}#sk-container-id-3 div.sk-toggleable {background-color: white;}#sk-container-id-3 label.sk-toggleable__label {cursor: pointer;display: block;width: 100%;margin-bottom: 0;padding: 0.3em;box-sizing: border-box;text-align: center;}#sk-container-id-3 label.sk-toggleable__label-arrow:before {content: \"▸\";float: left;margin-right: 0.25em;color: #696969;}#sk-container-id-3 label.sk-toggleable__label-arrow:hover:before {color: black;}#sk-container-id-3 div.sk-estimator:hover label.sk-toggleable__label-arrow:before {color: black;}#sk-container-id-3 div.sk-toggleable__content {max-height: 0;max-width: 0;overflow: hidden;text-align: left;background-color: #f0f8ff;}#sk-container-id-3 div.sk-toggleable__content pre {margin: 0.2em;color: black;border-radius: 0.25em;background-color: #f0f8ff;}#sk-container-id-3 input.sk-toggleable__control:checked~div.sk-toggleable__content {max-height: 200px;max-width: 100%;overflow: auto;}#sk-container-id-3 input.sk-toggleable__control:checked~label.sk-toggleable__label-arrow:before {content: \"▾\";}#sk-container-id-3 div.sk-estimator input.sk-toggleable__control:checked~label.sk-toggleable__label {background-color: #d4ebff;}#sk-container-id-3 div.sk-label input.sk-toggleable__control:checked~label.sk-toggleable__label {background-color: #d4ebff;}#sk-container-id-3 input.sk-hidden--visually {border: 0;clip: rect(1px 1px 1px 1px);clip: rect(1px, 1px, 1px, 1px);height: 1px;margin: -1px;overflow: hidden;padding: 0;position: absolute;width: 1px;}#sk-container-id-3 div.sk-estimator {font-family: monospace;background-color: #f0f8ff;border: 1px dotted black;border-radius: 0.25em;box-sizing: border-box;margin-bottom: 0.5em;}#sk-container-id-3 div.sk-estimator:hover {background-color: #d4ebff;}#sk-container-id-3 div.sk-parallel-item::after {content: \"\";width: 100%;border-bottom: 1px solid gray;flex-grow: 1;}#sk-container-id-3 div.sk-label:hover label.sk-toggleable__label {background-color: #d4ebff;}#sk-container-id-3 div.sk-serial::before {content: \"\";position: absolute;border-left: 1px solid gray;box-sizing: border-box;top: 0;bottom: 0;left: 50%;z-index: 0;}#sk-container-id-3 div.sk-serial {display: flex;flex-direction: column;align-items: center;background-color: white;padding-right: 0.2em;padding-left: 0.2em;position: relative;}#sk-container-id-3 div.sk-item {position: relative;z-index: 1;}#sk-container-id-3 div.sk-parallel {display: flex;align-items: stretch;justify-content: center;background-color: white;position: relative;}#sk-container-id-3 div.sk-item::before, #sk-container-id-3 div.sk-parallel-item::before {content: \"\";position: absolute;border-left: 1px solid gray;box-sizing: border-box;top: 0;bottom: 0;left: 50%;z-index: -1;}#sk-container-id-3 div.sk-parallel-item {display: flex;flex-direction: column;z-index: 1;position: relative;background-color: white;}#sk-container-id-3 div.sk-parallel-item:first-child::after {align-self: flex-end;width: 50%;}#sk-container-id-3 div.sk-parallel-item:last-child::after {align-self: flex-start;width: 50%;}#sk-container-id-3 div.sk-parallel-item:only-child::after {width: 0;}#sk-container-id-3 div.sk-dashed-wrapped {border: 1px dashed gray;margin: 0 0.4em 0.5em 0.4em;box-sizing: border-box;padding-bottom: 0.4em;background-color: white;}#sk-container-id-3 div.sk-label label {font-family: monospace;font-weight: bold;display: inline-block;line-height: 1.2em;}#sk-container-id-3 div.sk-label-container {text-align: center;}#sk-container-id-3 div.sk-container {/* jupyter's `normalize.less` sets `[hidden] { display: none; }` but bootstrap.min.css set `[hidden] { display: none !important; }` so we also need the `!important` here to be able to override the default hidden behavior on the sphinx rendered scikit-learn.org. See: https://github.com/scikit-learn/scikit-learn/issues/21755 */display: inline-block !important;position: relative;}#sk-container-id-3 div.sk-text-repr-fallback {display: none;}</style><div id=\"sk-container-id-3\" class=\"sk-top-container\"><div class=\"sk-text-repr-fallback\"><pre>DecisionTreeClassifier()</pre><b>In a Jupyter environment, please rerun this cell to show the HTML representation or trust the notebook. <br />On GitHub, the HTML representation is unable to render, please try loading this page with nbviewer.org.</b></div><div class=\"sk-container\" hidden><div class=\"sk-item\"><div class=\"sk-estimator sk-toggleable\"><input class=\"sk-toggleable__control sk-hidden--visually\" id=\"sk-estimator-id-3\" type=\"checkbox\" checked><label for=\"sk-estimator-id-3\" class=\"sk-toggleable__label sk-toggleable__label-arrow\">DecisionTreeClassifier</label><div class=\"sk-toggleable__content\"><pre>DecisionTreeClassifier()</pre></div></div></div></div></div>"
            ]
          },
          "metadata": {},
          "execution_count": 60
        }
      ],
      "source": [
        "dt.fit(X_train, y_train)"
      ]
    },
    {
      "cell_type": "code",
      "execution_count": 61,
      "metadata": {
        "id": "Gc7hBmaxJcV2",
        "colab": {
          "base_uri": "https://localhost:8080/",
          "height": 564
        },
        "outputId": "3dabedd6-f2d7-4cea-8d8a-aa4403fc55d2"
      },
      "outputs": [
        {
          "output_type": "display_data",
          "data": {
            "text/plain": [
              "<Figure size 800x600 with 2 Axes>"
            ],
            "image/png": "[encoded data removed]"
          },
          "metadata": {}
        }
      ],
      "source": [
        "# evalute how the created model work with the tested data\n",
        "from sklearn.metrics import confusion_matrix\n",
        "import matplotlib.pyplot as plt\n",
        "import seaborn as sns\n",
        "\n",
        "# Evaluate the model on the test data\n",
        "y_pred = dt.predict(X_test)\n",
        "\n",
        "# Calculate the confusion matrix\n",
        "cm = confusion_matrix(y_test, y_pred)\n",
        "\n",
        "# Plot the confusion matrix\n",
        "plt.figure(figsize=(8, 6))\n",
        "sns.heatmap(cm, annot=True, cmap=plt.cm.Blues, fmt='g')\n",
        "plt.title('Confusion Matrix')\n",
        "plt.xlabel('Predicted Label')\n",
        "plt.ylabel('True Label')\n",
        "plt.show()"
      ]
    },
    {
      "cell_type": "code",
      "execution_count": 62,
      "metadata": {
        "id": "P2CCdzM3Jn0X",
        "colab": {
          "base_uri": "https://localhost:8080/"
        },
        "outputId": "b92d6789-f056-4525-8520-8bb4b6195a85"
      },
      "outputs": [
        {
          "output_type": "execute_result",
          "data": {
            "text/plain": [
              "array([1, 0, 1, ..., 2, 1, 1])"
            ]
          },
          "metadata": {},
          "execution_count": 62
        }
      ],
      "source": [
        "pred_dt = dt.predict(X_test)\n",
        "pred_dt"
      ]
    },
    {
      "cell_type": "code",
      "execution_count": 63,
      "metadata": {
        "id": "avG1cpMgJsS_",
        "colab": {
          "base_uri": "https://localhost:8080/"
        },
        "outputId": "cbf43f47-5d30-4d32-ea43-ac575e9e355a"
      },
      "outputs": [
        {
          "output_type": "stream",
          "name": "stdout",
          "text": [
            "              precision    recall  f1-score   support\n",
            "\n",
            "           0       0.87      0.88      0.88      1331\n",
            "           1       0.97      0.97      0.97      7385\n",
            "           2       0.93      0.92      0.93      1284\n",
            "\n",
            "    accuracy                           0.95     10000\n",
            "   macro avg       0.92      0.93      0.93     10000\n",
            "weighted avg       0.95      0.95      0.95     10000\n",
            "\n"
          ]
        }
      ],
      "source": [
        "dt = classification_report(y_test,pred_dt)\n",
        "print(dt)"
      ]
    },
    {
      "cell_type": "markdown",
      "source": [
        "# **XGBOOST**"
      ],
      "metadata": {
        "id": "YVyfElw3cpuF"
      }
    },
    {
      "cell_type": "code",
      "source": [
        "import xgboost as xgb\n",
        "from sklearn.metrics import accuracy_score\n",
        "from sklearn.model_selection import train_test_split\n",
        "import numpy as np\n",
        "import matplotlib.pyplot as plt\n",
        "\n",
        "# Define the XGBoost model parameters\n",
        "params = {\n",
        "    'learning_rate': 0.1,\n",
        "    'max_depth': 3,\n",
        "    'n_estimators': 100,\n",
        "    'objective': 'binary:logistic',\n",
        "    'seed': 42\n",
        "}\n",
        "\n",
        "# Train the XGBoost model\n",
        "model = xgb.XGBClassifier(**params)\n",
        "model.fit(X_train, y_train)\n",
        "\n",
        "# Test the XGBoost model\n",
        "y_pred = model.predict(X_test)\n",
        "accuracy = accuracy_score(y_test, y_pred)\n",
        "print(\"Accuracy: %.2f%%\" % (accuracy * 100.0))"
      ],
      "metadata": {
        "colab": {
          "base_uri": "https://localhost:8080/"
        },
        "id": "14FgSu6tUjLN",
        "outputId": "94344d80-a791-48c3-ffad-0c00b6e6af68"
      },
      "execution_count": 64,
      "outputs": [
        {
          "output_type": "stream",
          "name": "stdout",
          "text": [
            "Accuracy: 92.44%\n"
          ]
        }
      ]
    },
    {
      "cell_type": "code",
      "source": [
        "from sklearn.metrics import confusion_matrix\n",
        "import matplotlib.pyplot as plt\n",
        "import seaborn as sns\n",
        "from sklearn.model_selection import train_test_split\n",
        "\n",
        "X_train, X_test, y_train, y_test = train_test_split(X, y, test_size=0.2, random_state=42)\n",
        "\n",
        "# Evaluate the model on the test data\n",
        "y_pred = model.predict(X_test)\n",
        "\n",
        "# Generate the confusion matrix\n",
        "cm = confusion_matrix(y_test, y_pred)\n",
        "\n",
        "# Plot the confusion matrix\n",
        "plt.figure(figsize=(8, 6))\n",
        "sns.heatmap(cm, annot=True, cmap=plt.cm.Blues, fmt='g')\n",
        "\n",
        "plt.title('Confusion Matrix')\n",
        "plt.xlabel('Predicted Label')\n",
        "plt.ylabel('True Label')\n",
        "plt.show()"
      ],
      "metadata": {
        "colab": {
          "base_uri": "https://localhost:8080/",
          "height": 564
        },
        "id": "jWRGPXvZUzn0",
        "outputId": "62294267-2473-4c38-dd73-e4450aa5ce95"
      },
      "execution_count": 65,
      "outputs": [
        {
          "output_type": "display_data",
          "data": {
            "text/plain": [
              "<Figure size 800x600 with 2 Axes>"
            ],
            "image/png": "[encoded data removed]"
          },
          "metadata": {}
        }
      ]
    },
    {
      "cell_type": "code",
      "source": [
        "from sklearn.metrics import classification_report\n",
        "\n",
        "# Get the predicted labels for the test data\n",
        "y_pred = model.predict(X_test)\n",
        "\n",
        "# Generate the classification report\n",
        "report = classification_report(y_test, y_pred)\n",
        "\n",
        "# Print the classification report\n",
        "print(report)"
      ],
      "metadata": {
        "colab": {
          "base_uri": "https://localhost:8080/"
        },
        "id": "XuDt2cg6U155",
        "outputId": "0b3f135d-0af7-4544-869a-c9be78cd0295"
      },
      "execution_count": 66,
      "outputs": [
        {
          "output_type": "stream",
          "name": "stdout",
          "text": [
            "              precision    recall  f1-score   support\n",
            "\n",
            "           0       0.92      0.62      0.74      1330\n",
            "           1       0.93      0.99      0.96      7473\n",
            "           2       0.96      0.94      0.95      1197\n",
            "\n",
            "    accuracy                           0.93     10000\n",
            "   macro avg       0.94      0.85      0.88     10000\n",
            "weighted avg       0.93      0.93      0.93     10000\n",
            "\n"
          ]
        }
      ]
    },
    {
      "cell_type": "markdown",
      "metadata": {
        "id": "ge1ZrGQ89yjx"
      },
      "source": [
        "# **KNN**"
      ]
    },
    {
      "cell_type": "code",
      "execution_count": 67,
      "metadata": {
        "id": "qlvmLrnb9xst"
      },
      "outputs": [],
      "source": [
        "from sklearn.neighbors import KNeighborsClassifier"
      ]
    },
    {
      "cell_type": "code",
      "execution_count": 68,
      "metadata": {
        "id": "Mi8Lx0Pb92S7",
        "colab": {
          "base_uri": "https://localhost:8080/"
        },
        "outputId": "6cd20b0e-6aab-48e2-bda1-1cc9a0828ef6"
      },
      "outputs": [
        {
          "output_type": "stream",
          "name": "stdout",
          "text": [
            "[1 1 1 ... 1 1 1]\n"
          ]
        }
      ],
      "source": [
        "knn = KNeighborsClassifier(n_neighbors=7)\n",
        "  \n",
        "knn.fit(X_train, y_train)\n",
        "  \n",
        "# Predict on dataset which model has not seen before\n",
        "print(knn.predict(X_test))"
      ]
    },
    {
      "cell_type": "code",
      "execution_count": 69,
      "metadata": {
        "id": "vrZ_kWYI_oW7",
        "colab": {
          "base_uri": "https://localhost:8080/"
        },
        "outputId": "f74c359c-d314-4708-f5db-6b1144b45f19"
      },
      "outputs": [
        {
          "output_type": "execute_result",
          "data": {
            "text/plain": [
              "array([1, 1, 1, ..., 1, 1, 1])"
            ]
          },
          "metadata": {},
          "execution_count": 69
        }
      ],
      "source": [
        "pred = knn.predict(X_test)\n",
        "pred"
      ]
    },
    {
      "cell_type": "code",
      "execution_count": 70,
      "metadata": {
        "id": "sElSxP4t96cP",
        "colab": {
          "base_uri": "https://localhost:8080/",
          "height": 564
        },
        "outputId": "69326cad-4cec-4a00-914b-6800c15d6821"
      },
      "outputs": [
        {
          "output_type": "display_data",
          "data": {
            "text/plain": [
              "<Figure size 800x600 with 2 Axes>"
            ],
            "image/png": "[encoded data removed]"
          },
          "metadata": {}
        }
      ],
      "source": [
        "# evalute how the created model work with the tested data\n",
        "from sklearn.metrics import confusion_matrix\n",
        "import matplotlib.pyplot as plt\n",
        "import seaborn as sns\n",
        "\n",
        "# Evaluate the model on the test data\n",
        "y_pred = knn.predict(X_test)\n",
        "\n",
        "# Calculate the confusion matrix\n",
        "cm = confusion_matrix(y_test, y_pred)\n",
        "\n",
        "# Plot the confusion matrix\n",
        "plt.figure(figsize=(8, 6))\n",
        "sns.heatmap(cm, annot=True, cmap=plt.cm.Blues, fmt='g')\n",
        "plt.title('Confusion Matrix')\n",
        "plt.xlabel('Predicted Label')\n",
        "plt.ylabel('True Label')\n",
        "plt.show()"
      ]
    },
    {
      "cell_type": "code",
      "execution_count": 71,
      "metadata": {
        "id": "rdyp3xlZ-J34",
        "colab": {
          "base_uri": "https://localhost:8080/"
        },
        "outputId": "57c782e8-09b8-4dbb-8331-fe4131c134c6"
      },
      "outputs": [
        {
          "output_type": "stream",
          "name": "stdout",
          "text": [
            "              precision    recall  f1-score   support\n",
            "\n",
            "           0       0.54      0.41      0.47      1330\n",
            "           1       0.85      0.91      0.88      7473\n",
            "           2       0.75      0.62      0.68      1197\n",
            "\n",
            "    accuracy                           0.81     10000\n",
            "   macro avg       0.71      0.65      0.68     10000\n",
            "weighted avg       0.80      0.81      0.80     10000\n",
            "\n"
          ]
        }
      ],
      "source": [
        "knn = classification_report(y_test,pred)\n",
        "print(knn)"
      ]
    },
    {
      "cell_type": "markdown",
      "source": [
        "# **Paaswprd Checker**"
      ],
      "metadata": {
        "id": "ZgDczIib-Asd"
      }
    },
    {
      "cell_type": "code",
      "source": [
        "data = data.dropna()\n",
        "data[\"strength\"] = data[\"strength\"].map({0: \"Weak\", \n",
        "                                         1: \"Medium\",\n",
        "                                         2: \"Strong\"})\n",
        "print(data.sample(5))"
      ],
      "metadata": {
        "colab": {
          "base_uri": "https://localhost:8080/"
        },
        "id": "gzlf9YHa-DX0",
        "outputId": "eecbce5c-9d15-4638-8976-5f59869a6c46"
      },
      "execution_count": 72,
      "outputs": [
        {
          "output_type": "stream",
          "name": "stdout",
          "text": [
            "               password strength\n",
            "41575        odog66odog   Medium\n",
            "40007          a6291669   Medium\n",
            "41183        ibazufo553   Medium\n",
            "49520        zerqowd594   Medium\n",
            "26032  RSOmIDDQyMg7ax9G   Strong\n"
          ]
        }
      ]
    },
    {
      "cell_type": "code",
      "source": [
        "def word(password):\n",
        "    character=[]\n",
        "    for i in password:\n",
        "        character.append(i)\n",
        "    return character\n",
        "  \n",
        "x = np.array(data[\"password\"])\n",
        "y = np.array(data[\"strength\"])\n",
        "\n",
        "tdif = TfidfVectorizer(tokenizer=word)\n",
        "x = tdif.fit_transform(x)\n",
        "xtrain, xtest, ytrain, ytest = train_test_split(x, y, \n",
        "                                                test_size=0.05, \n",
        "                                                random_state=42)"
      ],
      "metadata": {
        "colab": {
          "base_uri": "https://localhost:8080/"
        },
        "id": "fmHcXMcw-DVD",
        "outputId": "7149f203-299d-402c-d6a8-a7e92fd8472d"
      },
      "execution_count": 73,
      "outputs": [
        {
          "output_type": "stream",
          "name": "stderr",
          "text": [
            "/usr/local/lib/python3.10/dist-packages/sklearn/feature_extraction/text.py:528: UserWarning: The parameter 'token_pattern' will not be used since 'tokenizer' is not None'\n",
            "  warnings.warn(\n"
          ]
        }
      ]
    },
    {
      "cell_type": "code",
      "source": [
        "model = RandomForestClassifier()\n",
        "model.fit(xtrain, ytrain)\n",
        "print(model.score(xtest, ytest))"
      ],
      "metadata": {
        "colab": {
          "base_uri": "https://localhost:8080/"
        },
        "id": "sfTuybhi-DRH",
        "outputId": "7aa73f0a-e242-4401-ced1-a3672a60e162"
      },
      "execution_count": 74,
      "outputs": [
        {
          "output_type": "stream",
          "name": "stdout",
          "text": [
            "0.9196\n"
          ]
        }
      ]
    },
    {
      "cell_type": "code",
      "source": [
        "import getpass\n",
        "user = getpass.getpass(\"Enter Password: \")\n",
        "data = tdif.transform([user]).toarray()\n",
        "output = model.predict(data)\n",
        "print(output)"
      ],
      "metadata": {
        "id": "u3lNLqnK-IPv"
      },
      "execution_count": null,
      "outputs": []
    }
  ],
  "metadata": {
    "colab": {
      "collapsed_sections": [
        "_iqdan2BtqlG",
        "WdblcGIot4oU",
        "oV9TUKpluHAk",
        "vMX0iqgu7u6_",
        "ge1ZrGQ89yjx"
      ],
      "provenance": []
    },
    "gpuClass": "standard",
    "kernelspec": {
      "display_name": "Python 3",
      "name": "python3"
    },
    "language_info": {
      "name": "python"
    }
  },
  "nbformat": 4,
  "nbformat_minor": 0
}